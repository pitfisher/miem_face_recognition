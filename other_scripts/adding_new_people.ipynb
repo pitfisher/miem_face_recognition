{
 "cells": [
  {
   "cell_type": "markdown",
   "id": "3f563941-39d5-4455-b464-dc097fd765b0",
   "metadata": {},
   "source": [
    "***Скрипт для добавления новых людей в face_dataset***"
   ]
  },
  {
   "cell_type": "code",
   "execution_count": 1,
   "id": "cc0cbc0a-9a01-4b46-b901-877e1654700b",
   "metadata": {},
   "outputs": [],
   "source": [
    "import os"
   ]
  },
  {
   "cell_type": "code",
   "execution_count": null,
   "id": "bf5f50ed-82b4-428b-aef1-daf11472ce3b",
   "metadata": {},
   "outputs": [],
   "source": [
    "base_folder = '/content/gdrive/MyDrive/face_dataset/new_people'\n",
    "output_folder = '/content/gdrive/MyDrive/face_dataset/dataset'"
   ]
  },
  {
   "cell_type": "code",
   "execution_count": null,
   "id": "c2b82ac2-65e4-4ed4-9f0e-ed88d8c6ef41",
   "metadata": {},
   "outputs": [],
   "source": [
    "folders = [entry.name for entry in os.scandir(base_folder) if entry.is_dir()]\n",
    "\n",
    "new_folder_name = \"upd_face_dataset\"\n",
    "new_folder_path = os.path.join(output_folder, new_folder_name)\n",
    "os.makedirs(new_folder_path, exist_ok=True)\n",
    "\n",
    "main_folders = [\"up\", \"center\", \"down\"]\n",
    "subfolders = [\"45_left\", \"center\", \"45_right\"]"
   ]
  },
  {
   "cell_type": "code",
   "execution_count": null,
   "id": "e17e0b24-3222-4287-981a-e22ef67a3af4",
   "metadata": {},
   "outputs": [],
   "source": [
    "for main_folder in main_folders:\n",
    "    main_folder_path = os.path.join(new_folder_path, main_folder)\n",
    "    os.makedirs(main_folder_path, exist_ok=True)\n",
    "\n",
    "    for subfolder in subfolders:\n",
    "        subfolder_path = os.path.join(main_folder_path, subfolder)\n",
    "        os.makedirs(subfolder_path, exist_ok=True)\n",
    "\n",
    "        for folder_name in folders:\n",
    "            folder_path = os.path.join(subfolder_path, folder_name)\n",
    "            os.makedirs(folder_path, exist_ok=True)"
   ]
  }
 ],
 "metadata": {
  "kernelspec": {
   "display_name": "Python 3 (ipykernel)",
   "language": "python",
   "name": "python3"
  },
  "language_info": {
   "codemirror_mode": {
    "name": "ipython",
    "version": 3
   },
   "file_extension": ".py",
   "mimetype": "text/x-python",
   "name": "python",
   "nbconvert_exporter": "python",
   "pygments_lexer": "ipython3",
   "version": "3.11.0rc1"
  }
 },
 "nbformat": 4,
 "nbformat_minor": 5
}
