{
 "cells": [
  {
   "cell_type": "markdown",
   "metadata": {
    "colab_type": "text",
    "id": "view-in-github"
   },
   "source": [
    "<a href=\"https://colab.research.google.com/github/pitfisher/miem_face_recognition/blob/main/make_dirs.ipynb\" target=\"_parent\"><img src=\"https://colab.research.google.com/assets/colab-badge.svg\" alt=\"Open In Colab\"/></a>"
   ]
  },
  {
   "cell_type": "code",
   "execution_count": 9,
   "metadata": {
    "id": "FN0DCs9B9eK9"
   },
   "outputs": [],
   "source": [
    "import os\n",
    "# from google.colab import drive"
   ]
  },
  {
   "cell_type": "code",
   "execution_count": null,
   "metadata": {
    "colab": {
     "base_uri": "https://localhost:8080/"
    },
    "id": "YStDGy4i9CZK",
    "outputId": "1dc112d8-dfff-4f10-d5e2-be6ffbaead2b"
   },
   "outputs": [
    {
     "name": "stdout",
     "output_type": "stream",
     "text": [
      "Mounted at /content/gdrive\n"
     ]
    }
   ],
   "source": [
    "drive.mount('/content/gdrive')"
   ]
  },
  {
   "cell_type": "code",
   "execution_count": null,
   "metadata": {
    "id": "8m2DB5SH9_c6"
   },
   "outputs": [],
   "source": [
    "base_folder = '/content/gdrive/MyDrive/face_dataset/noname'\n",
    "output_folder = '/content/gdrive/MyDrive/face_dataset/dataset'"
   ]
  },
  {
   "cell_type": "code",
   "execution_count": null,
   "metadata": {
    "id": "Tq1LDntj93CD"
   },
   "outputs": [],
   "source": [
    "folders = [entry.name for entry in os.scandir(base_folder) if entry.is_dir()]\n",
    "\n",
    "data_name = \"upd_face_dataset\"\n",
    "new_folder_path = os.path.join(output_folder, new_folder_name)\n",
    "os.makedirs(new_folder_path, exist_ok=True)"
   ]
  },
  {
   "cell_type": "code",
   "execution_count": null,
   "metadata": {},
   "outputs": [],
   "source": [
    "dataset_path = \"\""
   ]
  },
  {
   "cell_type": "code",
   "execution_count": 3,
   "metadata": {},
   "outputs": [],
   "source": [
    "new_person_folder_path = r\"C:\\Users\\HYPERPC\\Desktop\\aabatashova\"\n",
    "new_person_mail = new_person_folder_path.split(\"\\\\\")[-1]"
   ]
  },
  {
   "cell_type": "code",
   "execution_count": 5,
   "metadata": {},
   "outputs": [],
   "source": [
    "people_hse_mails = [new_person_mail]"
   ]
  },
  {
   "cell_type": "code",
   "execution_count": 6,
   "metadata": {},
   "outputs": [],
   "source": [
    "vertical_folders = [\"up\", \"center\", \"down\"]\n",
    "horizontal_folders = [\"45_left\", \"center\", \"45_right\"]"
   ]
  },
  {
   "cell_type": "code",
   "execution_count": 12,
   "metadata": {
    "id": "iOjzrgLU-Crp"
   },
   "outputs": [
    {
     "ename": "NameError",
     "evalue": "name 'dataset_path' is not defined",
     "output_type": "error",
     "traceback": [
      "\u001b[0;31m---------------------------------------------------------------------------\u001b[0m",
      "\u001b[0;31mNameError\u001b[0m                                 Traceback (most recent call last)",
      "Cell \u001b[0;32mIn[12], line 2\u001b[0m\n\u001b[1;32m      1\u001b[0m \u001b[38;5;28;01mfor\u001b[39;00m vertical_folder_name \u001b[38;5;129;01min\u001b[39;00m vertical_folders:\n\u001b[0;32m----> 2\u001b[0m     vertical_folder_path \u001b[38;5;241m=\u001b[39m os\u001b[38;5;241m.\u001b[39mpath\u001b[38;5;241m.\u001b[39mjoin(\u001b[43mdataset_path\u001b[49m, vertical_folder_name)\n\u001b[1;32m      3\u001b[0m     os\u001b[38;5;241m.\u001b[39mmakedirs(vertical_folder_path, exist_ok\u001b[38;5;241m=\u001b[39m\u001b[38;5;28;01mTrue\u001b[39;00m)\n\u001b[1;32m      5\u001b[0m     \u001b[38;5;28;01mfor\u001b[39;00m horizontal_folder_name \u001b[38;5;129;01min\u001b[39;00m horizontal_folders:\n",
      "\u001b[0;31mNameError\u001b[0m: name 'dataset_path' is not defined"
     ]
    }
   ],
   "source": [
    "for vertical_folder_name in vertical_folders:\n",
    "    vertical_folder_path = os.path.join(dataset_path, vertical_folder_name)\n",
    "    os.makedirs(vertical_folder_path, exist_ok=True)\n",
    "\n",
    "    for horizontal_folder_name in horizontal_folders:\n",
    "        horizontal_folder_path = os.path.join(vertical_folder_path, horizontal_folder_name)\n",
    "        os.makedirs(horizontal_path, exist_ok=True)\n",
    "\n",
    "        for person_hse_mail in people_hse_mails:\n",
    "            new_person_folder_path = os.path.join(subfolder_path, person_hse_mail)\n",
    "            os.makedirs(new_person_folder_path, exist_ok=True)"
   ]
  },
  {
   "cell_type": "markdown",
   "metadata": {
    "id": "yrVzEx5R6YkZ"
   },
   "source": [
    "удаление не .jpg файлов для более удобной сортировки\n"
   ]
  },
  {
   "cell_type": "code",
   "execution_count": null,
   "metadata": {
    "id": "Lza-4CpkFEtK"
   },
   "outputs": [],
   "source": [
    "def delete(base_folder):\n",
    "    for root, dirs, files in os.walk(base_folder):\n",
    "        for file in files:\n",
    "            file_path = os.path.join(root, file)\n",
    "            if not file.lower().endswith(\".jpg\"):\n",
    "                try:\n",
    "                    os.remove(file_path)\n",
    "                    print(f\"Удален файл: {file_path}\")\n",
    "                except Exception as e:\n",
    "                    print(f\"Ошибка: {file_path}: {e}\")\n",
    "\n",
    "delete(base_folder)"
   ]
  }
 ],
 "metadata": {
  "colab": {
   "authorship_tag": "ABX9TyON5ymIwX3WSa33Kvefzyhc",
   "include_colab_link": true,
   "provenance": []
  },
  "kernelspec": {
   "display_name": "Python 3 (ipykernel)",
   "language": "python",
   "name": "python3"
  },
  "language_info": {
   "codemirror_mode": {
    "name": "ipython",
    "version": 3
   },
   "file_extension": ".py",
   "mimetype": "text/x-python",
   "name": "python",
   "nbconvert_exporter": "python",
   "pygments_lexer": "ipython3",
   "version": "3.11.0rc1"
  }
 },
 "nbformat": 4,
 "nbformat_minor": 4
}
