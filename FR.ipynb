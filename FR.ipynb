{
  "nbformat": 4,
  "nbformat_minor": 0,
  "metadata": {
    "colab": {
      "provenance": [],
      "gpuType": "T4",
      "authorship_tag": "ABX9TyNmgxpYpLKiYp/xsabLSw4K",
      "include_colab_link": true
    },
    "kernelspec": {
      "name": "python3",
      "display_name": "Python 3"
    },
    "language_info": {
      "name": "python"
    },
    "accelerator": "GPU"
  },
  "cells": [
    {
      "cell_type": "markdown",
      "metadata": {
        "id": "view-in-github",
        "colab_type": "text"
      },
      "source": [
        "<a href=\"https://colab.research.google.com/github/pitfisher/miem_face_recognition/blob/main/FR.ipynb\" target=\"_parent\"><img src=\"https://colab.research.google.com/assets/colab-badge.svg\" alt=\"Open In Colab\"/></a>"
      ]
    },
    {
      "cell_type": "code",
      "source": [
        "!pip install deepface\n",
        "!pip install matplotlib"
      ],
      "metadata": {
        "id": "6_xPg7CuKNTS"
      },
      "execution_count": null,
      "outputs": []
    },
    {
      "cell_type": "code",
      "execution_count": null,
      "metadata": {
        "id": "kawWam89IW-A"
      },
      "outputs": [],
      "source": [
        "import cv2\n",
        "import time\n",
        "import os\n",
        "import glob\n",
        "from PIL import Image\n",
        "from deepface import DeepFace\n",
        "from google.colab import drive\n",
        "import matplotlib.pyplot as plt\n",
        "import numpy as np\n",
        "import pandas as pd\n",
        "from tqdm import tqdm"
      ]
    },
    {
      "cell_type": "code",
      "source": [
        "drive.mount('/content/gdrive')\n",
        "\n",
        "input_folder = ''\n",
        "tmp_folder = \"tmp\"\n",
        "os.makedirs(tmp_folder, exist_ok=True)\n",
        "\n",
        "resolutions = [1024, 768, 512, 256, 224, 128, 112, 96, 64, 32]"
      ],
      "metadata": {
        "colab": {
          "base_uri": "https://localhost:8080/"
        },
        "id": "RBeapy7oWlBz",
        "outputId": "29abd27e-33e1-44b1-ec33-ee835c10b87c"
      },
      "execution_count": null,
      "outputs": [
        {
          "output_type": "stream",
          "name": "stdout",
          "text": [
            "Drive already mounted at /content/gdrive; to attempt to forcibly remount, call drive.mount(\"/content/gdrive\", force_remount=True).\n"
          ]
        }
      ]
    },
    {
      "cell_type": "code",
      "source": [
        "def crop_to_square(image, face_info):\n",
        "    x, y, w, h = face_info['facial_area']['x'], face_info['facial_area']['y'], face_info['facial_area']['w'], \\\n",
        "                 face_info['facial_area']['h']\n",
        "\n",
        "    outer_border_scale = 0.5\n",
        "    img_w, img_h, _ = image.shape\n",
        "\n",
        "    square_size = int(max(w, h) / outer_border_scale)\n",
        "    to_closest_border = min(x, y, img_w - x, img_h - y)\n",
        "\n",
        "    square_size = min(square_size, to_closest_border * 2)\n",
        "\n",
        "    new_x = x + w // 2 - square_size // 2\n",
        "    new_y = y + h // 2 - square_size // 2\n",
        "\n",
        "    cropped_img = image[new_y: new_y + square_size, new_x: new_x + square_size]\n",
        "\n",
        "    return cropped_img"
      ],
      "metadata": {
        "id": "iYjb2uBP9oPd"
      },
      "execution_count": null,
      "outputs": []
    },
    {
      "cell_type": "code",
      "source": [
        "def resize_image(image, new_resolution):\n",
        "    resized_image = cv2.resize(image, new_resolution)\n",
        "    return resized_image"
      ],
      "metadata": {
        "id": "UyDe3KVlM-he"
      },
      "execution_count": null,
      "outputs": []
    },
    {
      "cell_type": "code",
      "source": [
        "def save_to_csv(data, columns, filename):\n",
        "    df = pd.DataFrame(data, columns=columns)\n",
        "    df.to_csv(filename + '.csv', index=False)"
      ],
      "metadata": {
        "id": "_IyCDVZsYzQe"
      },
      "execution_count": null,
      "outputs": []
    },
    {
      "cell_type": "code",
      "source": [
        "files = glob.glob(os.path.join(input_folder, \"**\", \"*.JPG\"), recursive=True)\n",
        "\n",
        "data = {}\n",
        "\n",
        "for img_path in tqdm(files, desc=\"Processing images\", unit=\"image\"):\n",
        "    path = img_path.split(os.path.sep)\n",
        "    filename = f'{path[-2]}_{path[-1]}'\n",
        "    ds_name = f'VGG_{path[-4]}_{path[-3]}'\n",
        "\n",
        "    try:\n",
        "        face_info = DeepFace.extract_faces(img_path=img_path, detector_backend=\"retinaface\")[0]\n",
        "    except ValueError as e:\n",
        "     #   print(f\"No face found for {filename}, error message: {str(e)}\")\n",
        "        continue\n",
        "\n",
        "    image = cv2.imread(img_path)\n",
        "\n",
        "    cropped_img = crop_to_square(image, face_info)\n",
        "    resized_img = resize_image(cropped_img, (resolutions[0], resolutions[0]))\n",
        "\n",
        "    metrics = []\n",
        "\n",
        "    for resolution in resolutions:\n",
        "        try:\n",
        "            resized_img = resize_image(cropped_img, (resolution, resolution))\n",
        "\n",
        "            start_time = time.perf_counter()\n",
        "\n",
        "            result = DeepFace.verify(img1_path=cropped_img,\n",
        "                                     img2_path=resized_img,\n",
        "                                     enforce_detection=True,\n",
        "                                     detector_backend=\"retinaface\",\n",
        "                                     model_name=\"VGG-Face\",\n",
        "                                     distance_metric=\"euclidean_l2\"\n",
        "                                     )\n",
        "\n",
        "            end_time = time.perf_counter()\n",
        "            fin_time = end_time - start_time\n",
        "\n",
        "           # print(f'verify for {filename} in {ds_name} for resolution {resolution} processed in {fin_time}')\n",
        "            metrics.append(f'{result[\"distance\"]:.5f}')\n",
        "            metrics.append(f'{fin_time:.5f}')\n",
        "\n",
        "        except ValueError as e:\n",
        "           # print(f\"No face found for {filename} and resolution {resolution}, error message: {str(e)}\")\n",
        "            metrics.extend([None, None])\n",
        "\n",
        "    if ds_name not in data:\n",
        "        data[ds_name] = []\n",
        "\n",
        "    data[ds_name].append([filename] + metrics)\n",
        "\n",
        "columns = ['name'] + [f\"{res}_{metric}\" for res in resolutions for metric in [\"distance\", \"time\"]]\n",
        "\n",
        "for ds_name, ds in data.items():\n",
        "    save_to_csv(ds, columns, ds_name)"
      ],
      "metadata": {
        "colab": {
          "base_uri": "https://localhost:8080/"
        },
        "id": "2aGBMAE5DusN",
        "outputId": "4e53b2e4-035a-4b5e-c8ea-c35ef188eb6a"
      },
      "execution_count": null,
      "outputs": [
        {
          "output_type": "stream",
          "name": "stderr",
          "text": [
            "Processing images: 100%|██████████| 9/9 [00:35<00:00,  3.96s/image]\n"
          ]
        }
      ]
    }
  ]
}