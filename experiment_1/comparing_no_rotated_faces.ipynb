{
 "cells": [
  {
   "cell_type": "code",
   "execution_count": null,
   "id": "d4792208-cc19-43d3-bbd1-742ce3e48caf",
   "metadata": {},
   "outputs": [],
   "source": [
    "# https://stackoverflow.com/questions/55313610/importerror-libgl-so-1-cannot-open-shared-object-file-no-such-file-or-directo\n",
    "!apt-get update && apt-get install libgl1"
   ]
  },
  {
   "cell_type": "code",
   "execution_count": null,
   "id": "fb388cc1-a35c-499e-8d91-071dc3c77ab5",
   "metadata": {},
   "outputs": [],
   "source": [
    "!pip install deepface -q\n",
    "!pip install matplotlib -q"
   ]
  },
  {
   "cell_type": "code",
   "execution_count": 80,
   "id": "d89251a7-1c40-472d-9dc2-1bc6bb384aa1",
   "metadata": {
    "tags": []
   },
   "outputs": [],
   "source": [
    "import cv2\n",
    "from PIL import Image, ImageOps\n",
    "import time\n",
    "import os\n",
    "import glob\n",
    "from deepface import DeepFace\n",
    "import matplotlib.pyplot as plt\n",
    "import numpy as np\n",
    "import pandas as pd\n",
    "from tqdm.notebook import tqdm"
   ]
  },
  {
   "cell_type": "code",
   "execution_count": 81,
   "id": "3038f192-f3db-4a87-a9ce-961bc0de5676",
   "metadata": {
    "tags": []
   },
   "outputs": [],
   "source": [
    "folder_path = '/tf/data/upd_face_dataset/center/center'\n",
    "tmp_folder = \"tmp_PIL\"\n",
    "os.makedirs(tmp_folder, exist_ok=True)"
   ]
  },
  {
   "cell_type": "code",
   "execution_count": 82,
   "id": "9b1e8f5c-3ccb-4021-a601-ca91f1b19d82",
   "metadata": {},
   "outputs": [],
   "source": [
    "model_names = [\n",
    "    # \"VGG-Face\",\n",
    "    # \"Facenet\",\n",
    "    # \"Facenet512\",\n",
    "    # \"OpenFace\",\n",
    "    \"DeepFace\",\n",
    "    \"DeepID\",\n",
    "    \"ArcFace\",\n",
    "    \"SFace\"\n",
    "]"
   ]
  },
  {
   "cell_type": "code",
   "execution_count": 83,
   "id": "de49eff3-7043-445e-9733-495511a21987",
   "metadata": {
    "tags": []
   },
   "outputs": [],
   "source": [
    "model_resolutions = {\n",
    "    \"VGG-Face\": 224,\n",
    "    \"Facenet\": 220,\n",
    "    \"Facenet512\": 160,\n",
    "    \"OpenFace\": 96,\n",
    "    \"DeepFace\": 152,\n",
    "    \"DeepID\": 55,\n",
    "    \"ArcFace\": 112,\n",
    "    \"SFace\": 112,\n",
    "}"
   ]
  },
  {
   "cell_type": "code",
   "execution_count": 84,
   "id": "1e8dea41-88ab-4e91-a69f-1bd42547f6e8",
   "metadata": {
    "tags": []
   },
   "outputs": [],
   "source": [
    "def crop_to_square_opencv(image, face_info, border_pixels=250):\n",
    "    x, y, w, h = face_info['facial_area']['x'], face_info['facial_area']['y'], face_info['facial_area']['w'], face_info['facial_area']['h']\n",
    "\n",
    "    square_size = max(w, h) + 2 * border_pixels\n",
    "    new_x = max(0, x + w // 2 - square_size // 2)\n",
    "    new_y = max(0, y + h // 2 - square_size // 2)\n",
    "\n",
    "    cropped_img = image[new_y: new_y + square_size, new_x: new_x + square_size]\n",
    "\n",
    "    return cropped_img"
   ]
  },
  {
   "cell_type": "code",
   "execution_count": 85,
   "id": "57526b06-1704-4ff3-b469-47b68ee66bd4",
   "metadata": {},
   "outputs": [],
   "source": [
    "def crop_to_square_pil(image, face_info, border_pixels=0):\n",
    "    # print(f\"Face info: {face_info}\")\n",
    "    x, y, w, h = face_info['facial_area']['x'], face_info['facial_area']['y'], face_info['facial_area']['w'], face_info['facial_area']['h']\n",
    "\n",
    "    # print(f\"x: {x}, y: {y}, w: {w}, h: {h}\")\n",
    "    square_size = max(w, h) + 2 * border_pixels\n",
    "    # new_x = max(0, x + w // 2 - square_size // 2)\n",
    "    # new_y = max(0, y + h // 2 - square_size // 2)\n",
    "\n",
    "    new_x = max(0, x)\n",
    "    new_y = max(0, y)\n",
    "    cropped_image = image.crop((new_x - (h-w)//2 - border_pixels, new_y - border_pixels, new_x - (h-w)//2 + square_size, new_y + square_size))\n",
    "\n",
    "    return cropped_image"
   ]
  },
  {
   "cell_type": "code",
   "execution_count": 86,
   "id": "7efbbc3b-4c28-4780-9888-97e0767fbcf4",
   "metadata": {
    "tags": []
   },
   "outputs": [],
   "source": [
    "def resize_image_opencv(image, new_resolution):\n",
    "    resized_image = cv2.resize(image, new_resolution)\n",
    "    return resized_image"
   ]
  },
  {
   "cell_type": "code",
   "execution_count": 87,
   "id": "f5e4b78b-ce44-4c8b-832e-6517eddd40b6",
   "metadata": {},
   "outputs": [],
   "source": [
    "def resize_image_pil(image, new_resolution):\n",
    "    resized_img = image.resize(new_resolution, Image.LANCZOS)\n",
    "    return resized_img"
   ]
  },
  {
   "cell_type": "code",
   "execution_count": 88,
   "id": "c97733aa-ff01-427d-a8b7-4881a744e256",
   "metadata": {
    "tags": []
   },
   "outputs": [],
   "source": [
    "#!export XLA_FLAGS=--xla_gpu_cuda_data_dir=/usr/local/cuda"
   ]
  },
  {
   "cell_type": "code",
   "execution_count": 89,
   "id": "1ffa20d5-650a-4601-8c38-3bec60b67166",
   "metadata": {
    "tags": []
   },
   "outputs": [
    {
     "name": "stdout",
     "output_type": "stream",
     "text": [
      "README.md  cuda     cuda-11.8  games\tlib  package_info.json\tsbin   src\n",
      "bin\t   cuda-11  etc        include\tman  requirements.txt\tshare\n"
     ]
    }
   ],
   "source": [
    "!ls /usr/local/"
   ]
  },
  {
   "cell_type": "code",
   "execution_count": 54,
   "id": "eb22e1c2-91fc-4172-996e-afd4afdc62c7",
   "metadata": {},
   "outputs": [
    {
     "data": {
      "application/vnd.jupyter.widget-view+json": {
       "model_id": "851185b1b3eb4d3693aeee299921e229",
       "version_major": 2,
       "version_minor": 0
      },
      "text/plain": [
       "Creating images cropped&resized to 224 for VGG-Face:   0%|          | 0/76 [00:00<?, ?image/s]"
      ]
     },
     "metadata": {},
     "output_type": "display_data"
    },
    {
     "data": {
      "application/vnd.jupyter.widget-view+json": {
       "model_id": "59461e7199c14935bfdd75db24f6141b",
       "version_major": 2,
       "version_minor": 0
      },
      "text/plain": [
       "Creating images cropped&resized to 220 for Facenet:   0%|          | 0/76 [00:00<?, ?image/s]"
      ]
     },
     "metadata": {},
     "output_type": "display_data"
    },
    {
     "data": {
      "application/vnd.jupyter.widget-view+json": {
       "model_id": "4ae7abd166a14600883e1c7004794d7e",
       "version_major": 2,
       "version_minor": 0
      },
      "text/plain": [
       "Creating images cropped&resized to 160 for Facenet512:   0%|          | 0/76 [00:00<?, ?image/s]"
      ]
     },
     "metadata": {},
     "output_type": "display_data"
    },
    {
     "data": {
      "application/vnd.jupyter.widget-view+json": {
       "model_id": "c77284e533ee423eabeace0b2cceadd7",
       "version_major": 2,
       "version_minor": 0
      },
      "text/plain": [
       "Creating images cropped&resized to 96 for OpenFace:   0%|          | 0/76 [00:00<?, ?image/s]"
      ]
     },
     "metadata": {},
     "output_type": "display_data"
    },
    {
     "data": {
      "application/vnd.jupyter.widget-view+json": {
       "model_id": "7f71044727094827b46adcb6051b8fdb",
       "version_major": 2,
       "version_minor": 0
      },
      "text/plain": [
       "Creating images cropped&resized to 152 for DeepFace:   0%|          | 0/76 [00:00<?, ?image/s]"
      ]
     },
     "metadata": {},
     "output_type": "display_data"
    },
    {
     "data": {
      "application/vnd.jupyter.widget-view+json": {
       "model_id": "3db8a08507ac41daa1f7850c2882ba96",
       "version_major": 2,
       "version_minor": 0
      },
      "text/plain": [
       "Creating images cropped&resized to 55 for DeepID:   0%|          | 0/76 [00:00<?, ?image/s]"
      ]
     },
     "metadata": {},
     "output_type": "display_data"
    },
    {
     "data": {
      "application/vnd.jupyter.widget-view+json": {
       "model_id": "27e212db49634458ae195fee8f5da96a",
       "version_major": 2,
       "version_minor": 0
      },
      "text/plain": [
       "Creating images cropped&resized to 112 for ArcFace:   0%|          | 0/76 [00:00<?, ?image/s]"
      ]
     },
     "metadata": {},
     "output_type": "display_data"
    },
    {
     "data": {
      "application/vnd.jupyter.widget-view+json": {
       "model_id": "da17be686f064923bfa693aa6cfef585",
       "version_major": 2,
       "version_minor": 0
      },
      "text/plain": [
       "Creating images cropped&resized to 112 for SFace:   0%|          | 0/76 [00:00<?, ?image/s]"
      ]
     },
     "metadata": {},
     "output_type": "display_data"
    }
   ],
   "source": [
    "for model_name in model_names:\n",
    "    resolution = model_resolutions[model_name]\n",
    "    df_list = []\n",
    "\n",
    "    files = glob.glob(os.path.join(folder_path, \"**\", \"*.JPG\"), recursive=True)\n",
    "    # print(files)\n",
    "    for img_path in tqdm(files, desc=f'Creating images cropped&resized to {resolution} for {model_name}', unit='image'):\n",
    "        rel_path = os.path.relpath(img_path, folder_path)\n",
    "        rel_path = rel_path.replace(os.path.sep, \"_\")\n",
    "        output_path = os.path.join(tmp_folder, f\"{rel_path[:-4]}_{resolution}.jpg\")\n",
    "        # print(f\"{output_path}\")\n",
    "        if not os.path.exists(output_path):\n",
    "            image = Image.open(img_path)\n",
    "            image = ImageOps.exif_transpose(image)\n",
    "            # display(image)\n",
    "            faces = DeepFace.extract_faces(img_path=img_path, detector_backend=\"retinaface\")\n",
    "            for face_info in faces:\n",
    "                cropped_face = crop_to_square_pil(image, face_info)\n",
    "                resized_img = resize_image_pil(cropped_face, (resolution, resolution))\n",
    "                # display(resized_img)\n",
    "                # time.sleep(3)\n",
    "                resized_img.save(output_path)"
   ]
  },
  {
   "cell_type": "code",
   "execution_count": 90,
   "id": "7bccbf78-3162-4ced-81b5-b2b6860af9f9",
   "metadata": {},
   "outputs": [
    {
     "data": {
      "application/vnd.jupyter.widget-view+json": {
       "model_id": "e07e26ef32e841b18dba67b440822991",
       "version_major": 2,
       "version_minor": 0
      },
      "text/plain": [
       "Processing with DeepFace:   0%|          | 0/76 [00:00<?, ?image/s]"
      ]
     },
     "metadata": {},
     "output_type": "display_data"
    },
    {
     "data": {
      "application/vnd.jupyter.widget-view+json": {
       "model_id": "9e1e356ef9da4dafbaa9c96a2bb1009d",
       "version_major": 2,
       "version_minor": 0
      },
      "text/plain": [
       "Comparing all faces to aabarstok_glasses_152.jpg:   0%|          | 0/76 [00:00<?, ?image/s]"
      ]
     },
     "metadata": {},
     "output_type": "display_data"
    },
    {
     "data": {
      "application/vnd.jupyter.widget-view+json": {
       "model_id": "a6162d1c897d4769b8c86bbe5a5314fa",
       "version_major": 2,
       "version_minor": 0
      },
      "text/plain": [
       "Comparing all faces to aabarstok_no_glasses_152.jpg:   0%|          | 0/76 [00:00<?, ?image/s]"
      ]
     },
     "metadata": {},
     "output_type": "display_data"
    },
    {
     "data": {
      "application/vnd.jupyter.widget-view+json": {
       "model_id": "819491d100344d2392c62c398c65302a",
       "version_major": 2,
       "version_minor": 0
      },
      "text/plain": [
       "Comparing all faces to aamartynenko_9_no_glasses_152.jpg:   0%|          | 0/76 [00:00<?, ?image/s]"
      ]
     },
     "metadata": {},
     "output_type": "display_data"
    },
    {
     "data": {
      "application/vnd.jupyter.widget-view+json": {
       "model_id": "2f557fee3ce647dca1f8d97f14bf997e",
       "version_major": 2,
       "version_minor": 0
      },
      "text/plain": [
       "Comparing all faces to aazheltov_1_no_glasses_152.jpg:   0%|          | 0/76 [00:00<?, ?image/s]"
      ]
     },
     "metadata": {},
     "output_type": "display_data"
    },
    {
     "data": {
      "application/vnd.jupyter.widget-view+json": {
       "model_id": "575573ede5f648c89df3b93314bb1bf9",
       "version_major": 2,
       "version_minor": 0
      },
      "text/plain": [
       "Comparing all faces to adletunov_no_glasses_152.jpg:   0%|          | 0/76 [00:00<?, ?image/s]"
      ]
     },
     "metadata": {},
     "output_type": "display_data"
    },
    {
     "data": {
      "application/vnd.jupyter.widget-view+json": {
       "model_id": "0d26eab5ff4c42c9aada50a75aa27c98",
       "version_major": 2,
       "version_minor": 0
      },
      "text/plain": [
       "Comparing all faces to adpiskunov_no_glasses_152.jpg:   0%|          | 0/76 [00:00<?, ?image/s]"
      ]
     },
     "metadata": {},
     "output_type": "display_data"
    },
    {
     "data": {
      "application/vnd.jupyter.widget-view+json": {
       "model_id": "e51cd7839d9140b9adaf7461770f91e8",
       "version_major": 2,
       "version_minor": 0
      },
      "text/plain": [
       "Comparing all faces to agmargaryan_no_glasses_152.jpg:   0%|          | 0/76 [00:00<?, ?image/s]"
      ]
     },
     "metadata": {},
     "output_type": "display_data"
    },
    {
     "data": {
      "application/vnd.jupyter.widget-view+json": {
       "model_id": "e0240cecfbbf424e941c993e6fcc894b",
       "version_major": 2,
       "version_minor": 0
      },
      "text/plain": [
       "Comparing all faces to aimilovanova_no_glasses_152.jpg:   0%|          | 0/76 [00:00<?, ?image/s]"
      ]
     },
     "metadata": {},
     "output_type": "display_data"
    },
    {
     "data": {
      "application/vnd.jupyter.widget-view+json": {
       "model_id": "d78ad34085ae472f9f0228bbd8d30034",
       "version_major": 2,
       "version_minor": 0
      },
      "text/plain": [
       "Comparing all faces to alalkhromov_no_glasses_152.jpg:   0%|          | 0/76 [00:00<?, ?image/s]"
      ]
     },
     "metadata": {},
     "output_type": "display_data"
    },
    {
     "data": {
      "application/vnd.jupyter.widget-view+json": {
       "model_id": "3d30b17b61444ba095cdfa733d9cd9d0",
       "version_major": 2,
       "version_minor": 0
      },
      "text/plain": [
       "Comparing all faces to ameliseenko_glasses_152.jpg:   0%|          | 0/76 [00:00<?, ?image/s]"
      ]
     },
     "metadata": {},
     "output_type": "display_data"
    },
    {
     "data": {
      "application/vnd.jupyter.widget-view+json": {
       "model_id": "4277fecc96cc42f199a489e1d25bee92",
       "version_major": 2,
       "version_minor": 0
      },
      "text/plain": [
       "Comparing all faces to ameliseenko_no_glasses_152.jpg:   0%|          | 0/76 [00:00<?, ?image/s]"
      ]
     },
     "metadata": {},
     "output_type": "display_data"
    },
    {
     "data": {
      "application/vnd.jupyter.widget-view+json": {
       "model_id": "17d6a945f578451cb19c432b08d79f13",
       "version_major": 2,
       "version_minor": 0
      },
      "text/plain": [
       "Comparing all faces to amsirotkin_no_glasses_152.jpg:   0%|          | 0/76 [00:00<?, ?image/s]"
      ]
     },
     "metadata": {},
     "output_type": "display_data"
    },
    {
     "data": {
      "application/vnd.jupyter.widget-view+json": {
       "model_id": "fc2e2edd001d4a708b48ef1793d4fcc3",
       "version_major": 2,
       "version_minor": 0
      },
      "text/plain": [
       "Comparing all faces to amzayakina_glasses_152.jpg:   0%|          | 0/76 [00:00<?, ?image/s]"
      ]
     },
     "metadata": {},
     "output_type": "display_data"
    },
    {
     "data": {
      "application/vnd.jupyter.widget-view+json": {
       "model_id": "31ade1a48f8a461c8a43fdc85289984c",
       "version_major": 2,
       "version_minor": 0
      },
      "text/plain": [
       "Comparing all faces to amzayakina_no_glasses_152.jpg:   0%|          | 0/76 [00:00<?, ?image/s]"
      ]
     },
     "metadata": {},
     "output_type": "display_data"
    },
    {
     "data": {
      "application/vnd.jupyter.widget-view+json": {
       "model_id": "10c2cbff15164ce38274a97209698280",
       "version_major": 2,
       "version_minor": 0
      },
      "text/plain": [
       "Comparing all faces to appecherskih_no_glasses_152.jpg:   0%|          | 0/76 [00:00<?, ?image/s]"
      ]
     },
     "metadata": {},
     "output_type": "display_data"
    },
    {
     "data": {
      "application/vnd.jupyter.widget-view+json": {
       "model_id": "f2ac9b06d4934237b08ae9f980cc1c60",
       "version_major": 2,
       "version_minor": 0
      },
      "text/plain": [
       "Comparing all faces to arandarbua_no_glasses_152.jpg:   0%|          | 0/76 [00:00<?, ?image/s]"
      ]
     },
     "metadata": {},
     "output_type": "display_data"
    },
    {
     "data": {
      "application/vnd.jupyter.widget-view+json": {
       "model_id": "f4cc7ad7b7a4462db992a39ac6df21bc",
       "version_major": 2,
       "version_minor": 0
      },
      "text/plain": [
       "Comparing all faces to archilingarov_no_glasses_152.jpg:   0%|          | 0/76 [00:00<?, ?image/s]"
      ]
     },
     "metadata": {},
     "output_type": "display_data"
    },
    {
     "data": {
      "application/vnd.jupyter.widget-view+json": {
       "model_id": "c9ca18e1ecd44f129d4c9cafb49250d9",
       "version_major": 2,
       "version_minor": 0
      },
      "text/plain": [
       "Comparing all faces to arkhabibullina_3_no_glasses_152.jpg:   0%|          | 0/76 [00:00<?, ?image/s]"
      ]
     },
     "metadata": {},
     "output_type": "display_data"
    },
    {
     "data": {
      "application/vnd.jupyter.widget-view+json": {
       "model_id": "e9dd2e60766240ed8dd9a6b7f7c4d734",
       "version_major": 2,
       "version_minor": 0
      },
      "text/plain": [
       "Comparing all faces to asbaranova_glasses_152.jpg:   0%|          | 0/76 [00:00<?, ?image/s]"
      ]
     },
     "metadata": {},
     "output_type": "display_data"
    },
    {
     "data": {
      "application/vnd.jupyter.widget-view+json": {
       "model_id": "399cd9239ffa44bcaa486f379f1a78ec",
       "version_major": 2,
       "version_minor": 0
      },
      "text/plain": [
       "Comparing all faces to asbaranova_no_glasses_152.jpg:   0%|          | 0/76 [00:00<?, ?image/s]"
      ]
     },
     "metadata": {},
     "output_type": "display_data"
    },
    {
     "data": {
      "application/vnd.jupyter.widget-view+json": {
       "model_id": "c55948c04e304c59ad306f4583b2a3df",
       "version_major": 2,
       "version_minor": 0
      },
      "text/plain": [
       "Comparing all faces to avmatvienko_1_no_glasses_152.jpg:   0%|          | 0/76 [00:00<?, ?image/s]"
      ]
     },
     "metadata": {},
     "output_type": "display_data"
    },
    {
     "data": {
      "application/vnd.jupyter.widget-view+json": {
       "model_id": "fa91f06b71b845cfb13093921ae8623d",
       "version_major": 2,
       "version_minor": 0
      },
      "text/plain": [
       "Comparing all faces to avpapina_no_glasses_152.jpg:   0%|          | 0/76 [00:00<?, ?image/s]"
      ]
     },
     "metadata": {},
     "output_type": "display_data"
    },
    {
     "data": {
      "application/vnd.jupyter.widget-view+json": {
       "model_id": "2f892e0842d44d4fa846560aa7b188a4",
       "version_major": 2,
       "version_minor": 0
      },
      "text/plain": [
       "Comparing all faces to ayuvasileva_1_no_glasses_152.jpg:   0%|          | 0/76 [00:00<?, ?image/s]"
      ]
     },
     "metadata": {},
     "output_type": "display_data"
    },
    {
     "data": {
      "application/vnd.jupyter.widget-view+json": {
       "model_id": "537cd9d86f0446fb88c058ea0cdf4486",
       "version_major": 2,
       "version_minor": 0
      },
      "text/plain": [
       "Comparing all faces to dashubin_no_glasses_152.jpg:   0%|          | 0/76 [00:00<?, ?image/s]"
      ]
     },
     "metadata": {},
     "output_type": "display_data"
    },
    {
     "data": {
      "application/vnd.jupyter.widget-view+json": {
       "model_id": "43d95edc16f040b798800692030054e5",
       "version_major": 2,
       "version_minor": 0
      },
      "text/plain": [
       "Comparing all faces to datikhomirov_no_glasses_152.jpg:   0%|          | 0/76 [00:00<?, ?image/s]"
      ]
     },
     "metadata": {},
     "output_type": "display_data"
    },
    {
     "data": {
      "application/vnd.jupyter.widget-view+json": {
       "model_id": "e9a022f515b444a9b422d98a86603bee",
       "version_major": 2,
       "version_minor": 0
      },
      "text/plain": [
       "Comparing all faces to dkorolev_no_glasses_152.jpg:   0%|          | 0/76 [00:00<?, ?image/s]"
      ]
     },
     "metadata": {},
     "output_type": "display_data"
    },
    {
     "data": {
      "application/vnd.jupyter.widget-view+json": {
       "model_id": "f087d84fc01f4771ad023a3bd3944c14",
       "version_major": 2,
       "version_minor": 0
      },
      "text/plain": [
       "Comparing all faces to dmbobrova_no_glasses_152.jpg:   0%|          | 0/76 [00:00<?, ?image/s]"
      ]
     },
     "metadata": {},
     "output_type": "display_data"
    },
    {
     "data": {
      "application/vnd.jupyter.widget-view+json": {
       "model_id": "e24f69202aa24aa8928f4c9f77016f32",
       "version_major": 2,
       "version_minor": 0
      },
      "text/plain": [
       "Comparing all faces to drsmirnov_glasses_152.jpg:   0%|          | 0/76 [00:00<?, ?image/s]"
      ]
     },
     "metadata": {},
     "output_type": "display_data"
    },
    {
     "data": {
      "application/vnd.jupyter.widget-view+json": {
       "model_id": "fb941822e27346fe90bc439dff049b28",
       "version_major": 2,
       "version_minor": 0
      },
      "text/plain": [
       "Comparing all faces to drsmirnov_no_glasses_152.jpg:   0%|          | 0/76 [00:00<?, ?image/s]"
      ]
     },
     "metadata": {},
     "output_type": "display_data"
    },
    {
     "data": {
      "application/vnd.jupyter.widget-view+json": {
       "model_id": "b07304cff13847bc8c3519e1bda098cb",
       "version_major": 2,
       "version_minor": 0
      },
      "text/plain": [
       "Comparing all faces to dvzaitseva_glasses_152.jpg:   0%|          | 0/76 [00:00<?, ?image/s]"
      ]
     },
     "metadata": {},
     "output_type": "display_data"
    },
    {
     "data": {
      "application/vnd.jupyter.widget-view+json": {
       "model_id": "c193c1ea35c04ca695454308ec0904ae",
       "version_major": 2,
       "version_minor": 0
      },
      "text/plain": [
       "Comparing all faces to dvzaitseva_no_glasses_152.jpg:   0%|          | 0/76 [00:00<?, ?image/s]"
      ]
     },
     "metadata": {},
     "output_type": "display_data"
    },
    {
     "data": {
      "application/vnd.jupyter.widget-view+json": {
       "model_id": "ad3714fd6f2f44c99a883518dd4dc2bd",
       "version_major": 2,
       "version_minor": 0
      },
      "text/plain": [
       "Comparing all faces to eamilekhina_glasses_152.jpg:   0%|          | 0/76 [00:00<?, ?image/s]"
      ]
     },
     "metadata": {},
     "output_type": "display_data"
    },
    {
     "data": {
      "application/vnd.jupyter.widget-view+json": {
       "model_id": "92274fafdebc4c2c9419bf97cc78dceb",
       "version_major": 2,
       "version_minor": 0
      },
      "text/plain": [
       "Comparing all faces to eamilekhina_no_glasses_152.jpg:   0%|          | 0/76 [00:00<?, ?image/s]"
      ]
     },
     "metadata": {},
     "output_type": "display_data"
    },
    {
     "data": {
      "application/vnd.jupyter.widget-view+json": {
       "model_id": "d25713daf0ae4af4ac4d94cbfcd50094",
       "version_major": 2,
       "version_minor": 0
      },
      "text/plain": [
       "Comparing all faces to eelogvina_no_glasses_152.jpg:   0%|          | 0/76 [00:00<?, ?image/s]"
      ]
     },
     "metadata": {},
     "output_type": "display_data"
    },
    {
     "data": {
      "application/vnd.jupyter.widget-view+json": {
       "model_id": "be01bcba5e564a6ca7d46c476e6eb4f8",
       "version_major": 2,
       "version_minor": 0
      },
      "text/plain": [
       "Comparing all faces to eggadzhiev_glasses_152.jpg:   0%|          | 0/76 [00:00<?, ?image/s]"
      ]
     },
     "metadata": {},
     "output_type": "display_data"
    },
    {
     "data": {
      "application/vnd.jupyter.widget-view+json": {
       "model_id": "5c702902f1ec4c0281f38f5d34f79375",
       "version_major": 2,
       "version_minor": 0
      },
      "text/plain": [
       "Comparing all faces to eggadzhiev_no_glasses_152.jpg:   0%|          | 0/76 [00:00<?, ?image/s]"
      ]
     },
     "metadata": {},
     "output_type": "display_data"
    },
    {
     "data": {
      "application/vnd.jupyter.widget-view+json": {
       "model_id": "174c93ea7676409590bd219cf3bd31f4",
       "version_major": 2,
       "version_minor": 0
      },
      "text/plain": [
       "Comparing all faces to evdarkhanov_no_glasses_152.jpg:   0%|          | 0/76 [00:00<?, ?image/s]"
      ]
     },
     "metadata": {},
     "output_type": "display_data"
    },
    {
     "data": {
      "application/vnd.jupyter.widget-view+json": {
       "model_id": "1faf6d53fdeb480eba9913722b2aa16d",
       "version_major": 2,
       "version_minor": 0
      },
      "text/plain": [
       "Comparing all faces to gaataev_no_glasses_152.jpg:   0%|          | 0/76 [00:00<?, ?image/s]"
      ]
     },
     "metadata": {},
     "output_type": "display_data"
    },
    {
     "data": {
      "application/vnd.jupyter.widget-view+json": {
       "model_id": "272d498e800c44beb2a5c9d012d2ba1a",
       "version_major": 2,
       "version_minor": 0
      },
      "text/plain": [
       "Comparing all faces to imsalakhov_glasses_152.jpg:   0%|          | 0/76 [00:00<?, ?image/s]"
      ]
     },
     "metadata": {},
     "output_type": "display_data"
    },
    {
     "data": {
      "application/vnd.jupyter.widget-view+json": {
       "model_id": "550eda892db742f7b0acfe82bf587aed",
       "version_major": 2,
       "version_minor": 0
      },
      "text/plain": [
       "Comparing all faces to imsalakhov_no_glasses_152.jpg:   0%|          | 0/76 [00:00<?, ?image/s]"
      ]
     },
     "metadata": {},
     "output_type": "display_data"
    },
    {
     "data": {
      "application/vnd.jupyter.widget-view+json": {
       "model_id": "749086164bb8466782a957d696b2be90",
       "version_major": 2,
       "version_minor": 0
      },
      "text/plain": [
       "Comparing all faces to ipustenko_no_glasses_152.jpg:   0%|          | 0/76 [00:00<?, ?image/s]"
      ]
     },
     "metadata": {},
     "output_type": "display_data"
    },
    {
     "data": {
      "application/vnd.jupyter.widget-view+json": {
       "model_id": "9023f17b8d3141e9b8deb6cefd232895",
       "version_major": 2,
       "version_minor": 0
      },
      "text/plain": [
       "Comparing all faces to ischekanov_no_glasses_152.jpg:   0%|          | 0/76 [00:00<?, ?image/s]"
      ]
     },
     "metadata": {},
     "output_type": "display_data"
    },
    {
     "data": {
      "application/vnd.jupyter.widget-view+json": {
       "model_id": "79dc95f96a474557b7fc85431bf07248",
       "version_major": 2,
       "version_minor": 0
      },
      "text/plain": [
       "Comparing all faces to isulanova_no_glasses_152.jpg:   0%|          | 0/76 [00:00<?, ?image/s]"
      ]
     },
     "metadata": {},
     "output_type": "display_data"
    },
    {
     "data": {
      "application/vnd.jupyter.widget-view+json": {
       "model_id": "f98f3cfbf55b41a48d3365805cb944f0",
       "version_major": 2,
       "version_minor": 0
      },
      "text/plain": [
       "Comparing all faces to kdfrolov_no_glasses_152.jpg:   0%|          | 0/76 [00:00<?, ?image/s]"
      ]
     },
     "metadata": {},
     "output_type": "display_data"
    },
    {
     "data": {
      "application/vnd.jupyter.widget-view+json": {
       "model_id": "eff39a0994bf4e4ab0c2af04a84ea456",
       "version_major": 2,
       "version_minor": 0
      },
      "text/plain": [
       "Comparing all faces to khtalbegov_no_glasses_152.jpg:   0%|          | 0/76 [00:00<?, ?image/s]"
      ]
     },
     "metadata": {},
     "output_type": "display_data"
    },
    {
     "data": {
      "application/vnd.jupyter.widget-view+json": {
       "model_id": "d5889b1ad9694b2a8e9a0896926acb3f",
       "version_major": 2,
       "version_minor": 0
      },
      "text/plain": [
       "Comparing all faces to kvnovikov_glasses_152.jpg:   0%|          | 0/76 [00:00<?, ?image/s]"
      ]
     },
     "metadata": {},
     "output_type": "display_data"
    },
    {
     "data": {
      "application/vnd.jupyter.widget-view+json": {
       "model_id": "9ceaceb6b9784a03a4127024c612458a",
       "version_major": 2,
       "version_minor": 0
      },
      "text/plain": [
       "Comparing all faces to kvnovikov_no_glasses_152.jpg:   0%|          | 0/76 [00:00<?, ?image/s]"
      ]
     },
     "metadata": {},
     "output_type": "display_data"
    },
    {
     "data": {
      "application/vnd.jupyter.widget-view+json": {
       "model_id": "36b14aaeb5554e8091a05b1685011e13",
       "version_major": 2,
       "version_minor": 0
      },
      "text/plain": [
       "Comparing all faces to limiroshnichenko_no_glasses_152.jpg:   0%|          | 0/76 [00:00<?, ?image/s]"
      ]
     },
     "metadata": {},
     "output_type": "display_data"
    },
    {
     "data": {
      "application/vnd.jupyter.widget-view+json": {
       "model_id": "73f5878c636040fa9c0cb829f72a01e6",
       "version_major": 2,
       "version_minor": 0
      },
      "text/plain": [
       "Comparing all faces to madusov_no_glasses_152.jpg:   0%|          | 0/76 [00:00<?, ?image/s]"
      ]
     },
     "metadata": {},
     "output_type": "display_data"
    },
    {
     "data": {
      "application/vnd.jupyter.widget-view+json": {
       "model_id": "2445c634dbe142cba6d6555870c7c2f8",
       "version_major": 2,
       "version_minor": 0
      },
      "text/plain": [
       "Comparing all faces to mapivovarova_no_glasses_152.jpg:   0%|          | 0/76 [00:00<?, ?image/s]"
      ]
     },
     "metadata": {},
     "output_type": "display_data"
    },
    {
     "data": {
      "application/vnd.jupyter.widget-view+json": {
       "model_id": "3afe44c9d72f4ab5bef3cca31b2288cf",
       "version_major": 2,
       "version_minor": 0
      },
      "text/plain": [
       "Comparing all faces to masadkovskaya_no_glasses_152.jpg:   0%|          | 0/76 [00:00<?, ?image/s]"
      ]
     },
     "metadata": {},
     "output_type": "display_data"
    },
    {
     "data": {
      "application/vnd.jupyter.widget-view+json": {
       "model_id": "3c00e4ea2e754dfbb636de21dae5183a",
       "version_major": 2,
       "version_minor": 0
      },
      "text/plain": [
       "Comparing all faces to mdspitsyn_no_glasses_152.jpg:   0%|          | 0/76 [00:00<?, ?image/s]"
      ]
     },
     "metadata": {},
     "output_type": "display_data"
    },
    {
     "data": {
      "application/vnd.jupyter.widget-view+json": {
       "model_id": "8cf07b2258774f6ca8770edf7690ead9",
       "version_major": 2,
       "version_minor": 0
      },
      "text/plain": [
       "Comparing all faces to mvemelianenko_no_glasses_152.jpg:   0%|          | 0/76 [00:00<?, ?image/s]"
      ]
     },
     "metadata": {},
     "output_type": "display_data"
    },
    {
     "data": {
      "application/vnd.jupyter.widget-view+json": {
       "model_id": "afc7e24de94d4d3f9c58d2b97f1281dd",
       "version_major": 2,
       "version_minor": 0
      },
      "text/plain": [
       "Comparing all faces to mvmoiseev_no_glasses_152.jpg:   0%|          | 0/76 [00:00<?, ?image/s]"
      ]
     },
     "metadata": {},
     "output_type": "display_data"
    },
    {
     "data": {
      "application/vnd.jupyter.widget-view+json": {
       "model_id": "b0a10fbc79ad463da015a78dc7227da9",
       "version_major": 2,
       "version_minor": 0
      },
      "text/plain": [
       "Comparing all faces to mvyakovlev_1_no_glasses_152.jpg:   0%|          | 0/76 [00:00<?, ?image/s]"
      ]
     },
     "metadata": {},
     "output_type": "display_data"
    },
    {
     "data": {
      "application/vnd.jupyter.widget-view+json": {
       "model_id": "8854a9ae055f4605921dcafabc4e9ef6",
       "version_major": 2,
       "version_minor": 0
      },
      "text/plain": [
       "Comparing all faces to myumikheev_no_glasses_152.jpg:   0%|          | 0/76 [00:00<?, ?image/s]"
      ]
     },
     "metadata": {},
     "output_type": "display_data"
    },
    {
     "data": {
      "application/vnd.jupyter.widget-view+json": {
       "model_id": "e426ac1738964462b2cb143937eedbea",
       "version_major": 2,
       "version_minor": 0
      },
      "text/plain": [
       "Comparing all faces to narybakovskiy_no_glasses_152.jpg:   0%|          | 0/76 [00:00<?, ?image/s]"
      ]
     },
     "metadata": {},
     "output_type": "display_data"
    },
    {
     "data": {
      "application/vnd.jupyter.widget-view+json": {
       "model_id": "388d9b323f3c4bec84e7af8384a8f92b",
       "version_major": 2,
       "version_minor": 0
      },
      "text/plain": [
       "Comparing all faces to ndkubaev_no_glasses_152.jpg:   0%|          | 0/76 [00:00<?, ?image/s]"
      ]
     },
     "metadata": {},
     "output_type": "display_data"
    },
    {
     "data": {
      "application/vnd.jupyter.widget-view+json": {
       "model_id": "acae042e44714a1faf37126778f9c3fa",
       "version_major": 2,
       "version_minor": 0
      },
      "text/plain": [
       "Comparing all faces to nepyrlitsanu_no_glasses_152.jpg:   0%|          | 0/76 [00:00<?, ?image/s]"
      ]
     },
     "metadata": {},
     "output_type": "display_data"
    },
    {
     "data": {
      "application/vnd.jupyter.widget-view+json": {
       "model_id": "2f4c4d050f4f4165b8e9533df89263c5",
       "version_major": 2,
       "version_minor": 0
      },
      "text/plain": [
       "Comparing all faces to palmasizade_no_glasses_152.jpg:   0%|          | 0/76 [00:00<?, ?image/s]"
      ]
     },
     "metadata": {},
     "output_type": "display_data"
    },
    {
     "data": {
      "application/vnd.jupyter.widget-view+json": {
       "model_id": "7296e00c47814d73873e01eff65417bd",
       "version_major": 2,
       "version_minor": 0
      },
      "text/plain": [
       "Comparing all faces to prybakov_glasses_152.jpg:   0%|          | 0/76 [00:00<?, ?image/s]"
      ]
     },
     "metadata": {},
     "output_type": "display_data"
    },
    {
     "data": {
      "application/vnd.jupyter.widget-view+json": {
       "model_id": "f397d261ab5d4b13be46a561e5a78dfe",
       "version_major": 2,
       "version_minor": 0
      },
      "text/plain": [
       "Comparing all faces to prybakov_no_glasses_152.jpg:   0%|          | 0/76 [00:00<?, ?image/s]"
      ]
     },
     "metadata": {},
     "output_type": "display_data"
    },
    {
     "data": {
      "application/vnd.jupyter.widget-view+json": {
       "model_id": "0067ca38cd044bf493f61589dbe9a2da",
       "version_major": 2,
       "version_minor": 0
      },
      "text/plain": [
       "Comparing all faces to rbadalian_no_glasses_152.jpg:   0%|          | 0/76 [00:00<?, ?image/s]"
      ]
     },
     "metadata": {},
     "output_type": "display_data"
    },
    {
     "data": {
      "application/vnd.jupyter.widget-view+json": {
       "model_id": "4932c2cd617d480f934c0a8e4b7d5123",
       "version_major": 2,
       "version_minor": 0
      },
      "text/plain": [
       "Comparing all faces to rrminnegalieva_glasses_152.jpg:   0%|          | 0/76 [00:00<?, ?image/s]"
      ]
     },
     "metadata": {},
     "output_type": "display_data"
    },
    {
     "data": {
      "application/vnd.jupyter.widget-view+json": {
       "model_id": "611cd2b72d67414e8aa714b414126770",
       "version_major": 2,
       "version_minor": 0
      },
      "text/plain": [
       "Comparing all faces to saslastnikov_no_glasses_152.jpg:   0%|          | 0/76 [00:00<?, ?image/s]"
      ]
     },
     "metadata": {},
     "output_type": "display_data"
    },
    {
     "data": {
      "application/vnd.jupyter.widget-view+json": {
       "model_id": "1a78af06e12c47efba190488337af6c8",
       "version_major": 2,
       "version_minor": 0
      },
      "text/plain": [
       "Comparing all faces to svkozaev_no_glasses_152.jpg:   0%|          | 0/76 [00:00<?, ?image/s]"
      ]
     },
     "metadata": {},
     "output_type": "display_data"
    },
    {
     "data": {
      "application/vnd.jupyter.widget-view+json": {
       "model_id": "7179b094f5ea4c5491cca297fe735a83",
       "version_major": 2,
       "version_minor": 0
      },
      "text/plain": [
       "Comparing all faces to vachudnovskiy_no_glasses_152.jpg:   0%|          | 0/76 [00:00<?, ?image/s]"
      ]
     },
     "metadata": {},
     "output_type": "display_data"
    },
    {
     "data": {
      "application/vnd.jupyter.widget-view+json": {
       "model_id": "d03b18d6eb744f6f8c67b172e363848a",
       "version_major": 2,
       "version_minor": 0
      },
      "text/plain": [
       "Comparing all faces to vakabisov_no_glasses_152.jpg:   0%|          | 0/76 [00:00<?, ?image/s]"
      ]
     },
     "metadata": {},
     "output_type": "display_data"
    },
    {
     "data": {
      "application/vnd.jupyter.widget-view+json": {
       "model_id": "81db5ca0f9944aeea23e6fb3cbb96e16",
       "version_major": 2,
       "version_minor": 0
      },
      "text/plain": [
       "Comparing all faces to vashin_no_glasses_152.jpg:   0%|          | 0/76 [00:00<?, ?image/s]"
      ]
     },
     "metadata": {},
     "output_type": "display_data"
    },
    {
     "data": {
      "application/vnd.jupyter.widget-view+json": {
       "model_id": "2296e72181064f16b51dec72d20cc882",
       "version_major": 2,
       "version_minor": 0
      },
      "text/plain": [
       "Comparing all faces to vianoshin_glasses_152.jpg:   0%|          | 0/76 [00:00<?, ?image/s]"
      ]
     },
     "metadata": {},
     "output_type": "display_data"
    },
    {
     "data": {
      "application/vnd.jupyter.widget-view+json": {
       "model_id": "ebfb7d3351354176be516476064e933f",
       "version_major": 2,
       "version_minor": 0
      },
      "text/plain": [
       "Comparing all faces to vianoshin_no_glasses_152.jpg:   0%|          | 0/76 [00:00<?, ?image/s]"
      ]
     },
     "metadata": {},
     "output_type": "display_data"
    },
    {
     "data": {
      "application/vnd.jupyter.widget-view+json": {
       "model_id": "b6b7d915e05a4947967ec786558d081b",
       "version_major": 2,
       "version_minor": 0
      },
      "text/plain": [
       "Comparing all faces to vkduborova_no_glasses_152.jpg:   0%|          | 0/76 [00:00<?, ?image/s]"
      ]
     },
     "metadata": {},
     "output_type": "display_data"
    },
    {
     "data": {
      "application/vnd.jupyter.widget-view+json": {
       "model_id": "8aa9dded6490439e81653f55e8f77323",
       "version_major": 2,
       "version_minor": 0
      },
      "text/plain": [
       "Comparing all faces to vnemna_glasses_152.jpg:   0%|          | 0/76 [00:00<?, ?image/s]"
      ]
     },
     "metadata": {},
     "output_type": "display_data"
    },
    {
     "data": {
      "application/vnd.jupyter.widget-view+json": {
       "model_id": "82e41a27e26d47b69e9622c958a58429",
       "version_major": 2,
       "version_minor": 0
      },
      "text/plain": [
       "Comparing all faces to vnemna_no_glasses_152.jpg:   0%|          | 0/76 [00:00<?, ?image/s]"
      ]
     },
     "metadata": {},
     "output_type": "display_data"
    },
    {
     "data": {
      "application/vnd.jupyter.widget-view+json": {
       "model_id": "6393cf588d214c31b23e4fda0e81c329",
       "version_major": 2,
       "version_minor": 0
      },
      "text/plain": [
       "Comparing all faces to vyunastasova_glasses_152.jpg:   0%|          | 0/76 [00:00<?, ?image/s]"
      ]
     },
     "metadata": {},
     "output_type": "display_data"
    },
    {
     "data": {
      "application/vnd.jupyter.widget-view+json": {
       "model_id": "bb26e65214ec4993abb72a415325173a",
       "version_major": 2,
       "version_minor": 0
      },
      "text/plain": [
       "Comparing all faces to vyunastasova_no_glasses_152.jpg:   0%|          | 0/76 [00:00<?, ?image/s]"
      ]
     },
     "metadata": {},
     "output_type": "display_data"
    },
    {
     "data": {
      "application/vnd.jupyter.widget-view+json": {
       "model_id": "a835e706ad4b4954846d356e9d50161d",
       "version_major": 2,
       "version_minor": 0
      },
      "text/plain": [
       "Processing with DeepID:   0%|          | 0/76 [00:00<?, ?image/s]"
      ]
     },
     "metadata": {},
     "output_type": "display_data"
    },
    {
     "data": {
      "application/vnd.jupyter.widget-view+json": {
       "model_id": "799a8e3d4fad4b8981c9130ac43ff139",
       "version_major": 2,
       "version_minor": 0
      },
      "text/plain": [
       "Comparing all faces to aabarstok_glasses_55.jpg:   0%|          | 0/76 [00:00<?, ?image/s]"
      ]
     },
     "metadata": {},
     "output_type": "display_data"
    },
    {
     "data": {
      "application/vnd.jupyter.widget-view+json": {
       "model_id": "fc666705e2604fa3b078c8f589b7c555",
       "version_major": 2,
       "version_minor": 0
      },
      "text/plain": [
       "Comparing all faces to aabarstok_no_glasses_55.jpg:   0%|          | 0/76 [00:00<?, ?image/s]"
      ]
     },
     "metadata": {},
     "output_type": "display_data"
    },
    {
     "data": {
      "application/vnd.jupyter.widget-view+json": {
       "model_id": "18c0ec86f41f4c5b998bb27b220906f5",
       "version_major": 2,
       "version_minor": 0
      },
      "text/plain": [
       "Comparing all faces to aamartynenko_9_no_glasses_55.jpg:   0%|          | 0/76 [00:00<?, ?image/s]"
      ]
     },
     "metadata": {},
     "output_type": "display_data"
    },
    {
     "data": {
      "application/vnd.jupyter.widget-view+json": {
       "model_id": "72bf7fb753b8433dae284e513ecf6522",
       "version_major": 2,
       "version_minor": 0
      },
      "text/plain": [
       "Comparing all faces to aazheltov_1_no_glasses_55.jpg:   0%|          | 0/76 [00:00<?, ?image/s]"
      ]
     },
     "metadata": {},
     "output_type": "display_data"
    },
    {
     "data": {
      "application/vnd.jupyter.widget-view+json": {
       "model_id": "8f07a7b0062346ba8ed868eba18ab381",
       "version_major": 2,
       "version_minor": 0
      },
      "text/plain": [
       "Comparing all faces to adletunov_no_glasses_55.jpg:   0%|          | 0/76 [00:00<?, ?image/s]"
      ]
     },
     "metadata": {},
     "output_type": "display_data"
    },
    {
     "data": {
      "application/vnd.jupyter.widget-view+json": {
       "model_id": "b515ae827e7d4f67ad009512decc585d",
       "version_major": 2,
       "version_minor": 0
      },
      "text/plain": [
       "Comparing all faces to adpiskunov_no_glasses_55.jpg:   0%|          | 0/76 [00:00<?, ?image/s]"
      ]
     },
     "metadata": {},
     "output_type": "display_data"
    },
    {
     "data": {
      "application/vnd.jupyter.widget-view+json": {
       "model_id": "1a7b4058badd4b919a9beef0ca5c8fbc",
       "version_major": 2,
       "version_minor": 0
      },
      "text/plain": [
       "Comparing all faces to agmargaryan_no_glasses_55.jpg:   0%|          | 0/76 [00:00<?, ?image/s]"
      ]
     },
     "metadata": {},
     "output_type": "display_data"
    },
    {
     "data": {
      "application/vnd.jupyter.widget-view+json": {
       "model_id": "c2cbb2ed964c43458f66b621b57b2aa8",
       "version_major": 2,
       "version_minor": 0
      },
      "text/plain": [
       "Comparing all faces to aimilovanova_no_glasses_55.jpg:   0%|          | 0/76 [00:00<?, ?image/s]"
      ]
     },
     "metadata": {},
     "output_type": "display_data"
    },
    {
     "data": {
      "application/vnd.jupyter.widget-view+json": {
       "model_id": "7da0a5f9c1b3423dba483230fa0a3069",
       "version_major": 2,
       "version_minor": 0
      },
      "text/plain": [
       "Comparing all faces to alalkhromov_no_glasses_55.jpg:   0%|          | 0/76 [00:00<?, ?image/s]"
      ]
     },
     "metadata": {},
     "output_type": "display_data"
    },
    {
     "data": {
      "application/vnd.jupyter.widget-view+json": {
       "model_id": "4c35f7e6ac444847a64391b456aab40f",
       "version_major": 2,
       "version_minor": 0
      },
      "text/plain": [
       "Comparing all faces to ameliseenko_glasses_55.jpg:   0%|          | 0/76 [00:00<?, ?image/s]"
      ]
     },
     "metadata": {},
     "output_type": "display_data"
    },
    {
     "data": {
      "application/vnd.jupyter.widget-view+json": {
       "model_id": "4acda59c2de04ebda49930beadb49f7e",
       "version_major": 2,
       "version_minor": 0
      },
      "text/plain": [
       "Comparing all faces to ameliseenko_no_glasses_55.jpg:   0%|          | 0/76 [00:00<?, ?image/s]"
      ]
     },
     "metadata": {},
     "output_type": "display_data"
    },
    {
     "data": {
      "application/vnd.jupyter.widget-view+json": {
       "model_id": "1675b37343c049e68b830ef93a848194",
       "version_major": 2,
       "version_minor": 0
      },
      "text/plain": [
       "Comparing all faces to amsirotkin_no_glasses_55.jpg:   0%|          | 0/76 [00:00<?, ?image/s]"
      ]
     },
     "metadata": {},
     "output_type": "display_data"
    },
    {
     "data": {
      "application/vnd.jupyter.widget-view+json": {
       "model_id": "107c5676af6d4c43aa7fb053604e8c67",
       "version_major": 2,
       "version_minor": 0
      },
      "text/plain": [
       "Comparing all faces to amzayakina_glasses_55.jpg:   0%|          | 0/76 [00:00<?, ?image/s]"
      ]
     },
     "metadata": {},
     "output_type": "display_data"
    },
    {
     "data": {
      "application/vnd.jupyter.widget-view+json": {
       "model_id": "d0babf35f3154e24b59e55304aceb20c",
       "version_major": 2,
       "version_minor": 0
      },
      "text/plain": [
       "Comparing all faces to amzayakina_no_glasses_55.jpg:   0%|          | 0/76 [00:00<?, ?image/s]"
      ]
     },
     "metadata": {},
     "output_type": "display_data"
    },
    {
     "data": {
      "application/vnd.jupyter.widget-view+json": {
       "model_id": "0c257e8bb0c3470abe8e217d77872aa9",
       "version_major": 2,
       "version_minor": 0
      },
      "text/plain": [
       "Comparing all faces to appecherskih_no_glasses_55.jpg:   0%|          | 0/76 [00:00<?, ?image/s]"
      ]
     },
     "metadata": {},
     "output_type": "display_data"
    },
    {
     "data": {
      "application/vnd.jupyter.widget-view+json": {
       "model_id": "1897a866a5204ee7a08d9e385313b8d5",
       "version_major": 2,
       "version_minor": 0
      },
      "text/plain": [
       "Comparing all faces to arandarbua_no_glasses_55.jpg:   0%|          | 0/76 [00:00<?, ?image/s]"
      ]
     },
     "metadata": {},
     "output_type": "display_data"
    },
    {
     "data": {
      "application/vnd.jupyter.widget-view+json": {
       "model_id": "8249146a1b444256bc9467302c6b7951",
       "version_major": 2,
       "version_minor": 0
      },
      "text/plain": [
       "Comparing all faces to archilingarov_no_glasses_55.jpg:   0%|          | 0/76 [00:00<?, ?image/s]"
      ]
     },
     "metadata": {},
     "output_type": "display_data"
    },
    {
     "data": {
      "application/vnd.jupyter.widget-view+json": {
       "model_id": "c3d6e9a183dc40c5942a1e55a098061d",
       "version_major": 2,
       "version_minor": 0
      },
      "text/plain": [
       "Comparing all faces to arkhabibullina_3_no_glasses_55.jpg:   0%|          | 0/76 [00:00<?, ?image/s]"
      ]
     },
     "metadata": {},
     "output_type": "display_data"
    },
    {
     "data": {
      "application/vnd.jupyter.widget-view+json": {
       "model_id": "5962230c47df47779697d11fad7ea417",
       "version_major": 2,
       "version_minor": 0
      },
      "text/plain": [
       "Comparing all faces to asbaranova_glasses_55.jpg:   0%|          | 0/76 [00:00<?, ?image/s]"
      ]
     },
     "metadata": {},
     "output_type": "display_data"
    },
    {
     "data": {
      "application/vnd.jupyter.widget-view+json": {
       "model_id": "cba079ef53e741bf89997d96f856844f",
       "version_major": 2,
       "version_minor": 0
      },
      "text/plain": [
       "Comparing all faces to asbaranova_no_glasses_55.jpg:   0%|          | 0/76 [00:00<?, ?image/s]"
      ]
     },
     "metadata": {},
     "output_type": "display_data"
    },
    {
     "data": {
      "application/vnd.jupyter.widget-view+json": {
       "model_id": "cbc001eb81c84d02984f96b661619e55",
       "version_major": 2,
       "version_minor": 0
      },
      "text/plain": [
       "Comparing all faces to avmatvienko_1_no_glasses_55.jpg:   0%|          | 0/76 [00:00<?, ?image/s]"
      ]
     },
     "metadata": {},
     "output_type": "display_data"
    },
    {
     "data": {
      "application/vnd.jupyter.widget-view+json": {
       "model_id": "c4a4de7e570847758c30f1a8b57142fd",
       "version_major": 2,
       "version_minor": 0
      },
      "text/plain": [
       "Comparing all faces to avpapina_no_glasses_55.jpg:   0%|          | 0/76 [00:00<?, ?image/s]"
      ]
     },
     "metadata": {},
     "output_type": "display_data"
    },
    {
     "data": {
      "application/vnd.jupyter.widget-view+json": {
       "model_id": "e82ba4c5c28540138ff74dab975d2831",
       "version_major": 2,
       "version_minor": 0
      },
      "text/plain": [
       "Comparing all faces to ayuvasileva_1_no_glasses_55.jpg:   0%|          | 0/76 [00:00<?, ?image/s]"
      ]
     },
     "metadata": {},
     "output_type": "display_data"
    },
    {
     "data": {
      "application/vnd.jupyter.widget-view+json": {
       "model_id": "bffa4e7607bf48aa8f1ba2175756c84b",
       "version_major": 2,
       "version_minor": 0
      },
      "text/plain": [
       "Comparing all faces to dashubin_no_glasses_55.jpg:   0%|          | 0/76 [00:00<?, ?image/s]"
      ]
     },
     "metadata": {},
     "output_type": "display_data"
    },
    {
     "data": {
      "application/vnd.jupyter.widget-view+json": {
       "model_id": "58da1e92215d41688d92d92fe83544aa",
       "version_major": 2,
       "version_minor": 0
      },
      "text/plain": [
       "Comparing all faces to datikhomirov_no_glasses_55.jpg:   0%|          | 0/76 [00:00<?, ?image/s]"
      ]
     },
     "metadata": {},
     "output_type": "display_data"
    },
    {
     "data": {
      "application/vnd.jupyter.widget-view+json": {
       "model_id": "62f16dc577e94a2e9fb54f178840a8fc",
       "version_major": 2,
       "version_minor": 0
      },
      "text/plain": [
       "Comparing all faces to dkorolev_no_glasses_55.jpg:   0%|          | 0/76 [00:00<?, ?image/s]"
      ]
     },
     "metadata": {},
     "output_type": "display_data"
    },
    {
     "data": {
      "application/vnd.jupyter.widget-view+json": {
       "model_id": "2aa429ba6e6a48a2ada8fc8ed480e1f0",
       "version_major": 2,
       "version_minor": 0
      },
      "text/plain": [
       "Comparing all faces to dmbobrova_no_glasses_55.jpg:   0%|          | 0/76 [00:00<?, ?image/s]"
      ]
     },
     "metadata": {},
     "output_type": "display_data"
    },
    {
     "data": {
      "application/vnd.jupyter.widget-view+json": {
       "model_id": "5c1b5af24e874d39bb433a990a9c9290",
       "version_major": 2,
       "version_minor": 0
      },
      "text/plain": [
       "Comparing all faces to drsmirnov_glasses_55.jpg:   0%|          | 0/76 [00:00<?, ?image/s]"
      ]
     },
     "metadata": {},
     "output_type": "display_data"
    },
    {
     "data": {
      "application/vnd.jupyter.widget-view+json": {
       "model_id": "eaf3401855f146b19c753ecdb67a689f",
       "version_major": 2,
       "version_minor": 0
      },
      "text/plain": [
       "Comparing all faces to drsmirnov_no_glasses_55.jpg:   0%|          | 0/76 [00:00<?, ?image/s]"
      ]
     },
     "metadata": {},
     "output_type": "display_data"
    },
    {
     "data": {
      "application/vnd.jupyter.widget-view+json": {
       "model_id": "c96d06d4b7234d4ba428c008e5c09cab",
       "version_major": 2,
       "version_minor": 0
      },
      "text/plain": [
       "Comparing all faces to dvzaitseva_glasses_55.jpg:   0%|          | 0/76 [00:00<?, ?image/s]"
      ]
     },
     "metadata": {},
     "output_type": "display_data"
    },
    {
     "data": {
      "application/vnd.jupyter.widget-view+json": {
       "model_id": "b7d656768cbf48c699054205a025dbda",
       "version_major": 2,
       "version_minor": 0
      },
      "text/plain": [
       "Comparing all faces to dvzaitseva_no_glasses_55.jpg:   0%|          | 0/76 [00:00<?, ?image/s]"
      ]
     },
     "metadata": {},
     "output_type": "display_data"
    },
    {
     "data": {
      "application/vnd.jupyter.widget-view+json": {
       "model_id": "b8a64fdb2de04f50aa79d4c4a4d5d2cd",
       "version_major": 2,
       "version_minor": 0
      },
      "text/plain": [
       "Comparing all faces to eamilekhina_glasses_55.jpg:   0%|          | 0/76 [00:00<?, ?image/s]"
      ]
     },
     "metadata": {},
     "output_type": "display_data"
    },
    {
     "data": {
      "application/vnd.jupyter.widget-view+json": {
       "model_id": "bee8df8cffac4922bf337eb1a0ac7dc4",
       "version_major": 2,
       "version_minor": 0
      },
      "text/plain": [
       "Comparing all faces to eamilekhina_no_glasses_55.jpg:   0%|          | 0/76 [00:00<?, ?image/s]"
      ]
     },
     "metadata": {},
     "output_type": "display_data"
    },
    {
     "data": {
      "application/vnd.jupyter.widget-view+json": {
       "model_id": "11e7abdc9cc54ec8b7c60dcfa5a16fa1",
       "version_major": 2,
       "version_minor": 0
      },
      "text/plain": [
       "Comparing all faces to eelogvina_no_glasses_55.jpg:   0%|          | 0/76 [00:00<?, ?image/s]"
      ]
     },
     "metadata": {},
     "output_type": "display_data"
    },
    {
     "data": {
      "application/vnd.jupyter.widget-view+json": {
       "model_id": "a153047991984a5b95851359f11b3ad8",
       "version_major": 2,
       "version_minor": 0
      },
      "text/plain": [
       "Comparing all faces to eggadzhiev_glasses_55.jpg:   0%|          | 0/76 [00:00<?, ?image/s]"
      ]
     },
     "metadata": {},
     "output_type": "display_data"
    },
    {
     "data": {
      "application/vnd.jupyter.widget-view+json": {
       "model_id": "8892fee89c4448208c832e53bde3149d",
       "version_major": 2,
       "version_minor": 0
      },
      "text/plain": [
       "Comparing all faces to eggadzhiev_no_glasses_55.jpg:   0%|          | 0/76 [00:00<?, ?image/s]"
      ]
     },
     "metadata": {},
     "output_type": "display_data"
    },
    {
     "data": {
      "application/vnd.jupyter.widget-view+json": {
       "model_id": "84eb6b6fc61b44b3b284fea511e21255",
       "version_major": 2,
       "version_minor": 0
      },
      "text/plain": [
       "Comparing all faces to evdarkhanov_no_glasses_55.jpg:   0%|          | 0/76 [00:00<?, ?image/s]"
      ]
     },
     "metadata": {},
     "output_type": "display_data"
    },
    {
     "data": {
      "application/vnd.jupyter.widget-view+json": {
       "model_id": "55b9f51ad1644dac810d9d3b40495910",
       "version_major": 2,
       "version_minor": 0
      },
      "text/plain": [
       "Comparing all faces to gaataev_no_glasses_55.jpg:   0%|          | 0/76 [00:00<?, ?image/s]"
      ]
     },
     "metadata": {},
     "output_type": "display_data"
    },
    {
     "data": {
      "application/vnd.jupyter.widget-view+json": {
       "model_id": "443e0f7d16d84ec986ac22420a97a7cd",
       "version_major": 2,
       "version_minor": 0
      },
      "text/plain": [
       "Comparing all faces to imsalakhov_glasses_55.jpg:   0%|          | 0/76 [00:00<?, ?image/s]"
      ]
     },
     "metadata": {},
     "output_type": "display_data"
    },
    {
     "data": {
      "application/vnd.jupyter.widget-view+json": {
       "model_id": "ce439479365c4b3395a45ec3b193c905",
       "version_major": 2,
       "version_minor": 0
      },
      "text/plain": [
       "Comparing all faces to imsalakhov_no_glasses_55.jpg:   0%|          | 0/76 [00:00<?, ?image/s]"
      ]
     },
     "metadata": {},
     "output_type": "display_data"
    },
    {
     "data": {
      "application/vnd.jupyter.widget-view+json": {
       "model_id": "1010e83f453647e0b7a3a414d330a216",
       "version_major": 2,
       "version_minor": 0
      },
      "text/plain": [
       "Comparing all faces to ipustenko_no_glasses_55.jpg:   0%|          | 0/76 [00:00<?, ?image/s]"
      ]
     },
     "metadata": {},
     "output_type": "display_data"
    },
    {
     "data": {
      "application/vnd.jupyter.widget-view+json": {
       "model_id": "ac9fc49c693e49ee9d954876572f67e9",
       "version_major": 2,
       "version_minor": 0
      },
      "text/plain": [
       "Comparing all faces to ischekanov_no_glasses_55.jpg:   0%|          | 0/76 [00:00<?, ?image/s]"
      ]
     },
     "metadata": {},
     "output_type": "display_data"
    },
    {
     "data": {
      "application/vnd.jupyter.widget-view+json": {
       "model_id": "5c61635ae97248b999a204ec80048192",
       "version_major": 2,
       "version_minor": 0
      },
      "text/plain": [
       "Comparing all faces to isulanova_no_glasses_55.jpg:   0%|          | 0/76 [00:00<?, ?image/s]"
      ]
     },
     "metadata": {},
     "output_type": "display_data"
    },
    {
     "data": {
      "application/vnd.jupyter.widget-view+json": {
       "model_id": "96d327cc213a4890b36d52b69feeb88f",
       "version_major": 2,
       "version_minor": 0
      },
      "text/plain": [
       "Comparing all faces to kdfrolov_no_glasses_55.jpg:   0%|          | 0/76 [00:00<?, ?image/s]"
      ]
     },
     "metadata": {},
     "output_type": "display_data"
    },
    {
     "data": {
      "application/vnd.jupyter.widget-view+json": {
       "model_id": "892fc9358a444ff39d1b1f2f2e996932",
       "version_major": 2,
       "version_minor": 0
      },
      "text/plain": [
       "Comparing all faces to khtalbegov_no_glasses_55.jpg:   0%|          | 0/76 [00:00<?, ?image/s]"
      ]
     },
     "metadata": {},
     "output_type": "display_data"
    },
    {
     "data": {
      "application/vnd.jupyter.widget-view+json": {
       "model_id": "32565b7b997f4a4f888debfd9b29eaf4",
       "version_major": 2,
       "version_minor": 0
      },
      "text/plain": [
       "Comparing all faces to kvnovikov_glasses_55.jpg:   0%|          | 0/76 [00:00<?, ?image/s]"
      ]
     },
     "metadata": {},
     "output_type": "display_data"
    },
    {
     "data": {
      "application/vnd.jupyter.widget-view+json": {
       "model_id": "1708722b08f0440f901cf00f008072cc",
       "version_major": 2,
       "version_minor": 0
      },
      "text/plain": [
       "Comparing all faces to kvnovikov_no_glasses_55.jpg:   0%|          | 0/76 [00:00<?, ?image/s]"
      ]
     },
     "metadata": {},
     "output_type": "display_data"
    },
    {
     "data": {
      "application/vnd.jupyter.widget-view+json": {
       "model_id": "0e6386a3383d4cfbb8148799d3a621e2",
       "version_major": 2,
       "version_minor": 0
      },
      "text/plain": [
       "Comparing all faces to limiroshnichenko_no_glasses_55.jpg:   0%|          | 0/76 [00:00<?, ?image/s]"
      ]
     },
     "metadata": {},
     "output_type": "display_data"
    },
    {
     "data": {
      "application/vnd.jupyter.widget-view+json": {
       "model_id": "7700dafcb35f4fc3a18de357924c9b28",
       "version_major": 2,
       "version_minor": 0
      },
      "text/plain": [
       "Comparing all faces to madusov_no_glasses_55.jpg:   0%|          | 0/76 [00:00<?, ?image/s]"
      ]
     },
     "metadata": {},
     "output_type": "display_data"
    },
    {
     "data": {
      "application/vnd.jupyter.widget-view+json": {
       "model_id": "c75d53b4d747454a821c736947753c23",
       "version_major": 2,
       "version_minor": 0
      },
      "text/plain": [
       "Comparing all faces to mapivovarova_no_glasses_55.jpg:   0%|          | 0/76 [00:00<?, ?image/s]"
      ]
     },
     "metadata": {},
     "output_type": "display_data"
    },
    {
     "data": {
      "application/vnd.jupyter.widget-view+json": {
       "model_id": "f4c83f25c6a843ce938e204e920f957f",
       "version_major": 2,
       "version_minor": 0
      },
      "text/plain": [
       "Comparing all faces to masadkovskaya_no_glasses_55.jpg:   0%|          | 0/76 [00:00<?, ?image/s]"
      ]
     },
     "metadata": {},
     "output_type": "display_data"
    },
    {
     "data": {
      "application/vnd.jupyter.widget-view+json": {
       "model_id": "8f22a202b6db4fbeafc0faaadf8caecd",
       "version_major": 2,
       "version_minor": 0
      },
      "text/plain": [
       "Comparing all faces to mdspitsyn_no_glasses_55.jpg:   0%|          | 0/76 [00:00<?, ?image/s]"
      ]
     },
     "metadata": {},
     "output_type": "display_data"
    },
    {
     "data": {
      "application/vnd.jupyter.widget-view+json": {
       "model_id": "e7a0cacb18a7451f8c2a12d4fc11bfbf",
       "version_major": 2,
       "version_minor": 0
      },
      "text/plain": [
       "Comparing all faces to mvemelianenko_no_glasses_55.jpg:   0%|          | 0/76 [00:00<?, ?image/s]"
      ]
     },
     "metadata": {},
     "output_type": "display_data"
    },
    {
     "data": {
      "application/vnd.jupyter.widget-view+json": {
       "model_id": "4c18278cf2a34d799a1ef6b273d0dbc7",
       "version_major": 2,
       "version_minor": 0
      },
      "text/plain": [
       "Comparing all faces to mvmoiseev_no_glasses_55.jpg:   0%|          | 0/76 [00:00<?, ?image/s]"
      ]
     },
     "metadata": {},
     "output_type": "display_data"
    },
    {
     "data": {
      "application/vnd.jupyter.widget-view+json": {
       "model_id": "80e5d318d4ca45f8a88af84a6e59a5f0",
       "version_major": 2,
       "version_minor": 0
      },
      "text/plain": [
       "Comparing all faces to mvyakovlev_1_no_glasses_55.jpg:   0%|          | 0/76 [00:00<?, ?image/s]"
      ]
     },
     "metadata": {},
     "output_type": "display_data"
    },
    {
     "data": {
      "application/vnd.jupyter.widget-view+json": {
       "model_id": "4746754569a94777bebae80569de30bc",
       "version_major": 2,
       "version_minor": 0
      },
      "text/plain": [
       "Comparing all faces to myumikheev_no_glasses_55.jpg:   0%|          | 0/76 [00:00<?, ?image/s]"
      ]
     },
     "metadata": {},
     "output_type": "display_data"
    },
    {
     "data": {
      "application/vnd.jupyter.widget-view+json": {
       "model_id": "dec201690b7e46119e91e55ef0508df6",
       "version_major": 2,
       "version_minor": 0
      },
      "text/plain": [
       "Comparing all faces to narybakovskiy_no_glasses_55.jpg:   0%|          | 0/76 [00:00<?, ?image/s]"
      ]
     },
     "metadata": {},
     "output_type": "display_data"
    },
    {
     "data": {
      "application/vnd.jupyter.widget-view+json": {
       "model_id": "d0231fb6fe2d43b5993ddfa1865b5a73",
       "version_major": 2,
       "version_minor": 0
      },
      "text/plain": [
       "Comparing all faces to ndkubaev_no_glasses_55.jpg:   0%|          | 0/76 [00:00<?, ?image/s]"
      ]
     },
     "metadata": {},
     "output_type": "display_data"
    },
    {
     "data": {
      "application/vnd.jupyter.widget-view+json": {
       "model_id": "510f2e3a59094b6ba776978b2ac9aae2",
       "version_major": 2,
       "version_minor": 0
      },
      "text/plain": [
       "Comparing all faces to nepyrlitsanu_no_glasses_55.jpg:   0%|          | 0/76 [00:00<?, ?image/s]"
      ]
     },
     "metadata": {},
     "output_type": "display_data"
    },
    {
     "data": {
      "application/vnd.jupyter.widget-view+json": {
       "model_id": "84a4e159ac094b5288f4f39f641b3fc4",
       "version_major": 2,
       "version_minor": 0
      },
      "text/plain": [
       "Comparing all faces to palmasizade_no_glasses_55.jpg:   0%|          | 0/76 [00:00<?, ?image/s]"
      ]
     },
     "metadata": {},
     "output_type": "display_data"
    },
    {
     "data": {
      "application/vnd.jupyter.widget-view+json": {
       "model_id": "fad37e61a9d543c790f1c9b92ea28fae",
       "version_major": 2,
       "version_minor": 0
      },
      "text/plain": [
       "Comparing all faces to prybakov_glasses_55.jpg:   0%|          | 0/76 [00:00<?, ?image/s]"
      ]
     },
     "metadata": {},
     "output_type": "display_data"
    },
    {
     "data": {
      "application/vnd.jupyter.widget-view+json": {
       "model_id": "8f3937d7624549f3a915f2be54c3f576",
       "version_major": 2,
       "version_minor": 0
      },
      "text/plain": [
       "Comparing all faces to prybakov_no_glasses_55.jpg:   0%|          | 0/76 [00:00<?, ?image/s]"
      ]
     },
     "metadata": {},
     "output_type": "display_data"
    },
    {
     "data": {
      "application/vnd.jupyter.widget-view+json": {
       "model_id": "276e2c3b0dd846a4bdb24bbbac0412b9",
       "version_major": 2,
       "version_minor": 0
      },
      "text/plain": [
       "Comparing all faces to rbadalian_no_glasses_55.jpg:   0%|          | 0/76 [00:00<?, ?image/s]"
      ]
     },
     "metadata": {},
     "output_type": "display_data"
    },
    {
     "data": {
      "application/vnd.jupyter.widget-view+json": {
       "model_id": "9c603cc446ae4330bd76c805b58c6b65",
       "version_major": 2,
       "version_minor": 0
      },
      "text/plain": [
       "Comparing all faces to rrminnegalieva_glasses_55.jpg:   0%|          | 0/76 [00:00<?, ?image/s]"
      ]
     },
     "metadata": {},
     "output_type": "display_data"
    },
    {
     "data": {
      "application/vnd.jupyter.widget-view+json": {
       "model_id": "8b340545a6234a07a13e0400b5fa6cd8",
       "version_major": 2,
       "version_minor": 0
      },
      "text/plain": [
       "Comparing all faces to saslastnikov_no_glasses_55.jpg:   0%|          | 0/76 [00:00<?, ?image/s]"
      ]
     },
     "metadata": {},
     "output_type": "display_data"
    },
    {
     "data": {
      "application/vnd.jupyter.widget-view+json": {
       "model_id": "baaafbf502b74e4ea9bfecc92eefda4f",
       "version_major": 2,
       "version_minor": 0
      },
      "text/plain": [
       "Comparing all faces to svkozaev_no_glasses_55.jpg:   0%|          | 0/76 [00:00<?, ?image/s]"
      ]
     },
     "metadata": {},
     "output_type": "display_data"
    },
    {
     "data": {
      "application/vnd.jupyter.widget-view+json": {
       "model_id": "a8da8c15bd9b4b36bf1e63dff0411559",
       "version_major": 2,
       "version_minor": 0
      },
      "text/plain": [
       "Comparing all faces to vachudnovskiy_no_glasses_55.jpg:   0%|          | 0/76 [00:00<?, ?image/s]"
      ]
     },
     "metadata": {},
     "output_type": "display_data"
    },
    {
     "data": {
      "application/vnd.jupyter.widget-view+json": {
       "model_id": "fbb942185e1d4f16873b299d7249313f",
       "version_major": 2,
       "version_minor": 0
      },
      "text/plain": [
       "Comparing all faces to vakabisov_no_glasses_55.jpg:   0%|          | 0/76 [00:00<?, ?image/s]"
      ]
     },
     "metadata": {},
     "output_type": "display_data"
    },
    {
     "data": {
      "application/vnd.jupyter.widget-view+json": {
       "model_id": "a6816154c8174d9eb3ca5165f7cf5c09",
       "version_major": 2,
       "version_minor": 0
      },
      "text/plain": [
       "Comparing all faces to vashin_no_glasses_55.jpg:   0%|          | 0/76 [00:00<?, ?image/s]"
      ]
     },
     "metadata": {},
     "output_type": "display_data"
    },
    {
     "data": {
      "application/vnd.jupyter.widget-view+json": {
       "model_id": "492eb4bb8b4241fea9281c6b26e92e26",
       "version_major": 2,
       "version_minor": 0
      },
      "text/plain": [
       "Comparing all faces to vianoshin_glasses_55.jpg:   0%|          | 0/76 [00:00<?, ?image/s]"
      ]
     },
     "metadata": {},
     "output_type": "display_data"
    },
    {
     "data": {
      "application/vnd.jupyter.widget-view+json": {
       "model_id": "838736c59b7049f9b9e85f22d91c0bb4",
       "version_major": 2,
       "version_minor": 0
      },
      "text/plain": [
       "Comparing all faces to vianoshin_no_glasses_55.jpg:   0%|          | 0/76 [00:00<?, ?image/s]"
      ]
     },
     "metadata": {},
     "output_type": "display_data"
    },
    {
     "data": {
      "application/vnd.jupyter.widget-view+json": {
       "model_id": "b4caf11136774e53b0ecc0b3b550fa30",
       "version_major": 2,
       "version_minor": 0
      },
      "text/plain": [
       "Comparing all faces to vkduborova_no_glasses_55.jpg:   0%|          | 0/76 [00:00<?, ?image/s]"
      ]
     },
     "metadata": {},
     "output_type": "display_data"
    },
    {
     "data": {
      "application/vnd.jupyter.widget-view+json": {
       "model_id": "16566975221e4ba8b20c59aab6142918",
       "version_major": 2,
       "version_minor": 0
      },
      "text/plain": [
       "Comparing all faces to vnemna_glasses_55.jpg:   0%|          | 0/76 [00:00<?, ?image/s]"
      ]
     },
     "metadata": {},
     "output_type": "display_data"
    },
    {
     "data": {
      "application/vnd.jupyter.widget-view+json": {
       "model_id": "3c089763abe343a99062f4159a48093f",
       "version_major": 2,
       "version_minor": 0
      },
      "text/plain": [
       "Comparing all faces to vnemna_no_glasses_55.jpg:   0%|          | 0/76 [00:00<?, ?image/s]"
      ]
     },
     "metadata": {},
     "output_type": "display_data"
    },
    {
     "data": {
      "application/vnd.jupyter.widget-view+json": {
       "model_id": "b0950e714c7d4290942131c84945c29d",
       "version_major": 2,
       "version_minor": 0
      },
      "text/plain": [
       "Comparing all faces to vyunastasova_glasses_55.jpg:   0%|          | 0/76 [00:00<?, ?image/s]"
      ]
     },
     "metadata": {},
     "output_type": "display_data"
    },
    {
     "data": {
      "application/vnd.jupyter.widget-view+json": {
       "model_id": "1dda11aadcdb452f9da8dedbcdcc4fe3",
       "version_major": 2,
       "version_minor": 0
      },
      "text/plain": [
       "Comparing all faces to vyunastasova_no_glasses_55.jpg:   0%|          | 0/76 [00:00<?, ?image/s]"
      ]
     },
     "metadata": {},
     "output_type": "display_data"
    },
    {
     "data": {
      "application/vnd.jupyter.widget-view+json": {
       "model_id": "e527b4276b104d7b83ac11281e2df469",
       "version_major": 2,
       "version_minor": 0
      },
      "text/plain": [
       "Processing with ArcFace:   0%|          | 0/76 [00:00<?, ?image/s]"
      ]
     },
     "metadata": {},
     "output_type": "display_data"
    },
    {
     "data": {
      "application/vnd.jupyter.widget-view+json": {
       "model_id": "1199f3429c954c569b2b3e02ab4fcbf9",
       "version_major": 2,
       "version_minor": 0
      },
      "text/plain": [
       "Comparing all faces to aabarstok_glasses_112.jpg:   0%|          | 0/76 [00:00<?, ?image/s]"
      ]
     },
     "metadata": {},
     "output_type": "display_data"
    },
    {
     "data": {
      "application/vnd.jupyter.widget-view+json": {
       "model_id": "0167b626d8f84770a9f84802583d4c86",
       "version_major": 2,
       "version_minor": 0
      },
      "text/plain": [
       "Comparing all faces to aabarstok_no_glasses_112.jpg:   0%|          | 0/76 [00:00<?, ?image/s]"
      ]
     },
     "metadata": {},
     "output_type": "display_data"
    },
    {
     "data": {
      "application/vnd.jupyter.widget-view+json": {
       "model_id": "52ffa13598d743e8a6f04d4c92f7a6e7",
       "version_major": 2,
       "version_minor": 0
      },
      "text/plain": [
       "Comparing all faces to aamartynenko_9_no_glasses_112.jpg:   0%|          | 0/76 [00:00<?, ?image/s]"
      ]
     },
     "metadata": {},
     "output_type": "display_data"
    },
    {
     "data": {
      "application/vnd.jupyter.widget-view+json": {
       "model_id": "3409a51796424c12b8bbae0d2195000a",
       "version_major": 2,
       "version_minor": 0
      },
      "text/plain": [
       "Comparing all faces to aazheltov_1_no_glasses_112.jpg:   0%|          | 0/76 [00:00<?, ?image/s]"
      ]
     },
     "metadata": {},
     "output_type": "display_data"
    },
    {
     "data": {
      "application/vnd.jupyter.widget-view+json": {
       "model_id": "f3df4e3ec9294c11a43ef0db3068a2da",
       "version_major": 2,
       "version_minor": 0
      },
      "text/plain": [
       "Comparing all faces to adletunov_no_glasses_112.jpg:   0%|          | 0/76 [00:00<?, ?image/s]"
      ]
     },
     "metadata": {},
     "output_type": "display_data"
    },
    {
     "data": {
      "application/vnd.jupyter.widget-view+json": {
       "model_id": "3699d667ac2d4f03a9a6ddfb7d519bbd",
       "version_major": 2,
       "version_minor": 0
      },
      "text/plain": [
       "Comparing all faces to adpiskunov_no_glasses_112.jpg:   0%|          | 0/76 [00:00<?, ?image/s]"
      ]
     },
     "metadata": {},
     "output_type": "display_data"
    },
    {
     "data": {
      "application/vnd.jupyter.widget-view+json": {
       "model_id": "558c8e94d43245b78c006081d6bc6e22",
       "version_major": 2,
       "version_minor": 0
      },
      "text/plain": [
       "Comparing all faces to agmargaryan_no_glasses_112.jpg:   0%|          | 0/76 [00:00<?, ?image/s]"
      ]
     },
     "metadata": {},
     "output_type": "display_data"
    },
    {
     "data": {
      "application/vnd.jupyter.widget-view+json": {
       "model_id": "d4454711f7db40beb13f0f2af029c214",
       "version_major": 2,
       "version_minor": 0
      },
      "text/plain": [
       "Comparing all faces to aimilovanova_no_glasses_112.jpg:   0%|          | 0/76 [00:00<?, ?image/s]"
      ]
     },
     "metadata": {},
     "output_type": "display_data"
    },
    {
     "data": {
      "application/vnd.jupyter.widget-view+json": {
       "model_id": "c2a4200dc4634ecb9cce90e3577093b8",
       "version_major": 2,
       "version_minor": 0
      },
      "text/plain": [
       "Comparing all faces to alalkhromov_no_glasses_112.jpg:   0%|          | 0/76 [00:00<?, ?image/s]"
      ]
     },
     "metadata": {},
     "output_type": "display_data"
    },
    {
     "data": {
      "application/vnd.jupyter.widget-view+json": {
       "model_id": "b796ddfc8d6d4cc9bd6d5003035bfd85",
       "version_major": 2,
       "version_minor": 0
      },
      "text/plain": [
       "Comparing all faces to ameliseenko_glasses_112.jpg:   0%|          | 0/76 [00:00<?, ?image/s]"
      ]
     },
     "metadata": {},
     "output_type": "display_data"
    },
    {
     "data": {
      "application/vnd.jupyter.widget-view+json": {
       "model_id": "b83144c7c67e43f4a679d504931a8300",
       "version_major": 2,
       "version_minor": 0
      },
      "text/plain": [
       "Comparing all faces to ameliseenko_no_glasses_112.jpg:   0%|          | 0/76 [00:00<?, ?image/s]"
      ]
     },
     "metadata": {},
     "output_type": "display_data"
    },
    {
     "data": {
      "application/vnd.jupyter.widget-view+json": {
       "model_id": "fe1052c0ee144490b7df7eca2458d7c0",
       "version_major": 2,
       "version_minor": 0
      },
      "text/plain": [
       "Comparing all faces to amsirotkin_no_glasses_112.jpg:   0%|          | 0/76 [00:00<?, ?image/s]"
      ]
     },
     "metadata": {},
     "output_type": "display_data"
    },
    {
     "data": {
      "application/vnd.jupyter.widget-view+json": {
       "model_id": "ba8fab20702540bdb196ac136615dd20",
       "version_major": 2,
       "version_minor": 0
      },
      "text/plain": [
       "Comparing all faces to amzayakina_glasses_112.jpg:   0%|          | 0/76 [00:00<?, ?image/s]"
      ]
     },
     "metadata": {},
     "output_type": "display_data"
    },
    {
     "data": {
      "application/vnd.jupyter.widget-view+json": {
       "model_id": "d4e45716e3db455aab1ab814f67b1f28",
       "version_major": 2,
       "version_minor": 0
      },
      "text/plain": [
       "Comparing all faces to amzayakina_no_glasses_112.jpg:   0%|          | 0/76 [00:00<?, ?image/s]"
      ]
     },
     "metadata": {},
     "output_type": "display_data"
    },
    {
     "data": {
      "application/vnd.jupyter.widget-view+json": {
       "model_id": "14f93ec137974b8397336fe7aa0e9a7f",
       "version_major": 2,
       "version_minor": 0
      },
      "text/plain": [
       "Comparing all faces to appecherskih_no_glasses_112.jpg:   0%|          | 0/76 [00:00<?, ?image/s]"
      ]
     },
     "metadata": {},
     "output_type": "display_data"
    },
    {
     "data": {
      "application/vnd.jupyter.widget-view+json": {
       "model_id": "9cb60bc3207f4bc7856afc1f326ae280",
       "version_major": 2,
       "version_minor": 0
      },
      "text/plain": [
       "Comparing all faces to arandarbua_no_glasses_112.jpg:   0%|          | 0/76 [00:00<?, ?image/s]"
      ]
     },
     "metadata": {},
     "output_type": "display_data"
    },
    {
     "data": {
      "application/vnd.jupyter.widget-view+json": {
       "model_id": "e37c3200937945e4abc9a621f0df39f7",
       "version_major": 2,
       "version_minor": 0
      },
      "text/plain": [
       "Comparing all faces to archilingarov_no_glasses_112.jpg:   0%|          | 0/76 [00:00<?, ?image/s]"
      ]
     },
     "metadata": {},
     "output_type": "display_data"
    },
    {
     "data": {
      "application/vnd.jupyter.widget-view+json": {
       "model_id": "4ccf228fbe23450ab884e9ed86874ee4",
       "version_major": 2,
       "version_minor": 0
      },
      "text/plain": [
       "Comparing all faces to arkhabibullina_3_no_glasses_112.jpg:   0%|          | 0/76 [00:00<?, ?image/s]"
      ]
     },
     "metadata": {},
     "output_type": "display_data"
    },
    {
     "data": {
      "application/vnd.jupyter.widget-view+json": {
       "model_id": "98a023960d9740619e46331ab54a96a4",
       "version_major": 2,
       "version_minor": 0
      },
      "text/plain": [
       "Comparing all faces to asbaranova_glasses_112.jpg:   0%|          | 0/76 [00:00<?, ?image/s]"
      ]
     },
     "metadata": {},
     "output_type": "display_data"
    },
    {
     "data": {
      "application/vnd.jupyter.widget-view+json": {
       "model_id": "43b806f1b0a2435b8f8424e5020c322c",
       "version_major": 2,
       "version_minor": 0
      },
      "text/plain": [
       "Comparing all faces to asbaranova_no_glasses_112.jpg:   0%|          | 0/76 [00:00<?, ?image/s]"
      ]
     },
     "metadata": {},
     "output_type": "display_data"
    },
    {
     "data": {
      "application/vnd.jupyter.widget-view+json": {
       "model_id": "acf2f5182f524c69819aec051ea35a0b",
       "version_major": 2,
       "version_minor": 0
      },
      "text/plain": [
       "Comparing all faces to avmatvienko_1_no_glasses_112.jpg:   0%|          | 0/76 [00:00<?, ?image/s]"
      ]
     },
     "metadata": {},
     "output_type": "display_data"
    },
    {
     "data": {
      "application/vnd.jupyter.widget-view+json": {
       "model_id": "9dc43a41bff14f4f8a60f050856f2226",
       "version_major": 2,
       "version_minor": 0
      },
      "text/plain": [
       "Comparing all faces to avpapina_no_glasses_112.jpg:   0%|          | 0/76 [00:00<?, ?image/s]"
      ]
     },
     "metadata": {},
     "output_type": "display_data"
    },
    {
     "data": {
      "application/vnd.jupyter.widget-view+json": {
       "model_id": "f9ff09ee676d41aeb33f100b95c5f7f6",
       "version_major": 2,
       "version_minor": 0
      },
      "text/plain": [
       "Comparing all faces to ayuvasileva_1_no_glasses_112.jpg:   0%|          | 0/76 [00:00<?, ?image/s]"
      ]
     },
     "metadata": {},
     "output_type": "display_data"
    },
    {
     "data": {
      "application/vnd.jupyter.widget-view+json": {
       "model_id": "189b099de11646c29ff754ed848e7a4f",
       "version_major": 2,
       "version_minor": 0
      },
      "text/plain": [
       "Comparing all faces to dashubin_no_glasses_112.jpg:   0%|          | 0/76 [00:00<?, ?image/s]"
      ]
     },
     "metadata": {},
     "output_type": "display_data"
    },
    {
     "data": {
      "application/vnd.jupyter.widget-view+json": {
       "model_id": "cb74160b522a41f8bc66d83c28efaabe",
       "version_major": 2,
       "version_minor": 0
      },
      "text/plain": [
       "Comparing all faces to datikhomirov_no_glasses_112.jpg:   0%|          | 0/76 [00:00<?, ?image/s]"
      ]
     },
     "metadata": {},
     "output_type": "display_data"
    },
    {
     "data": {
      "application/vnd.jupyter.widget-view+json": {
       "model_id": "63215cb95a0a44578f6470f87aa36594",
       "version_major": 2,
       "version_minor": 0
      },
      "text/plain": [
       "Comparing all faces to dkorolev_no_glasses_112.jpg:   0%|          | 0/76 [00:00<?, ?image/s]"
      ]
     },
     "metadata": {},
     "output_type": "display_data"
    },
    {
     "data": {
      "application/vnd.jupyter.widget-view+json": {
       "model_id": "0c92c3f12d8c46d59c19fd64d84ef742",
       "version_major": 2,
       "version_minor": 0
      },
      "text/plain": [
       "Comparing all faces to dmbobrova_no_glasses_112.jpg:   0%|          | 0/76 [00:00<?, ?image/s]"
      ]
     },
     "metadata": {},
     "output_type": "display_data"
    },
    {
     "data": {
      "application/vnd.jupyter.widget-view+json": {
       "model_id": "7e6748e1d6d4439ca9cf223b1292d1d1",
       "version_major": 2,
       "version_minor": 0
      },
      "text/plain": [
       "Comparing all faces to drsmirnov_glasses_112.jpg:   0%|          | 0/76 [00:00<?, ?image/s]"
      ]
     },
     "metadata": {},
     "output_type": "display_data"
    },
    {
     "data": {
      "application/vnd.jupyter.widget-view+json": {
       "model_id": "856134d6c67f4646b6851db98fb58bba",
       "version_major": 2,
       "version_minor": 0
      },
      "text/plain": [
       "Comparing all faces to drsmirnov_no_glasses_112.jpg:   0%|          | 0/76 [00:00<?, ?image/s]"
      ]
     },
     "metadata": {},
     "output_type": "display_data"
    },
    {
     "data": {
      "application/vnd.jupyter.widget-view+json": {
       "model_id": "3a3f7424bd904418b9d4ba6f4180cc12",
       "version_major": 2,
       "version_minor": 0
      },
      "text/plain": [
       "Comparing all faces to dvzaitseva_glasses_112.jpg:   0%|          | 0/76 [00:00<?, ?image/s]"
      ]
     },
     "metadata": {},
     "output_type": "display_data"
    },
    {
     "data": {
      "application/vnd.jupyter.widget-view+json": {
       "model_id": "803ea39dc02445b68dd725578489906e",
       "version_major": 2,
       "version_minor": 0
      },
      "text/plain": [
       "Comparing all faces to dvzaitseva_no_glasses_112.jpg:   0%|          | 0/76 [00:00<?, ?image/s]"
      ]
     },
     "metadata": {},
     "output_type": "display_data"
    },
    {
     "data": {
      "application/vnd.jupyter.widget-view+json": {
       "model_id": "03b44bf66c8b4b9fa49c146404f48f88",
       "version_major": 2,
       "version_minor": 0
      },
      "text/plain": [
       "Comparing all faces to eamilekhina_glasses_112.jpg:   0%|          | 0/76 [00:00<?, ?image/s]"
      ]
     },
     "metadata": {},
     "output_type": "display_data"
    },
    {
     "data": {
      "application/vnd.jupyter.widget-view+json": {
       "model_id": "22de03dee3a04762b0bcc381501c8431",
       "version_major": 2,
       "version_minor": 0
      },
      "text/plain": [
       "Comparing all faces to eamilekhina_no_glasses_112.jpg:   0%|          | 0/76 [00:00<?, ?image/s]"
      ]
     },
     "metadata": {},
     "output_type": "display_data"
    },
    {
     "data": {
      "application/vnd.jupyter.widget-view+json": {
       "model_id": "75a474b745e84c2d84471f993a4af01f",
       "version_major": 2,
       "version_minor": 0
      },
      "text/plain": [
       "Comparing all faces to eelogvina_no_glasses_112.jpg:   0%|          | 0/76 [00:00<?, ?image/s]"
      ]
     },
     "metadata": {},
     "output_type": "display_data"
    },
    {
     "data": {
      "application/vnd.jupyter.widget-view+json": {
       "model_id": "168456507e9947c2b4a6b2cbf054452e",
       "version_major": 2,
       "version_minor": 0
      },
      "text/plain": [
       "Comparing all faces to eggadzhiev_glasses_112.jpg:   0%|          | 0/76 [00:00<?, ?image/s]"
      ]
     },
     "metadata": {},
     "output_type": "display_data"
    },
    {
     "data": {
      "application/vnd.jupyter.widget-view+json": {
       "model_id": "2168241c571e487c9cb84a47c6a86b08",
       "version_major": 2,
       "version_minor": 0
      },
      "text/plain": [
       "Comparing all faces to eggadzhiev_no_glasses_112.jpg:   0%|          | 0/76 [00:00<?, ?image/s]"
      ]
     },
     "metadata": {},
     "output_type": "display_data"
    },
    {
     "data": {
      "application/vnd.jupyter.widget-view+json": {
       "model_id": "adf75166b6944f56a311e54929951338",
       "version_major": 2,
       "version_minor": 0
      },
      "text/plain": [
       "Comparing all faces to evdarkhanov_no_glasses_112.jpg:   0%|          | 0/76 [00:00<?, ?image/s]"
      ]
     },
     "metadata": {},
     "output_type": "display_data"
    },
    {
     "data": {
      "application/vnd.jupyter.widget-view+json": {
       "model_id": "a10b4205de5a4d7cbd039bc2ace02a9b",
       "version_major": 2,
       "version_minor": 0
      },
      "text/plain": [
       "Comparing all faces to gaataev_no_glasses_112.jpg:   0%|          | 0/76 [00:00<?, ?image/s]"
      ]
     },
     "metadata": {},
     "output_type": "display_data"
    },
    {
     "data": {
      "application/vnd.jupyter.widget-view+json": {
       "model_id": "5aead8a374c8417b8b09dbbb7ddb7cb9",
       "version_major": 2,
       "version_minor": 0
      },
      "text/plain": [
       "Comparing all faces to imsalakhov_glasses_112.jpg:   0%|          | 0/76 [00:00<?, ?image/s]"
      ]
     },
     "metadata": {},
     "output_type": "display_data"
    },
    {
     "data": {
      "application/vnd.jupyter.widget-view+json": {
       "model_id": "345e56192d454eb196d7601c40b155f4",
       "version_major": 2,
       "version_minor": 0
      },
      "text/plain": [
       "Comparing all faces to imsalakhov_no_glasses_112.jpg:   0%|          | 0/76 [00:00<?, ?image/s]"
      ]
     },
     "metadata": {},
     "output_type": "display_data"
    },
    {
     "data": {
      "application/vnd.jupyter.widget-view+json": {
       "model_id": "dd687b51c71f4c9fa5409176a1e7e451",
       "version_major": 2,
       "version_minor": 0
      },
      "text/plain": [
       "Comparing all faces to ipustenko_no_glasses_112.jpg:   0%|          | 0/76 [00:00<?, ?image/s]"
      ]
     },
     "metadata": {},
     "output_type": "display_data"
    },
    {
     "data": {
      "application/vnd.jupyter.widget-view+json": {
       "model_id": "d789e3dadde24acd89a3916bc99c5460",
       "version_major": 2,
       "version_minor": 0
      },
      "text/plain": [
       "Comparing all faces to ischekanov_no_glasses_112.jpg:   0%|          | 0/76 [00:00<?, ?image/s]"
      ]
     },
     "metadata": {},
     "output_type": "display_data"
    },
    {
     "data": {
      "application/vnd.jupyter.widget-view+json": {
       "model_id": "6661d9ba83b64cf0955a5daa2116bf79",
       "version_major": 2,
       "version_minor": 0
      },
      "text/plain": [
       "Comparing all faces to isulanova_no_glasses_112.jpg:   0%|          | 0/76 [00:00<?, ?image/s]"
      ]
     },
     "metadata": {},
     "output_type": "display_data"
    },
    {
     "data": {
      "application/vnd.jupyter.widget-view+json": {
       "model_id": "f454d7d028f9458bb4692829ca6b3987",
       "version_major": 2,
       "version_minor": 0
      },
      "text/plain": [
       "Comparing all faces to kdfrolov_no_glasses_112.jpg:   0%|          | 0/76 [00:00<?, ?image/s]"
      ]
     },
     "metadata": {},
     "output_type": "display_data"
    },
    {
     "data": {
      "application/vnd.jupyter.widget-view+json": {
       "model_id": "c18de3223bc3424c943d3d852a5dcf77",
       "version_major": 2,
       "version_minor": 0
      },
      "text/plain": [
       "Comparing all faces to khtalbegov_no_glasses_112.jpg:   0%|          | 0/76 [00:00<?, ?image/s]"
      ]
     },
     "metadata": {},
     "output_type": "display_data"
    },
    {
     "data": {
      "application/vnd.jupyter.widget-view+json": {
       "model_id": "a57d2af095324208b23d5e5c74e73c4e",
       "version_major": 2,
       "version_minor": 0
      },
      "text/plain": [
       "Comparing all faces to kvnovikov_glasses_112.jpg:   0%|          | 0/76 [00:00<?, ?image/s]"
      ]
     },
     "metadata": {},
     "output_type": "display_data"
    },
    {
     "data": {
      "application/vnd.jupyter.widget-view+json": {
       "model_id": "ef6c22ac22d14d20bc989ad3d4c03282",
       "version_major": 2,
       "version_minor": 0
      },
      "text/plain": [
       "Comparing all faces to kvnovikov_no_glasses_112.jpg:   0%|          | 0/76 [00:00<?, ?image/s]"
      ]
     },
     "metadata": {},
     "output_type": "display_data"
    },
    {
     "data": {
      "application/vnd.jupyter.widget-view+json": {
       "model_id": "ff051cc6c4004711bc523ca46edd2951",
       "version_major": 2,
       "version_minor": 0
      },
      "text/plain": [
       "Comparing all faces to limiroshnichenko_no_glasses_112.jpg:   0%|          | 0/76 [00:00<?, ?image/s]"
      ]
     },
     "metadata": {},
     "output_type": "display_data"
    },
    {
     "data": {
      "application/vnd.jupyter.widget-view+json": {
       "model_id": "d6af7fb4d0844c868ea602b1be4052d1",
       "version_major": 2,
       "version_minor": 0
      },
      "text/plain": [
       "Comparing all faces to madusov_no_glasses_112.jpg:   0%|          | 0/76 [00:00<?, ?image/s]"
      ]
     },
     "metadata": {},
     "output_type": "display_data"
    },
    {
     "data": {
      "application/vnd.jupyter.widget-view+json": {
       "model_id": "86e1e2b7a40d4747abc7893779d5a7c4",
       "version_major": 2,
       "version_minor": 0
      },
      "text/plain": [
       "Comparing all faces to mapivovarova_no_glasses_112.jpg:   0%|          | 0/76 [00:00<?, ?image/s]"
      ]
     },
     "metadata": {},
     "output_type": "display_data"
    },
    {
     "data": {
      "application/vnd.jupyter.widget-view+json": {
       "model_id": "b305fdf95526426a8ab15d36bbc87cc1",
       "version_major": 2,
       "version_minor": 0
      },
      "text/plain": [
       "Comparing all faces to masadkovskaya_no_glasses_112.jpg:   0%|          | 0/76 [00:00<?, ?image/s]"
      ]
     },
     "metadata": {},
     "output_type": "display_data"
    },
    {
     "data": {
      "application/vnd.jupyter.widget-view+json": {
       "model_id": "24bfd174cc0f4afb8af143ab2f83f256",
       "version_major": 2,
       "version_minor": 0
      },
      "text/plain": [
       "Comparing all faces to mdspitsyn_no_glasses_112.jpg:   0%|          | 0/76 [00:00<?, ?image/s]"
      ]
     },
     "metadata": {},
     "output_type": "display_data"
    },
    {
     "data": {
      "application/vnd.jupyter.widget-view+json": {
       "model_id": "68dcb98d773a40369830591a44c17ff5",
       "version_major": 2,
       "version_minor": 0
      },
      "text/plain": [
       "Comparing all faces to mvemelianenko_no_glasses_112.jpg:   0%|          | 0/76 [00:00<?, ?image/s]"
      ]
     },
     "metadata": {},
     "output_type": "display_data"
    },
    {
     "data": {
      "application/vnd.jupyter.widget-view+json": {
       "model_id": "14647e005a1b42959f438284cc438963",
       "version_major": 2,
       "version_minor": 0
      },
      "text/plain": [
       "Comparing all faces to mvmoiseev_no_glasses_112.jpg:   0%|          | 0/76 [00:00<?, ?image/s]"
      ]
     },
     "metadata": {},
     "output_type": "display_data"
    },
    {
     "data": {
      "application/vnd.jupyter.widget-view+json": {
       "model_id": "6732bea958ad4073b4073f8292a793da",
       "version_major": 2,
       "version_minor": 0
      },
      "text/plain": [
       "Comparing all faces to mvyakovlev_1_no_glasses_112.jpg:   0%|          | 0/76 [00:00<?, ?image/s]"
      ]
     },
     "metadata": {},
     "output_type": "display_data"
    },
    {
     "data": {
      "application/vnd.jupyter.widget-view+json": {
       "model_id": "367ba9badc5a40298099a17a6cc4a99a",
       "version_major": 2,
       "version_minor": 0
      },
      "text/plain": [
       "Comparing all faces to myumikheev_no_glasses_112.jpg:   0%|          | 0/76 [00:00<?, ?image/s]"
      ]
     },
     "metadata": {},
     "output_type": "display_data"
    },
    {
     "data": {
      "application/vnd.jupyter.widget-view+json": {
       "model_id": "161d8281ca844d5ea9c33202e4dd5739",
       "version_major": 2,
       "version_minor": 0
      },
      "text/plain": [
       "Comparing all faces to narybakovskiy_no_glasses_112.jpg:   0%|          | 0/76 [00:00<?, ?image/s]"
      ]
     },
     "metadata": {},
     "output_type": "display_data"
    },
    {
     "data": {
      "application/vnd.jupyter.widget-view+json": {
       "model_id": "a41da3a50d96492bb7efb37f3845e7f3",
       "version_major": 2,
       "version_minor": 0
      },
      "text/plain": [
       "Comparing all faces to ndkubaev_no_glasses_112.jpg:   0%|          | 0/76 [00:00<?, ?image/s]"
      ]
     },
     "metadata": {},
     "output_type": "display_data"
    },
    {
     "data": {
      "application/vnd.jupyter.widget-view+json": {
       "model_id": "959b03ff6940403c9a28c17605710fc4",
       "version_major": 2,
       "version_minor": 0
      },
      "text/plain": [
       "Comparing all faces to nepyrlitsanu_no_glasses_112.jpg:   0%|          | 0/76 [00:00<?, ?image/s]"
      ]
     },
     "metadata": {},
     "output_type": "display_data"
    },
    {
     "data": {
      "application/vnd.jupyter.widget-view+json": {
       "model_id": "e0f31bce3f604333ab873cb510fb4de7",
       "version_major": 2,
       "version_minor": 0
      },
      "text/plain": [
       "Comparing all faces to palmasizade_no_glasses_112.jpg:   0%|          | 0/76 [00:00<?, ?image/s]"
      ]
     },
     "metadata": {},
     "output_type": "display_data"
    },
    {
     "data": {
      "application/vnd.jupyter.widget-view+json": {
       "model_id": "6b67f4f6e5544b3fb77c8b367646c878",
       "version_major": 2,
       "version_minor": 0
      },
      "text/plain": [
       "Comparing all faces to prybakov_glasses_112.jpg:   0%|          | 0/76 [00:00<?, ?image/s]"
      ]
     },
     "metadata": {},
     "output_type": "display_data"
    },
    {
     "data": {
      "application/vnd.jupyter.widget-view+json": {
       "model_id": "f208bfd1a3904843a816b0e47a8b31ee",
       "version_major": 2,
       "version_minor": 0
      },
      "text/plain": [
       "Comparing all faces to prybakov_no_glasses_112.jpg:   0%|          | 0/76 [00:00<?, ?image/s]"
      ]
     },
     "metadata": {},
     "output_type": "display_data"
    },
    {
     "data": {
      "application/vnd.jupyter.widget-view+json": {
       "model_id": "2568d72f7af7440aa45ea271524ab40e",
       "version_major": 2,
       "version_minor": 0
      },
      "text/plain": [
       "Comparing all faces to rbadalian_no_glasses_112.jpg:   0%|          | 0/76 [00:00<?, ?image/s]"
      ]
     },
     "metadata": {},
     "output_type": "display_data"
    },
    {
     "data": {
      "application/vnd.jupyter.widget-view+json": {
       "model_id": "bc6b1c88c6944e7eb6263275225862b8",
       "version_major": 2,
       "version_minor": 0
      },
      "text/plain": [
       "Comparing all faces to rrminnegalieva_glasses_112.jpg:   0%|          | 0/76 [00:00<?, ?image/s]"
      ]
     },
     "metadata": {},
     "output_type": "display_data"
    },
    {
     "data": {
      "application/vnd.jupyter.widget-view+json": {
       "model_id": "b66122e1b81b4eb698afa628560fa711",
       "version_major": 2,
       "version_minor": 0
      },
      "text/plain": [
       "Comparing all faces to saslastnikov_no_glasses_112.jpg:   0%|          | 0/76 [00:00<?, ?image/s]"
      ]
     },
     "metadata": {},
     "output_type": "display_data"
    },
    {
     "data": {
      "application/vnd.jupyter.widget-view+json": {
       "model_id": "28537ef5f1a54cd182394bab77193eb4",
       "version_major": 2,
       "version_minor": 0
      },
      "text/plain": [
       "Comparing all faces to svkozaev_no_glasses_112.jpg:   0%|          | 0/76 [00:00<?, ?image/s]"
      ]
     },
     "metadata": {},
     "output_type": "display_data"
    },
    {
     "data": {
      "application/vnd.jupyter.widget-view+json": {
       "model_id": "ef3ca2b5236841c79cf3aaedf9c96b0c",
       "version_major": 2,
       "version_minor": 0
      },
      "text/plain": [
       "Comparing all faces to vachudnovskiy_no_glasses_112.jpg:   0%|          | 0/76 [00:00<?, ?image/s]"
      ]
     },
     "metadata": {},
     "output_type": "display_data"
    },
    {
     "data": {
      "application/vnd.jupyter.widget-view+json": {
       "model_id": "690ba782067d4920afe3642cce08cecc",
       "version_major": 2,
       "version_minor": 0
      },
      "text/plain": [
       "Comparing all faces to vakabisov_no_glasses_112.jpg:   0%|          | 0/76 [00:00<?, ?image/s]"
      ]
     },
     "metadata": {},
     "output_type": "display_data"
    },
    {
     "data": {
      "application/vnd.jupyter.widget-view+json": {
       "model_id": "145b03e44d804715b5f06d0f9d3636b0",
       "version_major": 2,
       "version_minor": 0
      },
      "text/plain": [
       "Comparing all faces to vashin_no_glasses_112.jpg:   0%|          | 0/76 [00:00<?, ?image/s]"
      ]
     },
     "metadata": {},
     "output_type": "display_data"
    },
    {
     "data": {
      "application/vnd.jupyter.widget-view+json": {
       "model_id": "23d44c3f12774eb3b71d578711dff19c",
       "version_major": 2,
       "version_minor": 0
      },
      "text/plain": [
       "Comparing all faces to vianoshin_glasses_112.jpg:   0%|          | 0/76 [00:00<?, ?image/s]"
      ]
     },
     "metadata": {},
     "output_type": "display_data"
    },
    {
     "data": {
      "application/vnd.jupyter.widget-view+json": {
       "model_id": "75ca5132ca3d467eaf26ea6412af0750",
       "version_major": 2,
       "version_minor": 0
      },
      "text/plain": [
       "Comparing all faces to vianoshin_no_glasses_112.jpg:   0%|          | 0/76 [00:00<?, ?image/s]"
      ]
     },
     "metadata": {},
     "output_type": "display_data"
    },
    {
     "data": {
      "application/vnd.jupyter.widget-view+json": {
       "model_id": "1c0ee646569d4460aefbdc64796e8640",
       "version_major": 2,
       "version_minor": 0
      },
      "text/plain": [
       "Comparing all faces to vkduborova_no_glasses_112.jpg:   0%|          | 0/76 [00:00<?, ?image/s]"
      ]
     },
     "metadata": {},
     "output_type": "display_data"
    },
    {
     "data": {
      "application/vnd.jupyter.widget-view+json": {
       "model_id": "c2b5b7a8cdee48469aaf5f3b0cf6147b",
       "version_major": 2,
       "version_minor": 0
      },
      "text/plain": [
       "Comparing all faces to vnemna_glasses_112.jpg:   0%|          | 0/76 [00:00<?, ?image/s]"
      ]
     },
     "metadata": {},
     "output_type": "display_data"
    },
    {
     "data": {
      "application/vnd.jupyter.widget-view+json": {
       "model_id": "615c873ac93641318696e606bcf6b19a",
       "version_major": 2,
       "version_minor": 0
      },
      "text/plain": [
       "Comparing all faces to vnemna_no_glasses_112.jpg:   0%|          | 0/76 [00:00<?, ?image/s]"
      ]
     },
     "metadata": {},
     "output_type": "display_data"
    },
    {
     "data": {
      "application/vnd.jupyter.widget-view+json": {
       "model_id": "a96ef1824e7f46c38334d8ec2296b1d7",
       "version_major": 2,
       "version_minor": 0
      },
      "text/plain": [
       "Comparing all faces to vyunastasova_glasses_112.jpg:   0%|          | 0/76 [00:00<?, ?image/s]"
      ]
     },
     "metadata": {},
     "output_type": "display_data"
    },
    {
     "data": {
      "application/vnd.jupyter.widget-view+json": {
       "model_id": "736fd57a32b848feaf5438c18431e84c",
       "version_major": 2,
       "version_minor": 0
      },
      "text/plain": [
       "Comparing all faces to vyunastasova_no_glasses_112.jpg:   0%|          | 0/76 [00:00<?, ?image/s]"
      ]
     },
     "metadata": {},
     "output_type": "display_data"
    },
    {
     "data": {
      "application/vnd.jupyter.widget-view+json": {
       "model_id": "3ff3c8ed1e4d4000b690aede63ba15f6",
       "version_major": 2,
       "version_minor": 0
      },
      "text/plain": [
       "Processing with SFace:   0%|          | 0/76 [00:00<?, ?image/s]"
      ]
     },
     "metadata": {},
     "output_type": "display_data"
    },
    {
     "data": {
      "application/vnd.jupyter.widget-view+json": {
       "model_id": "3e532ea4ffa54654891698a50ae2cc8c",
       "version_major": 2,
       "version_minor": 0
      },
      "text/plain": [
       "Comparing all faces to aabarstok_glasses_112.jpg:   0%|          | 0/76 [00:00<?, ?image/s]"
      ]
     },
     "metadata": {},
     "output_type": "display_data"
    },
    {
     "data": {
      "application/vnd.jupyter.widget-view+json": {
       "model_id": "079ad183eaad47dbbdbd933546a0ceae",
       "version_major": 2,
       "version_minor": 0
      },
      "text/plain": [
       "Comparing all faces to aabarstok_no_glasses_112.jpg:   0%|          | 0/76 [00:00<?, ?image/s]"
      ]
     },
     "metadata": {},
     "output_type": "display_data"
    },
    {
     "data": {
      "application/vnd.jupyter.widget-view+json": {
       "model_id": "c51fcbafe377432285b663cd6efd4abd",
       "version_major": 2,
       "version_minor": 0
      },
      "text/plain": [
       "Comparing all faces to aamartynenko_9_no_glasses_112.jpg:   0%|          | 0/76 [00:00<?, ?image/s]"
      ]
     },
     "metadata": {},
     "output_type": "display_data"
    },
    {
     "data": {
      "application/vnd.jupyter.widget-view+json": {
       "model_id": "e4d5f9c6810944e6af092d8742f834aa",
       "version_major": 2,
       "version_minor": 0
      },
      "text/plain": [
       "Comparing all faces to aazheltov_1_no_glasses_112.jpg:   0%|          | 0/76 [00:00<?, ?image/s]"
      ]
     },
     "metadata": {},
     "output_type": "display_data"
    },
    {
     "data": {
      "application/vnd.jupyter.widget-view+json": {
       "model_id": "890f2d245ae947c994e61a6398d8914a",
       "version_major": 2,
       "version_minor": 0
      },
      "text/plain": [
       "Comparing all faces to adletunov_no_glasses_112.jpg:   0%|          | 0/76 [00:00<?, ?image/s]"
      ]
     },
     "metadata": {},
     "output_type": "display_data"
    },
    {
     "data": {
      "application/vnd.jupyter.widget-view+json": {
       "model_id": "691b06ed14b34c82a2cc84d0937c293a",
       "version_major": 2,
       "version_minor": 0
      },
      "text/plain": [
       "Comparing all faces to adpiskunov_no_glasses_112.jpg:   0%|          | 0/76 [00:00<?, ?image/s]"
      ]
     },
     "metadata": {},
     "output_type": "display_data"
    },
    {
     "data": {
      "application/vnd.jupyter.widget-view+json": {
       "model_id": "7c582fdc862e47aba2a4db934ab0af07",
       "version_major": 2,
       "version_minor": 0
      },
      "text/plain": [
       "Comparing all faces to agmargaryan_no_glasses_112.jpg:   0%|          | 0/76 [00:00<?, ?image/s]"
      ]
     },
     "metadata": {},
     "output_type": "display_data"
    },
    {
     "data": {
      "application/vnd.jupyter.widget-view+json": {
       "model_id": "fa29239a067140198b2730ee74eaf62c",
       "version_major": 2,
       "version_minor": 0
      },
      "text/plain": [
       "Comparing all faces to aimilovanova_no_glasses_112.jpg:   0%|          | 0/76 [00:00<?, ?image/s]"
      ]
     },
     "metadata": {},
     "output_type": "display_data"
    },
    {
     "data": {
      "application/vnd.jupyter.widget-view+json": {
       "model_id": "8df7579be9cf4634a54b70877cfa9dbc",
       "version_major": 2,
       "version_minor": 0
      },
      "text/plain": [
       "Comparing all faces to alalkhromov_no_glasses_112.jpg:   0%|          | 0/76 [00:00<?, ?image/s]"
      ]
     },
     "metadata": {},
     "output_type": "display_data"
    },
    {
     "data": {
      "application/vnd.jupyter.widget-view+json": {
       "model_id": "6b85d470f8e445cf980204c73baa2d81",
       "version_major": 2,
       "version_minor": 0
      },
      "text/plain": [
       "Comparing all faces to ameliseenko_glasses_112.jpg:   0%|          | 0/76 [00:00<?, ?image/s]"
      ]
     },
     "metadata": {},
     "output_type": "display_data"
    },
    {
     "data": {
      "application/vnd.jupyter.widget-view+json": {
       "model_id": "40120ce0f77a44c087dc4cb4ae5617c2",
       "version_major": 2,
       "version_minor": 0
      },
      "text/plain": [
       "Comparing all faces to ameliseenko_no_glasses_112.jpg:   0%|          | 0/76 [00:00<?, ?image/s]"
      ]
     },
     "metadata": {},
     "output_type": "display_data"
    },
    {
     "data": {
      "application/vnd.jupyter.widget-view+json": {
       "model_id": "0ede796df6b34e078c7cca9b39b551fd",
       "version_major": 2,
       "version_minor": 0
      },
      "text/plain": [
       "Comparing all faces to amsirotkin_no_glasses_112.jpg:   0%|          | 0/76 [00:00<?, ?image/s]"
      ]
     },
     "metadata": {},
     "output_type": "display_data"
    },
    {
     "data": {
      "application/vnd.jupyter.widget-view+json": {
       "model_id": "a393387e73764f9bbcbe1a0a221a9e20",
       "version_major": 2,
       "version_minor": 0
      },
      "text/plain": [
       "Comparing all faces to amzayakina_glasses_112.jpg:   0%|          | 0/76 [00:00<?, ?image/s]"
      ]
     },
     "metadata": {},
     "output_type": "display_data"
    },
    {
     "data": {
      "application/vnd.jupyter.widget-view+json": {
       "model_id": "72c45923c8704ec4978afc22d2ce782b",
       "version_major": 2,
       "version_minor": 0
      },
      "text/plain": [
       "Comparing all faces to amzayakina_no_glasses_112.jpg:   0%|          | 0/76 [00:00<?, ?image/s]"
      ]
     },
     "metadata": {},
     "output_type": "display_data"
    },
    {
     "data": {
      "application/vnd.jupyter.widget-view+json": {
       "model_id": "37027ac07ffe45fbb9c6d84e9719c7fb",
       "version_major": 2,
       "version_minor": 0
      },
      "text/plain": [
       "Comparing all faces to appecherskih_no_glasses_112.jpg:   0%|          | 0/76 [00:00<?, ?image/s]"
      ]
     },
     "metadata": {},
     "output_type": "display_data"
    },
    {
     "data": {
      "application/vnd.jupyter.widget-view+json": {
       "model_id": "e19acafc80bf4a63aef8a26423d4971e",
       "version_major": 2,
       "version_minor": 0
      },
      "text/plain": [
       "Comparing all faces to arandarbua_no_glasses_112.jpg:   0%|          | 0/76 [00:00<?, ?image/s]"
      ]
     },
     "metadata": {},
     "output_type": "display_data"
    },
    {
     "data": {
      "application/vnd.jupyter.widget-view+json": {
       "model_id": "f818e8373073417f9d742e810ba802c0",
       "version_major": 2,
       "version_minor": 0
      },
      "text/plain": [
       "Comparing all faces to archilingarov_no_glasses_112.jpg:   0%|          | 0/76 [00:00<?, ?image/s]"
      ]
     },
     "metadata": {},
     "output_type": "display_data"
    },
    {
     "data": {
      "application/vnd.jupyter.widget-view+json": {
       "model_id": "730a41869abd441fa10e2298222a3a55",
       "version_major": 2,
       "version_minor": 0
      },
      "text/plain": [
       "Comparing all faces to arkhabibullina_3_no_glasses_112.jpg:   0%|          | 0/76 [00:00<?, ?image/s]"
      ]
     },
     "metadata": {},
     "output_type": "display_data"
    },
    {
     "data": {
      "application/vnd.jupyter.widget-view+json": {
       "model_id": "aa601092fb08434e84faf87929ee98f9",
       "version_major": 2,
       "version_minor": 0
      },
      "text/plain": [
       "Comparing all faces to asbaranova_glasses_112.jpg:   0%|          | 0/76 [00:00<?, ?image/s]"
      ]
     },
     "metadata": {},
     "output_type": "display_data"
    },
    {
     "data": {
      "application/vnd.jupyter.widget-view+json": {
       "model_id": "77fd51b064994ef195b86007cfde2932",
       "version_major": 2,
       "version_minor": 0
      },
      "text/plain": [
       "Comparing all faces to asbaranova_no_glasses_112.jpg:   0%|          | 0/76 [00:00<?, ?image/s]"
      ]
     },
     "metadata": {},
     "output_type": "display_data"
    },
    {
     "data": {
      "application/vnd.jupyter.widget-view+json": {
       "model_id": "d48aac75b44b42eab9b234a9c58b6606",
       "version_major": 2,
       "version_minor": 0
      },
      "text/plain": [
       "Comparing all faces to avmatvienko_1_no_glasses_112.jpg:   0%|          | 0/76 [00:00<?, ?image/s]"
      ]
     },
     "metadata": {},
     "output_type": "display_data"
    },
    {
     "data": {
      "application/vnd.jupyter.widget-view+json": {
       "model_id": "44d790777ccd4fbbb5cf67bee663ca34",
       "version_major": 2,
       "version_minor": 0
      },
      "text/plain": [
       "Comparing all faces to avpapina_no_glasses_112.jpg:   0%|          | 0/76 [00:00<?, ?image/s]"
      ]
     },
     "metadata": {},
     "output_type": "display_data"
    },
    {
     "data": {
      "application/vnd.jupyter.widget-view+json": {
       "model_id": "4c55590ddd4348a39fa1dd87635b66c1",
       "version_major": 2,
       "version_minor": 0
      },
      "text/plain": [
       "Comparing all faces to ayuvasileva_1_no_glasses_112.jpg:   0%|          | 0/76 [00:00<?, ?image/s]"
      ]
     },
     "metadata": {},
     "output_type": "display_data"
    },
    {
     "data": {
      "application/vnd.jupyter.widget-view+json": {
       "model_id": "14d9e2308c2c4b2ab64858e256d420a3",
       "version_major": 2,
       "version_minor": 0
      },
      "text/plain": [
       "Comparing all faces to dashubin_no_glasses_112.jpg:   0%|          | 0/76 [00:00<?, ?image/s]"
      ]
     },
     "metadata": {},
     "output_type": "display_data"
    },
    {
     "data": {
      "application/vnd.jupyter.widget-view+json": {
       "model_id": "978caab1c0d648989ccbb3908c5333a3",
       "version_major": 2,
       "version_minor": 0
      },
      "text/plain": [
       "Comparing all faces to datikhomirov_no_glasses_112.jpg:   0%|          | 0/76 [00:00<?, ?image/s]"
      ]
     },
     "metadata": {},
     "output_type": "display_data"
    },
    {
     "data": {
      "application/vnd.jupyter.widget-view+json": {
       "model_id": "e7fc497bb1ff4c428f0f3a919cc85527",
       "version_major": 2,
       "version_minor": 0
      },
      "text/plain": [
       "Comparing all faces to dkorolev_no_glasses_112.jpg:   0%|          | 0/76 [00:00<?, ?image/s]"
      ]
     },
     "metadata": {},
     "output_type": "display_data"
    },
    {
     "data": {
      "application/vnd.jupyter.widget-view+json": {
       "model_id": "f520a5afc15f474c911fc708bb9347a5",
       "version_major": 2,
       "version_minor": 0
      },
      "text/plain": [
       "Comparing all faces to dmbobrova_no_glasses_112.jpg:   0%|          | 0/76 [00:00<?, ?image/s]"
      ]
     },
     "metadata": {},
     "output_type": "display_data"
    },
    {
     "data": {
      "application/vnd.jupyter.widget-view+json": {
       "model_id": "8f164c8508334f2b8f0326ab3f89860c",
       "version_major": 2,
       "version_minor": 0
      },
      "text/plain": [
       "Comparing all faces to drsmirnov_glasses_112.jpg:   0%|          | 0/76 [00:00<?, ?image/s]"
      ]
     },
     "metadata": {},
     "output_type": "display_data"
    },
    {
     "data": {
      "application/vnd.jupyter.widget-view+json": {
       "model_id": "c7159a65e10a4ed593e93cec9e6b24ff",
       "version_major": 2,
       "version_minor": 0
      },
      "text/plain": [
       "Comparing all faces to drsmirnov_no_glasses_112.jpg:   0%|          | 0/76 [00:00<?, ?image/s]"
      ]
     },
     "metadata": {},
     "output_type": "display_data"
    },
    {
     "data": {
      "application/vnd.jupyter.widget-view+json": {
       "model_id": "f9cb2f92d1c941d595a4d9e932077b00",
       "version_major": 2,
       "version_minor": 0
      },
      "text/plain": [
       "Comparing all faces to dvzaitseva_glasses_112.jpg:   0%|          | 0/76 [00:00<?, ?image/s]"
      ]
     },
     "metadata": {},
     "output_type": "display_data"
    },
    {
     "data": {
      "application/vnd.jupyter.widget-view+json": {
       "model_id": "607ef389510e466c92044bc0f8abc1ec",
       "version_major": 2,
       "version_minor": 0
      },
      "text/plain": [
       "Comparing all faces to dvzaitseva_no_glasses_112.jpg:   0%|          | 0/76 [00:00<?, ?image/s]"
      ]
     },
     "metadata": {},
     "output_type": "display_data"
    },
    {
     "data": {
      "application/vnd.jupyter.widget-view+json": {
       "model_id": "eef163a7e5b6449485e458f80fab4cb6",
       "version_major": 2,
       "version_minor": 0
      },
      "text/plain": [
       "Comparing all faces to eamilekhina_glasses_112.jpg:   0%|          | 0/76 [00:00<?, ?image/s]"
      ]
     },
     "metadata": {},
     "output_type": "display_data"
    },
    {
     "data": {
      "application/vnd.jupyter.widget-view+json": {
       "model_id": "5cf36f086d4a4585b42aef943627ab26",
       "version_major": 2,
       "version_minor": 0
      },
      "text/plain": [
       "Comparing all faces to eamilekhina_no_glasses_112.jpg:   0%|          | 0/76 [00:00<?, ?image/s]"
      ]
     },
     "metadata": {},
     "output_type": "display_data"
    },
    {
     "data": {
      "application/vnd.jupyter.widget-view+json": {
       "model_id": "3bb1c4c94c1c4c6bafdc3b9fb221a4da",
       "version_major": 2,
       "version_minor": 0
      },
      "text/plain": [
       "Comparing all faces to eelogvina_no_glasses_112.jpg:   0%|          | 0/76 [00:00<?, ?image/s]"
      ]
     },
     "metadata": {},
     "output_type": "display_data"
    },
    {
     "data": {
      "application/vnd.jupyter.widget-view+json": {
       "model_id": "a1873e2888e84db69964de8134b449c4",
       "version_major": 2,
       "version_minor": 0
      },
      "text/plain": [
       "Comparing all faces to eggadzhiev_glasses_112.jpg:   0%|          | 0/76 [00:00<?, ?image/s]"
      ]
     },
     "metadata": {},
     "output_type": "display_data"
    },
    {
     "data": {
      "application/vnd.jupyter.widget-view+json": {
       "model_id": "c6772d942a7f427e94a3a2c25113348d",
       "version_major": 2,
       "version_minor": 0
      },
      "text/plain": [
       "Comparing all faces to eggadzhiev_no_glasses_112.jpg:   0%|          | 0/76 [00:00<?, ?image/s]"
      ]
     },
     "metadata": {},
     "output_type": "display_data"
    },
    {
     "data": {
      "application/vnd.jupyter.widget-view+json": {
       "model_id": "717141cd066849b7a6bea8b193cda684",
       "version_major": 2,
       "version_minor": 0
      },
      "text/plain": [
       "Comparing all faces to evdarkhanov_no_glasses_112.jpg:   0%|          | 0/76 [00:00<?, ?image/s]"
      ]
     },
     "metadata": {},
     "output_type": "display_data"
    },
    {
     "data": {
      "application/vnd.jupyter.widget-view+json": {
       "model_id": "2dd33a9a99f045b395f8efb5bf267816",
       "version_major": 2,
       "version_minor": 0
      },
      "text/plain": [
       "Comparing all faces to gaataev_no_glasses_112.jpg:   0%|          | 0/76 [00:00<?, ?image/s]"
      ]
     },
     "metadata": {},
     "output_type": "display_data"
    },
    {
     "data": {
      "application/vnd.jupyter.widget-view+json": {
       "model_id": "9b3f491f96b4471aaafd89cbe91b79b1",
       "version_major": 2,
       "version_minor": 0
      },
      "text/plain": [
       "Comparing all faces to imsalakhov_glasses_112.jpg:   0%|          | 0/76 [00:00<?, ?image/s]"
      ]
     },
     "metadata": {},
     "output_type": "display_data"
    },
    {
     "data": {
      "application/vnd.jupyter.widget-view+json": {
       "model_id": "a774f8ff20364d81b27614efa98619ac",
       "version_major": 2,
       "version_minor": 0
      },
      "text/plain": [
       "Comparing all faces to imsalakhov_no_glasses_112.jpg:   0%|          | 0/76 [00:00<?, ?image/s]"
      ]
     },
     "metadata": {},
     "output_type": "display_data"
    },
    {
     "data": {
      "application/vnd.jupyter.widget-view+json": {
       "model_id": "1f2d980bdb404ea39115f69fc333c8ef",
       "version_major": 2,
       "version_minor": 0
      },
      "text/plain": [
       "Comparing all faces to ipustenko_no_glasses_112.jpg:   0%|          | 0/76 [00:00<?, ?image/s]"
      ]
     },
     "metadata": {},
     "output_type": "display_data"
    },
    {
     "data": {
      "application/vnd.jupyter.widget-view+json": {
       "model_id": "d357948657714346910318fae2115467",
       "version_major": 2,
       "version_minor": 0
      },
      "text/plain": [
       "Comparing all faces to ischekanov_no_glasses_112.jpg:   0%|          | 0/76 [00:00<?, ?image/s]"
      ]
     },
     "metadata": {},
     "output_type": "display_data"
    },
    {
     "data": {
      "application/vnd.jupyter.widget-view+json": {
       "model_id": "e4d3725b18614c9dbb3913992badaff1",
       "version_major": 2,
       "version_minor": 0
      },
      "text/plain": [
       "Comparing all faces to isulanova_no_glasses_112.jpg:   0%|          | 0/76 [00:00<?, ?image/s]"
      ]
     },
     "metadata": {},
     "output_type": "display_data"
    },
    {
     "data": {
      "application/vnd.jupyter.widget-view+json": {
       "model_id": "2efbea96e1ff4ff689a9bc06baa46e3c",
       "version_major": 2,
       "version_minor": 0
      },
      "text/plain": [
       "Comparing all faces to kdfrolov_no_glasses_112.jpg:   0%|          | 0/76 [00:00<?, ?image/s]"
      ]
     },
     "metadata": {},
     "output_type": "display_data"
    },
    {
     "data": {
      "application/vnd.jupyter.widget-view+json": {
       "model_id": "922a50501bed4c5799eb78a78e6d92ba",
       "version_major": 2,
       "version_minor": 0
      },
      "text/plain": [
       "Comparing all faces to khtalbegov_no_glasses_112.jpg:   0%|          | 0/76 [00:00<?, ?image/s]"
      ]
     },
     "metadata": {},
     "output_type": "display_data"
    },
    {
     "data": {
      "application/vnd.jupyter.widget-view+json": {
       "model_id": "40e5be4aeb094d74854728514f6a0719",
       "version_major": 2,
       "version_minor": 0
      },
      "text/plain": [
       "Comparing all faces to kvnovikov_glasses_112.jpg:   0%|          | 0/76 [00:00<?, ?image/s]"
      ]
     },
     "metadata": {},
     "output_type": "display_data"
    },
    {
     "data": {
      "application/vnd.jupyter.widget-view+json": {
       "model_id": "97f14ef1fae74809bc539982c03b5e20",
       "version_major": 2,
       "version_minor": 0
      },
      "text/plain": [
       "Comparing all faces to kvnovikov_no_glasses_112.jpg:   0%|          | 0/76 [00:00<?, ?image/s]"
      ]
     },
     "metadata": {},
     "output_type": "display_data"
    },
    {
     "data": {
      "application/vnd.jupyter.widget-view+json": {
       "model_id": "25e7ad8c831e4159b49eed547e4eb58e",
       "version_major": 2,
       "version_minor": 0
      },
      "text/plain": [
       "Comparing all faces to limiroshnichenko_no_glasses_112.jpg:   0%|          | 0/76 [00:00<?, ?image/s]"
      ]
     },
     "metadata": {},
     "output_type": "display_data"
    },
    {
     "data": {
      "application/vnd.jupyter.widget-view+json": {
       "model_id": "bc8a749b35294782be3729d27b2a149c",
       "version_major": 2,
       "version_minor": 0
      },
      "text/plain": [
       "Comparing all faces to madusov_no_glasses_112.jpg:   0%|          | 0/76 [00:00<?, ?image/s]"
      ]
     },
     "metadata": {},
     "output_type": "display_data"
    },
    {
     "data": {
      "application/vnd.jupyter.widget-view+json": {
       "model_id": "8bdee32a670f41549b98eba0358516ec",
       "version_major": 2,
       "version_minor": 0
      },
      "text/plain": [
       "Comparing all faces to mapivovarova_no_glasses_112.jpg:   0%|          | 0/76 [00:00<?, ?image/s]"
      ]
     },
     "metadata": {},
     "output_type": "display_data"
    },
    {
     "data": {
      "application/vnd.jupyter.widget-view+json": {
       "model_id": "2873568928db40ceb314b0524e06eca8",
       "version_major": 2,
       "version_minor": 0
      },
      "text/plain": [
       "Comparing all faces to masadkovskaya_no_glasses_112.jpg:   0%|          | 0/76 [00:00<?, ?image/s]"
      ]
     },
     "metadata": {},
     "output_type": "display_data"
    },
    {
     "data": {
      "application/vnd.jupyter.widget-view+json": {
       "model_id": "7a944a89b854420a90751de96c579550",
       "version_major": 2,
       "version_minor": 0
      },
      "text/plain": [
       "Comparing all faces to mdspitsyn_no_glasses_112.jpg:   0%|          | 0/76 [00:00<?, ?image/s]"
      ]
     },
     "metadata": {},
     "output_type": "display_data"
    },
    {
     "data": {
      "application/vnd.jupyter.widget-view+json": {
       "model_id": "26a3ddbcdfc948a29e4238c141c28751",
       "version_major": 2,
       "version_minor": 0
      },
      "text/plain": [
       "Comparing all faces to mvemelianenko_no_glasses_112.jpg:   0%|          | 0/76 [00:00<?, ?image/s]"
      ]
     },
     "metadata": {},
     "output_type": "display_data"
    },
    {
     "data": {
      "application/vnd.jupyter.widget-view+json": {
       "model_id": "725c27f0ad294695b1caa69fb996018b",
       "version_major": 2,
       "version_minor": 0
      },
      "text/plain": [
       "Comparing all faces to mvmoiseev_no_glasses_112.jpg:   0%|          | 0/76 [00:00<?, ?image/s]"
      ]
     },
     "metadata": {},
     "output_type": "display_data"
    },
    {
     "data": {
      "application/vnd.jupyter.widget-view+json": {
       "model_id": "eb7c74e3a1b84b5081ca865f7a0352fc",
       "version_major": 2,
       "version_minor": 0
      },
      "text/plain": [
       "Comparing all faces to mvyakovlev_1_no_glasses_112.jpg:   0%|          | 0/76 [00:00<?, ?image/s]"
      ]
     },
     "metadata": {},
     "output_type": "display_data"
    },
    {
     "data": {
      "application/vnd.jupyter.widget-view+json": {
       "model_id": "d821318a96d140118ad134e43d3d8f9b",
       "version_major": 2,
       "version_minor": 0
      },
      "text/plain": [
       "Comparing all faces to myumikheev_no_glasses_112.jpg:   0%|          | 0/76 [00:00<?, ?image/s]"
      ]
     },
     "metadata": {},
     "output_type": "display_data"
    },
    {
     "data": {
      "application/vnd.jupyter.widget-view+json": {
       "model_id": "c0ce1d9940a44e7cafe1b8f013d45c60",
       "version_major": 2,
       "version_minor": 0
      },
      "text/plain": [
       "Comparing all faces to narybakovskiy_no_glasses_112.jpg:   0%|          | 0/76 [00:00<?, ?image/s]"
      ]
     },
     "metadata": {},
     "output_type": "display_data"
    },
    {
     "data": {
      "application/vnd.jupyter.widget-view+json": {
       "model_id": "a140ac5e61a445dda057a300c680608f",
       "version_major": 2,
       "version_minor": 0
      },
      "text/plain": [
       "Comparing all faces to ndkubaev_no_glasses_112.jpg:   0%|          | 0/76 [00:00<?, ?image/s]"
      ]
     },
     "metadata": {},
     "output_type": "display_data"
    },
    {
     "data": {
      "application/vnd.jupyter.widget-view+json": {
       "model_id": "a75955f425a7468ca13f240019abfde9",
       "version_major": 2,
       "version_minor": 0
      },
      "text/plain": [
       "Comparing all faces to nepyrlitsanu_no_glasses_112.jpg:   0%|          | 0/76 [00:00<?, ?image/s]"
      ]
     },
     "metadata": {},
     "output_type": "display_data"
    },
    {
     "data": {
      "application/vnd.jupyter.widget-view+json": {
       "model_id": "0d5797863b3b494ea2aed6a4b369dec9",
       "version_major": 2,
       "version_minor": 0
      },
      "text/plain": [
       "Comparing all faces to palmasizade_no_glasses_112.jpg:   0%|          | 0/76 [00:00<?, ?image/s]"
      ]
     },
     "metadata": {},
     "output_type": "display_data"
    },
    {
     "data": {
      "application/vnd.jupyter.widget-view+json": {
       "model_id": "2dd0a4db80944f8e8115be1c04d1b1f6",
       "version_major": 2,
       "version_minor": 0
      },
      "text/plain": [
       "Comparing all faces to prybakov_glasses_112.jpg:   0%|          | 0/76 [00:00<?, ?image/s]"
      ]
     },
     "metadata": {},
     "output_type": "display_data"
    },
    {
     "data": {
      "application/vnd.jupyter.widget-view+json": {
       "model_id": "29be65f5df894435804d2996fd4b8dd7",
       "version_major": 2,
       "version_minor": 0
      },
      "text/plain": [
       "Comparing all faces to prybakov_no_glasses_112.jpg:   0%|          | 0/76 [00:00<?, ?image/s]"
      ]
     },
     "metadata": {},
     "output_type": "display_data"
    },
    {
     "data": {
      "application/vnd.jupyter.widget-view+json": {
       "model_id": "cf0514049676419c9730d70bb8607de7",
       "version_major": 2,
       "version_minor": 0
      },
      "text/plain": [
       "Comparing all faces to rbadalian_no_glasses_112.jpg:   0%|          | 0/76 [00:00<?, ?image/s]"
      ]
     },
     "metadata": {},
     "output_type": "display_data"
    },
    {
     "data": {
      "application/vnd.jupyter.widget-view+json": {
       "model_id": "9a62029203af41f7ae2cdd7ab34df89a",
       "version_major": 2,
       "version_minor": 0
      },
      "text/plain": [
       "Comparing all faces to rrminnegalieva_glasses_112.jpg:   0%|          | 0/76 [00:00<?, ?image/s]"
      ]
     },
     "metadata": {},
     "output_type": "display_data"
    },
    {
     "data": {
      "application/vnd.jupyter.widget-view+json": {
       "model_id": "6a34d5b1c1ce4bed815693b1640a7725",
       "version_major": 2,
       "version_minor": 0
      },
      "text/plain": [
       "Comparing all faces to saslastnikov_no_glasses_112.jpg:   0%|          | 0/76 [00:00<?, ?image/s]"
      ]
     },
     "metadata": {},
     "output_type": "display_data"
    },
    {
     "data": {
      "application/vnd.jupyter.widget-view+json": {
       "model_id": "b79aeb515c8a45a18dfc6b6361cb4f4d",
       "version_major": 2,
       "version_minor": 0
      },
      "text/plain": [
       "Comparing all faces to svkozaev_no_glasses_112.jpg:   0%|          | 0/76 [00:00<?, ?image/s]"
      ]
     },
     "metadata": {},
     "output_type": "display_data"
    },
    {
     "data": {
      "application/vnd.jupyter.widget-view+json": {
       "model_id": "0c6ff8f83e4e4d62b8e725d008691ac7",
       "version_major": 2,
       "version_minor": 0
      },
      "text/plain": [
       "Comparing all faces to vachudnovskiy_no_glasses_112.jpg:   0%|          | 0/76 [00:00<?, ?image/s]"
      ]
     },
     "metadata": {},
     "output_type": "display_data"
    },
    {
     "data": {
      "application/vnd.jupyter.widget-view+json": {
       "model_id": "23a7a09a8f994fbd8a78c7c91010c4fe",
       "version_major": 2,
       "version_minor": 0
      },
      "text/plain": [
       "Comparing all faces to vakabisov_no_glasses_112.jpg:   0%|          | 0/76 [00:00<?, ?image/s]"
      ]
     },
     "metadata": {},
     "output_type": "display_data"
    },
    {
     "data": {
      "application/vnd.jupyter.widget-view+json": {
       "model_id": "07031912c21f45a4b7779857772402cc",
       "version_major": 2,
       "version_minor": 0
      },
      "text/plain": [
       "Comparing all faces to vashin_no_glasses_112.jpg:   0%|          | 0/76 [00:00<?, ?image/s]"
      ]
     },
     "metadata": {},
     "output_type": "display_data"
    },
    {
     "data": {
      "application/vnd.jupyter.widget-view+json": {
       "model_id": "80f576b4bbdc4a16bddd09d54277fad8",
       "version_major": 2,
       "version_minor": 0
      },
      "text/plain": [
       "Comparing all faces to vianoshin_glasses_112.jpg:   0%|          | 0/76 [00:00<?, ?image/s]"
      ]
     },
     "metadata": {},
     "output_type": "display_data"
    },
    {
     "data": {
      "application/vnd.jupyter.widget-view+json": {
       "model_id": "1c94e67c1a0847f197f3f0d64e69efc8",
       "version_major": 2,
       "version_minor": 0
      },
      "text/plain": [
       "Comparing all faces to vianoshin_no_glasses_112.jpg:   0%|          | 0/76 [00:00<?, ?image/s]"
      ]
     },
     "metadata": {},
     "output_type": "display_data"
    },
    {
     "data": {
      "application/vnd.jupyter.widget-view+json": {
       "model_id": "42e59a6e048f4921ae711ab0112ba2a3",
       "version_major": 2,
       "version_minor": 0
      },
      "text/plain": [
       "Comparing all faces to vkduborova_no_glasses_112.jpg:   0%|          | 0/76 [00:00<?, ?image/s]"
      ]
     },
     "metadata": {},
     "output_type": "display_data"
    },
    {
     "data": {
      "application/vnd.jupyter.widget-view+json": {
       "model_id": "8db6b82def3a454ebff496c1326a538a",
       "version_major": 2,
       "version_minor": 0
      },
      "text/plain": [
       "Comparing all faces to vnemna_glasses_112.jpg:   0%|          | 0/76 [00:00<?, ?image/s]"
      ]
     },
     "metadata": {},
     "output_type": "display_data"
    },
    {
     "data": {
      "application/vnd.jupyter.widget-view+json": {
       "model_id": "b1fbd90953b94acd84f4cb2c2d28ec7b",
       "version_major": 2,
       "version_minor": 0
      },
      "text/plain": [
       "Comparing all faces to vnemna_no_glasses_112.jpg:   0%|          | 0/76 [00:00<?, ?image/s]"
      ]
     },
     "metadata": {},
     "output_type": "display_data"
    },
    {
     "data": {
      "application/vnd.jupyter.widget-view+json": {
       "model_id": "e9687c9a73ae48c4adee14689cad801a",
       "version_major": 2,
       "version_minor": 0
      },
      "text/plain": [
       "Comparing all faces to vyunastasova_glasses_112.jpg:   0%|          | 0/76 [00:00<?, ?image/s]"
      ]
     },
     "metadata": {},
     "output_type": "display_data"
    },
    {
     "data": {
      "application/vnd.jupyter.widget-view+json": {
       "model_id": "5fc7e89bcbd245fbb11f9a7d72870fec",
       "version_major": 2,
       "version_minor": 0
      },
      "text/plain": [
       "Comparing all faces to vyunastasova_no_glasses_112.jpg:   0%|          | 0/76 [00:00<?, ?image/s]"
      ]
     },
     "metadata": {},
     "output_type": "display_data"
    },
    {
     "name": "stdout",
     "output_type": "stream",
     "text": [
      "CPU times: user 6h 53min 51s, sys: 21min 48s, total: 7h 15min 40s\n",
      "Wall time: 6h 43min 4s\n"
     ]
    }
   ],
   "source": [
    "%%time\n",
    "for model_name in model_names:\n",
    "    resolution = model_resolutions[model_name]\n",
    "    df_list = []\n",
    "\n",
    "    files = glob.glob(os.path.join(folder_path, \"**\", \"*.JPG\"), recursive=True)\n",
    "\n",
    "    # for img_path in tqdm(files, desc=f'Creating images cropped&resized to {resolution} for {model_name}', unit='image'):\n",
    "    #     rel_path = os.path.relpath(img_path, folder_path)\n",
    "    #     rel_path = rel_path.replace(os.path.sep, \"_\")\n",
    "    #     output_path = os.path.join(tmp_folder, f\"{rel_path[:-4]}_{resolution}.jpg\")\n",
    "    #     if not os.path.exists(output_path):\n",
    "    #         img = cv2.imread(img_path)\n",
    "    #         faces = DeepFace.extract_faces(img_path=img_path, detector_backend=\"retinaface\")\n",
    "    #         for face_info in faces:\n",
    "    #             cropped_face = crop_to_square(img, face_info)\n",
    "    #             resized_img = resize_image(cropped_face, (resolution, resolution))\n",
    "    #             cv2.imwrite(output_path, resized_img)\n",
    "           \n",
    "    image_files = [f for f in os.listdir(tmp_folder) if f.endswith(f'_{resolution}.jpg')]\n",
    "    \n",
    "    for filename1 in tqdm(image_files, desc=f'Processing with {model_name}', unit='image'):\n",
    "        img_path1 = os.path.join(tmp_folder, filename1)\n",
    "        # img_1 = cv2.imread(img_path1)\n",
    "        img_1 = Image.open(img_path1)\n",
    "        img_1 = np.array(img_1)\n",
    "        for filename2 in  tqdm(image_files, desc=f'Comparing all faces to {filename1}', unit='image'):\n",
    "            img_path2 = os.path.join(tmp_folder, filename2)\n",
    "\n",
    "            # img_2 = cv2.imread(img_path2)\n",
    "            img_2 = Image.open(img_path2)\n",
    "            img_2 = np.array(img_2)\n",
    "            # https://stackoverflow.com/questions/74567500/tensorflow-unknownerror-graph-execution-error-jit-compilation-failed-op-in\n",
    "            # with tf.device('/CPU:0'): \n",
    "            start_time = time.perf_counter()\n",
    "            result = DeepFace.verify(\n",
    "                img1_path=img_1,\n",
    "                img2_path=img_2,\n",
    "                enforce_detection=False,\n",
    "                detector_backend=\"opencv\",\n",
    "                # detector_backend=\"ssd\",\n",
    "                model_name=model_name,\n",
    "                distance_metric=\"euclidean_l2\"\n",
    "            )\n",
    "            # print(f\"time: {time.perf_counter() - start_time}\")\n",
    "            # print(f\"distance for {img_path2}: {result['distance']}\")\n",
    "            img1_name = os.path.splitext(filename1)[0].rsplit('_', 1)[0]\n",
    "            img2_name = os.path.splitext(filename2)[0].rsplit('_', 1)[0]\n",
    "\n",
    "            df_list.append(pd.DataFrame({'img_1': [img1_name], 'img_2': [img2_name], 'distance': [result['distance']], 'verified': [result['verified']]}))\n",
    "            \n",
    "        df = pd.concat(df_list, ignore_index=True)\n",
    "        \n",
    "    csv_file_path = os.path.join(tmp_folder, f'{model_name}_comparison_results.csv')\n",
    "    df.to_csv(csv_file_path, index=False)"
   ]
  },
  {
   "cell_type": "code",
   "execution_count": null,
   "id": "99595bca-b04a-4fa8-a44a-6493837c0a67",
   "metadata": {},
   "outputs": [],
   "source": []
  }
 ],
 "metadata": {
  "kernelspec": {
   "display_name": "Python 3 (ipykernel)",
   "language": "python",
   "name": "python3"
  },
  "language_info": {
   "codemirror_mode": {
    "name": "ipython",
    "version": 3
   },
   "file_extension": ".py",
   "mimetype": "text/x-python",
   "name": "python",
   "nbconvert_exporter": "python",
   "pygments_lexer": "ipython3",
   "version": "3.11.0rc1"
  }
 },
 "nbformat": 4,
 "nbformat_minor": 5
}
