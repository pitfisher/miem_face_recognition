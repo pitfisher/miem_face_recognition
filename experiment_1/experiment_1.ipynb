{
 "cells": [
  {
   "cell_type": "code",
   "execution_count": null,
   "id": "d4792208-cc19-43d3-bbd1-742ce3e48caf",
   "metadata": {},
   "outputs": [],
   "source": [
    "# https://stackoverflow.com/questions/55313610/importerror-libgl-so-1-cannot-open-shared-object-file-no-such-file-or-directo\n",
    "!apt-get update && apt-get install libgl1"
   ]
  },
  {
   "cell_type": "markdown",
   "id": "a6a368b8-bc32-4c4b-9b43-049045e318a1",
   "metadata": {},
   "source": [
    "***Эксперимент 1***\n",
    "\n",
    "*Сравнение каждого лица из датасета со всеми остальными. \n",
    "Цель - оценить количество ошибок первого рода (т.е. случаев, когда дистанция между эмбедингами изображений лиц двух разных людей меньше порога для отдельно взятой модели).*\n",
    "\n",
    "Результаты:\n",
    "\n",
    "1. Таблица с дистанциями для пар лиц;\n",
    "2. Матрицы ошибок для каждой из моделей;\n",
    "3. Диаграммы рассеяния дистанций для каждого человека для каждой модели;"
   ]
  },
  {
   "cell_type": "code",
   "execution_count": null,
   "id": "fb388cc1-a35c-499e-8d91-071dc3c77ab5",
   "metadata": {},
   "outputs": [],
   "source": [
    "!pip install deepface -q\n",
    "!pip install matplotlib -q"
   ]
  },
  {
   "cell_type": "code",
   "execution_count": 34,
   "id": "d89251a7-1c40-472d-9dc2-1bc6bb384aa1",
   "metadata": {
    "tags": []
   },
   "outputs": [],
   "source": [
    "import cv2\n",
    "from PIL import Image, ImageOps\n",
    "import time\n",
    "import os\n",
    "import glob\n",
    "from deepface import DeepFace\n",
    "import matplotlib.pyplot as plt\n",
    "import numpy as np\n",
    "import pandas as pd\n",
    "from tqdm.notebook import tqdm\n",
    "import seaborn as sns"
   ]
  },
  {
   "cell_type": "code",
   "execution_count": 44,
   "id": "3038f192-f3db-4a87-a9ce-961bc0de5676",
   "metadata": {
    "tags": []
   },
   "outputs": [],
   "source": [
    "folder_path = '/tf/data/testt/center/center'\n",
    "tmp_folder = \"new_tmp\"\n",
    "os.makedirs(tmp_folder, exist_ok=True)"
   ]
  },
  {
   "cell_type": "code",
   "execution_count": 38,
   "id": "9b1e8f5c-3ccb-4021-a601-ca91f1b19d82",
   "metadata": {},
   "outputs": [],
   "source": [
    "model_names = [\n",
    "    \"VGG-Face\",\n",
    "    \"Facenet\",\n",
    "    \"Facenet512\",\n",
    "    \"OpenFace\",\n",
    "    \"DeepFace\",\n",
    "    \"DeepID\",\n",
    "    \"ArcFace\",\n",
    "    \"SFace\"\n",
    "]"
   ]
  },
  {
   "cell_type": "code",
   "execution_count": 39,
   "id": "de49eff3-7043-445e-9733-495511a21987",
   "metadata": {
    "tags": []
   },
   "outputs": [],
   "source": [
    "model_resolutions = {\n",
    "    \"VGG-Face\": 224,\n",
    "    \"Facenet\": 220,\n",
    "    \"Facenet512\": 160,\n",
    "    \"OpenFace\": 96,\n",
    "    \"DeepFace\": 152,\n",
    "    \"DeepID\": 55,\n",
    "    \"ArcFace\": 112,\n",
    "    \"SFace\": 112,\n",
    "}"
   ]
  },
  {
   "cell_type": "code",
   "execution_count": 40,
   "id": "57526b06-1704-4ff3-b469-47b68ee66bd4",
   "metadata": {},
   "outputs": [],
   "source": [
    "def crop_to_square_pil(image, face_info, border_pixels=0):\n",
    "    \n",
    "    x, y, w, h = face_info['facial_area']['x'], face_info['facial_area']['y'], face_info['facial_area']['w'], face_info['facial_area']['h']\n",
    "    square_size = max(w, h) + 2 * border_pixels\n",
    "    new_x = max(0, x)\n",
    "    new_y = max(0, y)\n",
    "    cropped_image = image.crop((new_x - (h-w)//2 - border_pixels, new_y - border_pixels, new_x - (h-w)//2 + square_size, new_y + square_size))\n",
    "\n",
    "    return cropped_image"
   ]
  },
  {
   "cell_type": "code",
   "execution_count": 41,
   "id": "f5e4b78b-ce44-4c8b-832e-6517eddd40b6",
   "metadata": {},
   "outputs": [],
   "source": [
    "def resize_image_pil(image, new_resolution):\n",
    "    resized_img = image.resize(new_resolution, Image.LANCZOS)\n",
    "    return resized_img"
   ]
  },
  {
   "cell_type": "code",
   "execution_count": 20,
   "id": "c97733aa-ff01-427d-a8b7-4881a744e256",
   "metadata": {
    "tags": []
   },
   "outputs": [],
   "source": [
    "!export XLA_FLAGS=--xla_gpu_cuda_data_dir=/usr/local/cuda"
   ]
  },
  {
   "cell_type": "code",
   "execution_count": 21,
   "id": "1ffa20d5-650a-4601-8c38-3bec60b67166",
   "metadata": {
    "tags": []
   },
   "outputs": [
    {
     "name": "stdout",
     "output_type": "stream",
     "text": [
      "README.md  cuda     cuda-11.8  games\tlib  package_info.json\tsbin   src\n",
      "bin\t   cuda-11  etc        include\tman  requirements.txt\tshare\n"
     ]
    }
   ],
   "source": [
    "!ls /usr/local/"
   ]
  },
  {
   "cell_type": "code",
   "execution_count": 45,
   "id": "ec747c35-c71f-4a48-8f49-5cdd2df0349f",
   "metadata": {},
   "outputs": [
    {
     "data": {
      "application/vnd.jupyter.widget-view+json": {
       "model_id": "0b334b45cac24cb084cb99845bb40ff0",
       "version_major": 2,
       "version_minor": 0
      },
      "text/plain": [
       "Creating images cropped&resized to 224 for VGG-Face:   0%|          | 0/70 [00:00<?, ?image/s]"
      ]
     },
     "metadata": {},
     "output_type": "display_data"
    },
    {
     "data": {
      "application/vnd.jupyter.widget-view+json": {
       "model_id": "55f704bc7a42472cb22b26134a4fd319",
       "version_major": 2,
       "version_minor": 0
      },
      "text/plain": [
       "Creating images cropped&resized to 220 for Facenet:   0%|          | 0/70 [00:00<?, ?image/s]"
      ]
     },
     "metadata": {},
     "output_type": "display_data"
    },
    {
     "data": {
      "application/vnd.jupyter.widget-view+json": {
       "model_id": "800d0381a19649e2bf8fa0f4b7a17586",
       "version_major": 2,
       "version_minor": 0
      },
      "text/plain": [
       "Creating images cropped&resized to 160 for Facenet512:   0%|          | 0/70 [00:00<?, ?image/s]"
      ]
     },
     "metadata": {},
     "output_type": "display_data"
    },
    {
     "data": {
      "application/vnd.jupyter.widget-view+json": {
       "model_id": "307cd06361ee4ca3aa09d841bffc0945",
       "version_major": 2,
       "version_minor": 0
      },
      "text/plain": [
       "Creating images cropped&resized to 96 for OpenFace:   0%|          | 0/70 [00:00<?, ?image/s]"
      ]
     },
     "metadata": {},
     "output_type": "display_data"
    },
    {
     "data": {
      "application/vnd.jupyter.widget-view+json": {
       "model_id": "9f98c35d836440c99f2c29cf5a82fe72",
       "version_major": 2,
       "version_minor": 0
      },
      "text/plain": [
       "Creating images cropped&resized to 152 for DeepFace:   0%|          | 0/70 [00:00<?, ?image/s]"
      ]
     },
     "metadata": {},
     "output_type": "display_data"
    },
    {
     "data": {
      "application/vnd.jupyter.widget-view+json": {
       "model_id": "11af1c652d9740949c829ec645bd55d8",
       "version_major": 2,
       "version_minor": 0
      },
      "text/plain": [
       "Creating images cropped&resized to 55 for DeepID:   0%|          | 0/70 [00:00<?, ?image/s]"
      ]
     },
     "metadata": {},
     "output_type": "display_data"
    },
    {
     "data": {
      "application/vnd.jupyter.widget-view+json": {
       "model_id": "8d68170bf13c412abfe75bde1d4f39b0",
       "version_major": 2,
       "version_minor": 0
      },
      "text/plain": [
       "Creating images cropped&resized to 112 for ArcFace:   0%|          | 0/70 [00:00<?, ?image/s]"
      ]
     },
     "metadata": {},
     "output_type": "display_data"
    },
    {
     "data": {
      "application/vnd.jupyter.widget-view+json": {
       "model_id": "27d1a5a99c1143e989753058b8bc7d86",
       "version_major": 2,
       "version_minor": 0
      },
      "text/plain": [
       "Creating images cropped&resized to 112 for SFace:   0%|          | 0/70 [00:00<?, ?image/s]"
      ]
     },
     "metadata": {},
     "output_type": "display_data"
    }
   ],
   "source": [
    "for model_name in model_names:\n",
    "    resolution = model_resolutions[model_name]\n",
    "    df_list = []\n",
    "\n",
    "    files = glob.glob(os.path.join(folder_path, \"**\", \"*.JPG\"), recursive=True)\n",
    "    # print(files)\n",
    "    for img_path in tqdm(files, desc=f'Creating images cropped&resized to {resolution} for {model_name}', unit='image'):\n",
    "        rel_path = os.path.relpath(img_path, folder_path)\n",
    "        rel_path = rel_path.replace(os.path.sep, \"_\")\n",
    "        output_path = os.path.join(tmp_folder, f\"{rel_path[:-4]}_{resolution}.jpg\")\n",
    "        # print(f\"{output_path}\")\n",
    "        if not os.path.exists(output_path):\n",
    "            image = Image.open(img_path)\n",
    "            image = ImageOps.exif_transpose(image)\n",
    "            # display(image)\n",
    "            faces = DeepFace.extract_faces(img_path=img_path, detector_backend=\"retinaface\")\n",
    "            for face_info in faces:\n",
    "                cropped_face = crop_to_square_pil(image, face_info)\n",
    "                resized_img = resize_image_pil(cropped_face, (resolution, resolution))\n",
    "                # display(resized_img)\n",
    "                # time.sleep(3)\n",
    "                resized_img.save(output_path)"
   ]
  },
  {
   "cell_type": "code",
   "execution_count": null,
   "id": "7bccbf78-3162-4ced-81b5-b2b6860af9f9",
   "metadata": {},
   "outputs": [
    {
     "data": {
      "application/vnd.jupyter.widget-view+json": {
       "model_id": "83dd013324a448e9ad8a62457c1f3cdd",
       "version_major": 2,
       "version_minor": 0
      },
      "text/plain": [
       "Processing with VGG-Face:   0%|          | 0/70 [00:00<?, ?image/s]"
      ]
     },
     "metadata": {},
     "output_type": "display_data"
    },
    {
     "data": {
      "application/vnd.jupyter.widget-view+json": {
       "model_id": "6c4c10c587444c8597b3616ebc829dd3",
       "version_major": 2,
       "version_minor": 0
      },
      "text/plain": [
       "Comparing all faces to aamartynenko_9_no_glasses_224.jpg:   0%|          | 0/70 [00:00<?, ?image/s]"
      ]
     },
     "metadata": {},
     "output_type": "display_data"
    },
    {
     "data": {
      "application/vnd.jupyter.widget-view+json": {
       "model_id": "dfa12cd5c5a944d9b2e6e5f24ddef796",
       "version_major": 2,
       "version_minor": 0
      },
      "text/plain": [
       "Comparing all faces to aazheltov_1_no_glasses_224.jpg:   0%|          | 0/70 [00:00<?, ?image/s]"
      ]
     },
     "metadata": {},
     "output_type": "display_data"
    },
    {
     "data": {
      "application/vnd.jupyter.widget-view+json": {
       "model_id": "48bb4fc10a824cccbcb88bb10b8e8939",
       "version_major": 2,
       "version_minor": 0
      },
      "text/plain": [
       "Comparing all faces to adletunov_no_glasses_224.jpg:   0%|          | 0/70 [00:00<?, ?image/s]"
      ]
     },
     "metadata": {},
     "output_type": "display_data"
    },
    {
     "data": {
      "application/vnd.jupyter.widget-view+json": {
       "model_id": "dc53423a5fad4637bfdc9e08f2633b63",
       "version_major": 2,
       "version_minor": 0
      },
      "text/plain": [
       "Comparing all faces to adpiskunov_no_glasses_224.jpg:   0%|          | 0/70 [00:00<?, ?image/s]"
      ]
     },
     "metadata": {},
     "output_type": "display_data"
    },
    {
     "data": {
      "application/vnd.jupyter.widget-view+json": {
       "model_id": "86cd8d07b57d4909bdba0701ae5068fc",
       "version_major": 2,
       "version_minor": 0
      },
      "text/plain": [
       "Comparing all faces to aimilovanova_no_glasses_224.jpg:   0%|          | 0/70 [00:00<?, ?image/s]"
      ]
     },
     "metadata": {},
     "output_type": "display_data"
    },
    {
     "data": {
      "application/vnd.jupyter.widget-view+json": {
       "model_id": "8eb5c833586345e29388ca57c6cb8336",
       "version_major": 2,
       "version_minor": 0
      },
      "text/plain": [
       "Comparing all faces to ameliseenko_glasses_224.jpg:   0%|          | 0/70 [00:00<?, ?image/s]"
      ]
     },
     "metadata": {},
     "output_type": "display_data"
    },
    {
     "data": {
      "application/vnd.jupyter.widget-view+json": {
       "model_id": "079461dbe07b4042b80ee76abca6297d",
       "version_major": 2,
       "version_minor": 0
      },
      "text/plain": [
       "Comparing all faces to ameliseenko_no_glasses_224.jpg:   0%|          | 0/70 [00:00<?, ?image/s]"
      ]
     },
     "metadata": {},
     "output_type": "display_data"
    },
    {
     "data": {
      "application/vnd.jupyter.widget-view+json": {
       "model_id": "8e0760c2b3884d0eb6af79d68007a3a0",
       "version_major": 2,
       "version_minor": 0
      },
      "text/plain": [
       "Comparing all faces to amsirotkin_no_glasses_224.jpg:   0%|          | 0/70 [00:00<?, ?image/s]"
      ]
     },
     "metadata": {},
     "output_type": "display_data"
    },
    {
     "data": {
      "application/vnd.jupyter.widget-view+json": {
       "model_id": "e4c5636c995f42289533cb99519e54da",
       "version_major": 2,
       "version_minor": 0
      },
      "text/plain": [
       "Comparing all faces to amzayakina_glasses_224.jpg:   0%|          | 0/70 [00:00<?, ?image/s]"
      ]
     },
     "metadata": {},
     "output_type": "display_data"
    },
    {
     "data": {
      "application/vnd.jupyter.widget-view+json": {
       "model_id": "7f4211c5cc984989bcf38aff91008659",
       "version_major": 2,
       "version_minor": 0
      },
      "text/plain": [
       "Comparing all faces to amzayakina_no_glasses_224.jpg:   0%|          | 0/70 [00:00<?, ?image/s]"
      ]
     },
     "metadata": {},
     "output_type": "display_data"
    },
    {
     "data": {
      "application/vnd.jupyter.widget-view+json": {
       "model_id": "5eaa1b018b754a87b26c1f1d485e0545",
       "version_major": 2,
       "version_minor": 0
      },
      "text/plain": [
       "Comparing all faces to appecherskih_no_glasses_224.jpg:   0%|          | 0/70 [00:00<?, ?image/s]"
      ]
     },
     "metadata": {},
     "output_type": "display_data"
    },
    {
     "data": {
      "application/vnd.jupyter.widget-view+json": {
       "model_id": "1f7368fe92d64fc2acf17780705e3375",
       "version_major": 2,
       "version_minor": 0
      },
      "text/plain": [
       "Comparing all faces to arandarbua_no_glasses_224.jpg:   0%|          | 0/70 [00:00<?, ?image/s]"
      ]
     },
     "metadata": {},
     "output_type": "display_data"
    },
    {
     "data": {
      "application/vnd.jupyter.widget-view+json": {
       "model_id": "89bb3a9779d748a49c11e89eb4e37838",
       "version_major": 2,
       "version_minor": 0
      },
      "text/plain": [
       "Comparing all faces to archilingarov_no_glasses_224.jpg:   0%|          | 0/70 [00:00<?, ?image/s]"
      ]
     },
     "metadata": {},
     "output_type": "display_data"
    },
    {
     "data": {
      "application/vnd.jupyter.widget-view+json": {
       "model_id": "c5abd9e0106b45fdaaaabada550da477",
       "version_major": 2,
       "version_minor": 0
      },
      "text/plain": [
       "Comparing all faces to arkhabibullina_3_no_glasses_224.jpg:   0%|          | 0/70 [00:00<?, ?image/s]"
      ]
     },
     "metadata": {},
     "output_type": "display_data"
    },
    {
     "data": {
      "application/vnd.jupyter.widget-view+json": {
       "model_id": "54b5bc1b5db24562b2aceb0e6d2ec947",
       "version_major": 2,
       "version_minor": 0
      },
      "text/plain": [
       "Comparing all faces to asbaranova_glasses_224.jpg:   0%|          | 0/70 [00:00<?, ?image/s]"
      ]
     },
     "metadata": {},
     "output_type": "display_data"
    },
    {
     "data": {
      "application/vnd.jupyter.widget-view+json": {
       "model_id": "2421b7cd960d4e698f48e1199a2f3ae2",
       "version_major": 2,
       "version_minor": 0
      },
      "text/plain": [
       "Comparing all faces to asbaranova_no_glasses_224.jpg:   0%|          | 0/70 [00:00<?, ?image/s]"
      ]
     },
     "metadata": {},
     "output_type": "display_data"
    },
    {
     "data": {
      "application/vnd.jupyter.widget-view+json": {
       "model_id": "49587012a3e94f4fb86139c6086464cd",
       "version_major": 2,
       "version_minor": 0
      },
      "text/plain": [
       "Comparing all faces to avpapina_no_glasses_224.jpg:   0%|          | 0/70 [00:00<?, ?image/s]"
      ]
     },
     "metadata": {},
     "output_type": "display_data"
    },
    {
     "data": {
      "application/vnd.jupyter.widget-view+json": {
       "model_id": "31cfe807a79e4e868cfe1ee2548f3795",
       "version_major": 2,
       "version_minor": 0
      },
      "text/plain": [
       "Comparing all faces to ayuvasileva_1_no_glasses_224.jpg:   0%|          | 0/70 [00:00<?, ?image/s]"
      ]
     },
     "metadata": {},
     "output_type": "display_data"
    },
    {
     "data": {
      "application/vnd.jupyter.widget-view+json": {
       "model_id": "0c03fc8dad1e41f8af072016a3d41be6",
       "version_major": 2,
       "version_minor": 0
      },
      "text/plain": [
       "Comparing all faces to dashubin_no_glasses_224.jpg:   0%|          | 0/70 [00:00<?, ?image/s]"
      ]
     },
     "metadata": {},
     "output_type": "display_data"
    },
    {
     "data": {
      "application/vnd.jupyter.widget-view+json": {
       "model_id": "adcd252542094a26891592643dc59a9b",
       "version_major": 2,
       "version_minor": 0
      },
      "text/plain": [
       "Comparing all faces to datikhomirov_no_glasses_224.jpg:   0%|          | 0/70 [00:00<?, ?image/s]"
      ]
     },
     "metadata": {},
     "output_type": "display_data"
    },
    {
     "data": {
      "application/vnd.jupyter.widget-view+json": {
       "model_id": "4f80bfc67fbf4c11a4bd6defb712ab3c",
       "version_major": 2,
       "version_minor": 0
      },
      "text/plain": [
       "Comparing all faces to dkorolev_no_glasses_224.jpg:   0%|          | 0/70 [00:00<?, ?image/s]"
      ]
     },
     "metadata": {},
     "output_type": "display_data"
    },
    {
     "data": {
      "application/vnd.jupyter.widget-view+json": {
       "model_id": "880f4742055e4e6382e652118e07abe7",
       "version_major": 2,
       "version_minor": 0
      },
      "text/plain": [
       "Comparing all faces to dmbobrova_no_glasses_224.jpg:   0%|          | 0/70 [00:00<?, ?image/s]"
      ]
     },
     "metadata": {},
     "output_type": "display_data"
    },
    {
     "data": {
      "application/vnd.jupyter.widget-view+json": {
       "model_id": "1cf06618c31246a69c3fb9d0ccd259a2",
       "version_major": 2,
       "version_minor": 0
      },
      "text/plain": [
       "Comparing all faces to drsmirnov_glasses_224.jpg:   0%|          | 0/70 [00:00<?, ?image/s]"
      ]
     },
     "metadata": {},
     "output_type": "display_data"
    },
    {
     "data": {
      "application/vnd.jupyter.widget-view+json": {
       "model_id": "0586e1b89462484c8e10c22e6c20f934",
       "version_major": 2,
       "version_minor": 0
      },
      "text/plain": [
       "Comparing all faces to drsmirnov_no_glasses_224.jpg:   0%|          | 0/70 [00:00<?, ?image/s]"
      ]
     },
     "metadata": {},
     "output_type": "display_data"
    },
    {
     "data": {
      "application/vnd.jupyter.widget-view+json": {
       "model_id": "bb79598f419740359d6773c6d8e9ebad",
       "version_major": 2,
       "version_minor": 0
      },
      "text/plain": [
       "Comparing all faces to dvzaitseva_glasses_224.jpg:   0%|          | 0/70 [00:00<?, ?image/s]"
      ]
     },
     "metadata": {},
     "output_type": "display_data"
    },
    {
     "data": {
      "application/vnd.jupyter.widget-view+json": {
       "model_id": "31099064a29a43b981b84971e080078b",
       "version_major": 2,
       "version_minor": 0
      },
      "text/plain": [
       "Comparing all faces to dvzaitseva_no_glasses_224.jpg:   0%|          | 0/70 [00:00<?, ?image/s]"
      ]
     },
     "metadata": {},
     "output_type": "display_data"
    },
    {
     "data": {
      "application/vnd.jupyter.widget-view+json": {
       "model_id": "eac1b4b378ff4b3aa84fee6c45ad7284",
       "version_major": 2,
       "version_minor": 0
      },
      "text/plain": [
       "Comparing all faces to eamilekhina_glasses_224.jpg:   0%|          | 0/70 [00:00<?, ?image/s]"
      ]
     },
     "metadata": {},
     "output_type": "display_data"
    },
    {
     "data": {
      "application/vnd.jupyter.widget-view+json": {
       "model_id": "664b46b9425941fc83a1a0838c07edbb",
       "version_major": 2,
       "version_minor": 0
      },
      "text/plain": [
       "Comparing all faces to eamilekhina_no_glasses_224.jpg:   0%|          | 0/70 [00:00<?, ?image/s]"
      ]
     },
     "metadata": {},
     "output_type": "display_data"
    },
    {
     "data": {
      "application/vnd.jupyter.widget-view+json": {
       "model_id": "d71d1c257ca34f11a92011893fbdba37",
       "version_major": 2,
       "version_minor": 0
      },
      "text/plain": [
       "Comparing all faces to eelogvina_no_glasses_224.jpg:   0%|          | 0/70 [00:00<?, ?image/s]"
      ]
     },
     "metadata": {},
     "output_type": "display_data"
    },
    {
     "data": {
      "application/vnd.jupyter.widget-view+json": {
       "model_id": "93294c28bf3a4e6085822d76b83710c8",
       "version_major": 2,
       "version_minor": 0
      },
      "text/plain": [
       "Comparing all faces to eggadzhiev_glasses_224.jpg:   0%|          | 0/70 [00:00<?, ?image/s]"
      ]
     },
     "metadata": {},
     "output_type": "display_data"
    },
    {
     "data": {
      "application/vnd.jupyter.widget-view+json": {
       "model_id": "989fe7b52fc8426a84a9cde4d85a16d2",
       "version_major": 2,
       "version_minor": 0
      },
      "text/plain": [
       "Comparing all faces to eggadzhiev_no_glasses_224.jpg:   0%|          | 0/70 [00:00<?, ?image/s]"
      ]
     },
     "metadata": {},
     "output_type": "display_data"
    },
    {
     "data": {
      "application/vnd.jupyter.widget-view+json": {
       "model_id": "09d83113e39544bfbcf263a95870e571",
       "version_major": 2,
       "version_minor": 0
      },
      "text/plain": [
       "Comparing all faces to evdarkhanov_no_glasses_224.jpg:   0%|          | 0/70 [00:00<?, ?image/s]"
      ]
     },
     "metadata": {},
     "output_type": "display_data"
    },
    {
     "data": {
      "application/vnd.jupyter.widget-view+json": {
       "model_id": "0d2cd715736145e59d2e570116da54c1",
       "version_major": 2,
       "version_minor": 0
      },
      "text/plain": [
       "Comparing all faces to gaataev_no_glasses_224.jpg:   0%|          | 0/70 [00:00<?, ?image/s]"
      ]
     },
     "metadata": {},
     "output_type": "display_data"
    },
    {
     "data": {
      "application/vnd.jupyter.widget-view+json": {
       "model_id": "a36f3830bd5e43288073934b2feeec9c",
       "version_major": 2,
       "version_minor": 0
      },
      "text/plain": [
       "Comparing all faces to imsalakhov_glasses_224.jpg:   0%|          | 0/70 [00:00<?, ?image/s]"
      ]
     },
     "metadata": {},
     "output_type": "display_data"
    },
    {
     "data": {
      "application/vnd.jupyter.widget-view+json": {
       "model_id": "d6d2942eb6154f00b9433816f7fbeff2",
       "version_major": 2,
       "version_minor": 0
      },
      "text/plain": [
       "Comparing all faces to imsalakhov_no_glasses_224.jpg:   0%|          | 0/70 [00:00<?, ?image/s]"
      ]
     },
     "metadata": {},
     "output_type": "display_data"
    },
    {
     "data": {
      "application/vnd.jupyter.widget-view+json": {
       "model_id": "567ceb58ac834fcc850c2861d594d7f3",
       "version_major": 2,
       "version_minor": 0
      },
      "text/plain": [
       "Comparing all faces to ipustenko_no_glasses_224.jpg:   0%|          | 0/70 [00:00<?, ?image/s]"
      ]
     },
     "metadata": {},
     "output_type": "display_data"
    },
    {
     "data": {
      "application/vnd.jupyter.widget-view+json": {
       "model_id": "9be9889e3e714f8fa550c361932b8eb4",
       "version_major": 2,
       "version_minor": 0
      },
      "text/plain": [
       "Comparing all faces to ischekanov_no_glasses_224.jpg:   0%|          | 0/70 [00:00<?, ?image/s]"
      ]
     },
     "metadata": {},
     "output_type": "display_data"
    },
    {
     "data": {
      "application/vnd.jupyter.widget-view+json": {
       "model_id": "59a0c47dfdde4fe39ecc7cec197b34a5",
       "version_major": 2,
       "version_minor": 0
      },
      "text/plain": [
       "Comparing all faces to isulanova_no_glasses_224.jpg:   0%|          | 0/70 [00:00<?, ?image/s]"
      ]
     },
     "metadata": {},
     "output_type": "display_data"
    },
    {
     "data": {
      "application/vnd.jupyter.widget-view+json": {
       "model_id": "0dd4925aa3484407849f1e1ff8e77e45",
       "version_major": 2,
       "version_minor": 0
      },
      "text/plain": [
       "Comparing all faces to kdfrolov_no_glasses_224.jpg:   0%|          | 0/70 [00:00<?, ?image/s]"
      ]
     },
     "metadata": {},
     "output_type": "display_data"
    },
    {
     "data": {
      "application/vnd.jupyter.widget-view+json": {
       "model_id": "94dcdd45292c43338fa80438b70d0afc",
       "version_major": 2,
       "version_minor": 0
      },
      "text/plain": [
       "Comparing all faces to khtalbegov_no_glasses_224.jpg:   0%|          | 0/70 [00:00<?, ?image/s]"
      ]
     },
     "metadata": {},
     "output_type": "display_data"
    },
    {
     "data": {
      "application/vnd.jupyter.widget-view+json": {
       "model_id": "0359e2dca8684d71a55f57f4b57c56ac",
       "version_major": 2,
       "version_minor": 0
      },
      "text/plain": [
       "Comparing all faces to kvnovikov_glasses_224.jpg:   0%|          | 0/70 [00:00<?, ?image/s]"
      ]
     },
     "metadata": {},
     "output_type": "display_data"
    },
    {
     "data": {
      "application/vnd.jupyter.widget-view+json": {
       "model_id": "066cf2b2b01b449dae5b44da453b9b67",
       "version_major": 2,
       "version_minor": 0
      },
      "text/plain": [
       "Comparing all faces to kvnovikov_no_glasses_224.jpg:   0%|          | 0/70 [00:00<?, ?image/s]"
      ]
     },
     "metadata": {},
     "output_type": "display_data"
    },
    {
     "data": {
      "application/vnd.jupyter.widget-view+json": {
       "model_id": "05892dbe6f5d49fd8eb45e0d0d7a65bc",
       "version_major": 2,
       "version_minor": 0
      },
      "text/plain": [
       "Comparing all faces to limiroshnichenko_no_glasses_224.jpg:   0%|          | 0/70 [00:00<?, ?image/s]"
      ]
     },
     "metadata": {},
     "output_type": "display_data"
    },
    {
     "data": {
      "application/vnd.jupyter.widget-view+json": {
       "model_id": "b7cb62e003894ba68cab2744c307e719",
       "version_major": 2,
       "version_minor": 0
      },
      "text/plain": [
       "Comparing all faces to madusov_no_glasses_224.jpg:   0%|          | 0/70 [00:00<?, ?image/s]"
      ]
     },
     "metadata": {},
     "output_type": "display_data"
    },
    {
     "data": {
      "application/vnd.jupyter.widget-view+json": {
       "model_id": "89ebbbfdc3cd4595a850ce8ea0a7da68",
       "version_major": 2,
       "version_minor": 0
      },
      "text/plain": [
       "Comparing all faces to mapivovarova_no_glasses_224.jpg:   0%|          | 0/70 [00:00<?, ?image/s]"
      ]
     },
     "metadata": {},
     "output_type": "display_data"
    },
    {
     "data": {
      "application/vnd.jupyter.widget-view+json": {
       "model_id": "b934ed660f18410fa377cc133893080f",
       "version_major": 2,
       "version_minor": 0
      },
      "text/plain": [
       "Comparing all faces to masadkovskaya_no_glasses_224.jpg:   0%|          | 0/70 [00:00<?, ?image/s]"
      ]
     },
     "metadata": {},
     "output_type": "display_data"
    },
    {
     "data": {
      "application/vnd.jupyter.widget-view+json": {
       "model_id": "8d1fde563a6444ef9d899d97a0043070",
       "version_major": 2,
       "version_minor": 0
      },
      "text/plain": [
       "Comparing all faces to mdspitsyn_no_glasses_224.jpg:   0%|          | 0/70 [00:00<?, ?image/s]"
      ]
     },
     "metadata": {},
     "output_type": "display_data"
    },
    {
     "data": {
      "application/vnd.jupyter.widget-view+json": {
       "model_id": "21fbea22adb74a869d91b56f91db2bb4",
       "version_major": 2,
       "version_minor": 0
      },
      "text/plain": [
       "Comparing all faces to mvemelianenko_no_glasses_224.jpg:   0%|          | 0/70 [00:00<?, ?image/s]"
      ]
     },
     "metadata": {},
     "output_type": "display_data"
    },
    {
     "data": {
      "application/vnd.jupyter.widget-view+json": {
       "model_id": "c11af5f6a4734c8d94e6c7d41c1377c2",
       "version_major": 2,
       "version_minor": 0
      },
      "text/plain": [
       "Comparing all faces to mvmoiseev_no_glasses_224.jpg:   0%|          | 0/70 [00:00<?, ?image/s]"
      ]
     },
     "metadata": {},
     "output_type": "display_data"
    },
    {
     "data": {
      "application/vnd.jupyter.widget-view+json": {
       "model_id": "a2e524f312d846b59f82e4c50b833d04",
       "version_major": 2,
       "version_minor": 0
      },
      "text/plain": [
       "Comparing all faces to mvyakovlev_1_no_glasses_224.jpg:   0%|          | 0/70 [00:00<?, ?image/s]"
      ]
     },
     "metadata": {},
     "output_type": "display_data"
    },
    {
     "data": {
      "application/vnd.jupyter.widget-view+json": {
       "model_id": "580930b4a1e64932bfc024b5da10fe3a",
       "version_major": 2,
       "version_minor": 0
      },
      "text/plain": [
       "Comparing all faces to myumikheev_no_glasses_224.jpg:   0%|          | 0/70 [00:00<?, ?image/s]"
      ]
     },
     "metadata": {},
     "output_type": "display_data"
    },
    {
     "data": {
      "application/vnd.jupyter.widget-view+json": {
       "model_id": "b3064ba06bcb45fc85212cd3908a1d0d",
       "version_major": 2,
       "version_minor": 0
      },
      "text/plain": [
       "Comparing all faces to narybakovskiy_no_glasses_224.jpg:   0%|          | 0/70 [00:00<?, ?image/s]"
      ]
     },
     "metadata": {},
     "output_type": "display_data"
    },
    {
     "data": {
      "application/vnd.jupyter.widget-view+json": {
       "model_id": "d4747ea0fdb24263be83d89555ec92f6",
       "version_major": 2,
       "version_minor": 0
      },
      "text/plain": [
       "Comparing all faces to ndkubaev_no_glasses_224.jpg:   0%|          | 0/70 [00:00<?, ?image/s]"
      ]
     },
     "metadata": {},
     "output_type": "display_data"
    },
    {
     "data": {
      "application/vnd.jupyter.widget-view+json": {
       "model_id": "6a9eedf6f8544fc5805dc4f6511d8d37",
       "version_major": 2,
       "version_minor": 0
      },
      "text/plain": [
       "Comparing all faces to palmasizade_no_glasses_224.jpg:   0%|          | 0/70 [00:00<?, ?image/s]"
      ]
     },
     "metadata": {},
     "output_type": "display_data"
    },
    {
     "data": {
      "application/vnd.jupyter.widget-view+json": {
       "model_id": "931fb50d76f549be833edd3cde3e4de7",
       "version_major": 2,
       "version_minor": 0
      },
      "text/plain": [
       "Comparing all faces to prybakov_glasses_224.jpg:   0%|          | 0/70 [00:00<?, ?image/s]"
      ]
     },
     "metadata": {},
     "output_type": "display_data"
    },
    {
     "data": {
      "application/vnd.jupyter.widget-view+json": {
       "model_id": "fc985bfacf4e41ab95cc38e805d8038f",
       "version_major": 2,
       "version_minor": 0
      },
      "text/plain": [
       "Comparing all faces to prybakov_no_glasses_224.jpg:   0%|          | 0/70 [00:00<?, ?image/s]"
      ]
     },
     "metadata": {},
     "output_type": "display_data"
    },
    {
     "data": {
      "application/vnd.jupyter.widget-view+json": {
       "model_id": "b90237eee40b49b98c5cfd101d8d9ea4",
       "version_major": 2,
       "version_minor": 0
      },
      "text/plain": [
       "Comparing all faces to rbadalian_no_glasses_224.jpg:   0%|          | 0/70 [00:00<?, ?image/s]"
      ]
     },
     "metadata": {},
     "output_type": "display_data"
    },
    {
     "data": {
      "application/vnd.jupyter.widget-view+json": {
       "model_id": "d97989b337e143dfb84b169551ac9e43",
       "version_major": 2,
       "version_minor": 0
      },
      "text/plain": [
       "Comparing all faces to rrminnegalieva_glasses_224.jpg:   0%|          | 0/70 [00:00<?, ?image/s]"
      ]
     },
     "metadata": {},
     "output_type": "display_data"
    },
    {
     "data": {
      "application/vnd.jupyter.widget-view+json": {
       "model_id": "d93db436d3a9403a9fe5285054d892cf",
       "version_major": 2,
       "version_minor": 0
      },
      "text/plain": [
       "Comparing all faces to saslastnikov_no_glasses_224.jpg:   0%|          | 0/70 [00:00<?, ?image/s]"
      ]
     },
     "metadata": {},
     "output_type": "display_data"
    },
    {
     "data": {
      "application/vnd.jupyter.widget-view+json": {
       "model_id": "836e17cccba1439bbbcd85024d33b5a5",
       "version_major": 2,
       "version_minor": 0
      },
      "text/plain": [
       "Comparing all faces to svkozaev_no_glasses_224.jpg:   0%|          | 0/70 [00:00<?, ?image/s]"
      ]
     },
     "metadata": {},
     "output_type": "display_data"
    },
    {
     "data": {
      "application/vnd.jupyter.widget-view+json": {
       "model_id": "657e0df37cd44bd0a547c787420c4d0f",
       "version_major": 2,
       "version_minor": 0
      },
      "text/plain": [
       "Comparing all faces to vachudnovskiy_no_glasses_224.jpg:   0%|          | 0/70 [00:00<?, ?image/s]"
      ]
     },
     "metadata": {},
     "output_type": "display_data"
    },
    {
     "data": {
      "application/vnd.jupyter.widget-view+json": {
       "model_id": "c8b8ae49136c421c9e9492d655e264f9",
       "version_major": 2,
       "version_minor": 0
      },
      "text/plain": [
       "Comparing all faces to vakabisov_no_glasses_224.jpg:   0%|          | 0/70 [00:00<?, ?image/s]"
      ]
     },
     "metadata": {},
     "output_type": "display_data"
    },
    {
     "data": {
      "application/vnd.jupyter.widget-view+json": {
       "model_id": "812237d4b47b47eb896a8df426a997fb",
       "version_major": 2,
       "version_minor": 0
      },
      "text/plain": [
       "Comparing all faces to vashin_no_glasses_224.jpg:   0%|          | 0/70 [00:00<?, ?image/s]"
      ]
     },
     "metadata": {},
     "output_type": "display_data"
    },
    {
     "data": {
      "application/vnd.jupyter.widget-view+json": {
       "model_id": "01c9e269293341bd9175405bde7875ce",
       "version_major": 2,
       "version_minor": 0
      },
      "text/plain": [
       "Comparing all faces to vianoshin_glasses_224.jpg:   0%|          | 0/70 [00:00<?, ?image/s]"
      ]
     },
     "metadata": {},
     "output_type": "display_data"
    },
    {
     "data": {
      "application/vnd.jupyter.widget-view+json": {
       "model_id": "4bac949ef3a047c88365eda6e54d70ae",
       "version_major": 2,
       "version_minor": 0
      },
      "text/plain": [
       "Comparing all faces to vianoshin_no_glasses_224.jpg:   0%|          | 0/70 [00:00<?, ?image/s]"
      ]
     },
     "metadata": {},
     "output_type": "display_data"
    },
    {
     "data": {
      "application/vnd.jupyter.widget-view+json": {
       "model_id": "bfde43b5e998462f85c454ec2377f80b",
       "version_major": 2,
       "version_minor": 0
      },
      "text/plain": [
       "Comparing all faces to vkduborova_no_glasses_224.jpg:   0%|          | 0/70 [00:00<?, ?image/s]"
      ]
     },
     "metadata": {},
     "output_type": "display_data"
    },
    {
     "data": {
      "application/vnd.jupyter.widget-view+json": {
       "model_id": "fc1f1f54560a4eafbd271968e70a5686",
       "version_major": 2,
       "version_minor": 0
      },
      "text/plain": [
       "Comparing all faces to vnemna_glasses_224.jpg:   0%|          | 0/70 [00:00<?, ?image/s]"
      ]
     },
     "metadata": {},
     "output_type": "display_data"
    },
    {
     "data": {
      "application/vnd.jupyter.widget-view+json": {
       "model_id": "09b254da605649c483313976d1590dfb",
       "version_major": 2,
       "version_minor": 0
      },
      "text/plain": [
       "Comparing all faces to vnemna_no_glasses_224.jpg:   0%|          | 0/70 [00:00<?, ?image/s]"
      ]
     },
     "metadata": {},
     "output_type": "display_data"
    },
    {
     "data": {
      "application/vnd.jupyter.widget-view+json": {
       "model_id": "8c1d0d01c29740de8f695768eca4837c",
       "version_major": 2,
       "version_minor": 0
      },
      "text/plain": [
       "Comparing all faces to vyunastasova_glasses_224.jpg:   0%|          | 0/70 [00:00<?, ?image/s]"
      ]
     },
     "metadata": {},
     "output_type": "display_data"
    },
    {
     "data": {
      "application/vnd.jupyter.widget-view+json": {
       "model_id": "b3a37d26ae2245de8b912d582aeb5f10",
       "version_major": 2,
       "version_minor": 0
      },
      "text/plain": [
       "Comparing all faces to vyunastasova_no_glasses_224.jpg:   0%|          | 0/70 [00:00<?, ?image/s]"
      ]
     },
     "metadata": {},
     "output_type": "display_data"
    },
    {
     "data": {
      "application/vnd.jupyter.widget-view+json": {
       "model_id": "89e2fbd02e5b405ea403e826b2bdae37",
       "version_major": 2,
       "version_minor": 0
      },
      "text/plain": [
       "Processing with Facenet:   0%|          | 0/70 [00:00<?, ?image/s]"
      ]
     },
     "metadata": {},
     "output_type": "display_data"
    },
    {
     "data": {
      "application/vnd.jupyter.widget-view+json": {
       "model_id": "7f0475316b2c4e0ab7d0f94f0c187b02",
       "version_major": 2,
       "version_minor": 0
      },
      "text/plain": [
       "Comparing all faces to aamartynenko_9_no_glasses_220.jpg:   0%|          | 0/70 [00:00<?, ?image/s]"
      ]
     },
     "metadata": {},
     "output_type": "display_data"
    },
    {
     "data": {
      "application/vnd.jupyter.widget-view+json": {
       "model_id": "7d03479216d54f43931f1326964a1ee0",
       "version_major": 2,
       "version_minor": 0
      },
      "text/plain": [
       "Comparing all faces to aazheltov_1_no_glasses_220.jpg:   0%|          | 0/70 [00:00<?, ?image/s]"
      ]
     },
     "metadata": {},
     "output_type": "display_data"
    },
    {
     "data": {
      "application/vnd.jupyter.widget-view+json": {
       "model_id": "0a1827532a934ffd84b0f6e171310fe0",
       "version_major": 2,
       "version_minor": 0
      },
      "text/plain": [
       "Comparing all faces to adletunov_no_glasses_220.jpg:   0%|          | 0/70 [00:00<?, ?image/s]"
      ]
     },
     "metadata": {},
     "output_type": "display_data"
    },
    {
     "data": {
      "application/vnd.jupyter.widget-view+json": {
       "model_id": "9dd7bbff390c4f3aa6c9a219c2407ba1",
       "version_major": 2,
       "version_minor": 0
      },
      "text/plain": [
       "Comparing all faces to adpiskunov_no_glasses_220.jpg:   0%|          | 0/70 [00:00<?, ?image/s]"
      ]
     },
     "metadata": {},
     "output_type": "display_data"
    },
    {
     "data": {
      "application/vnd.jupyter.widget-view+json": {
       "model_id": "882fa12c1d7e4553abbb88911b4a717d",
       "version_major": 2,
       "version_minor": 0
      },
      "text/plain": [
       "Comparing all faces to aimilovanova_no_glasses_220.jpg:   0%|          | 0/70 [00:00<?, ?image/s]"
      ]
     },
     "metadata": {},
     "output_type": "display_data"
    },
    {
     "data": {
      "application/vnd.jupyter.widget-view+json": {
       "model_id": "b40a3900c48543c5a284432a16211bd7",
       "version_major": 2,
       "version_minor": 0
      },
      "text/plain": [
       "Comparing all faces to ameliseenko_glasses_220.jpg:   0%|          | 0/70 [00:00<?, ?image/s]"
      ]
     },
     "metadata": {},
     "output_type": "display_data"
    },
    {
     "data": {
      "application/vnd.jupyter.widget-view+json": {
       "model_id": "602cad5dcc0c4107823c8e95a6986370",
       "version_major": 2,
       "version_minor": 0
      },
      "text/plain": [
       "Comparing all faces to ameliseenko_no_glasses_220.jpg:   0%|          | 0/70 [00:00<?, ?image/s]"
      ]
     },
     "metadata": {},
     "output_type": "display_data"
    },
    {
     "data": {
      "application/vnd.jupyter.widget-view+json": {
       "model_id": "0b48682431364554ae5c5c41c726c99b",
       "version_major": 2,
       "version_minor": 0
      },
      "text/plain": [
       "Comparing all faces to amsirotkin_no_glasses_220.jpg:   0%|          | 0/70 [00:00<?, ?image/s]"
      ]
     },
     "metadata": {},
     "output_type": "display_data"
    },
    {
     "data": {
      "application/vnd.jupyter.widget-view+json": {
       "model_id": "8c74ef312e1448c285b2d6e91d79fdb7",
       "version_major": 2,
       "version_minor": 0
      },
      "text/plain": [
       "Comparing all faces to amzayakina_glasses_220.jpg:   0%|          | 0/70 [00:00<?, ?image/s]"
      ]
     },
     "metadata": {},
     "output_type": "display_data"
    },
    {
     "data": {
      "application/vnd.jupyter.widget-view+json": {
       "model_id": "41229bfc027c45858f80cee812cac829",
       "version_major": 2,
       "version_minor": 0
      },
      "text/plain": [
       "Comparing all faces to amzayakina_no_glasses_220.jpg:   0%|          | 0/70 [00:00<?, ?image/s]"
      ]
     },
     "metadata": {},
     "output_type": "display_data"
    },
    {
     "data": {
      "application/vnd.jupyter.widget-view+json": {
       "model_id": "382eea8a28184d658ff5906541d614b1",
       "version_major": 2,
       "version_minor": 0
      },
      "text/plain": [
       "Comparing all faces to appecherskih_no_glasses_220.jpg:   0%|          | 0/70 [00:00<?, ?image/s]"
      ]
     },
     "metadata": {},
     "output_type": "display_data"
    },
    {
     "data": {
      "application/vnd.jupyter.widget-view+json": {
       "model_id": "98bd2f084ab44114b9cbfd9b0fde2b73",
       "version_major": 2,
       "version_minor": 0
      },
      "text/plain": [
       "Comparing all faces to arandarbua_no_glasses_220.jpg:   0%|          | 0/70 [00:00<?, ?image/s]"
      ]
     },
     "metadata": {},
     "output_type": "display_data"
    },
    {
     "data": {
      "application/vnd.jupyter.widget-view+json": {
       "model_id": "581fa8be6d824f769d4252178475e459",
       "version_major": 2,
       "version_minor": 0
      },
      "text/plain": [
       "Comparing all faces to archilingarov_no_glasses_220.jpg:   0%|          | 0/70 [00:00<?, ?image/s]"
      ]
     },
     "metadata": {},
     "output_type": "display_data"
    },
    {
     "data": {
      "application/vnd.jupyter.widget-view+json": {
       "model_id": "9c753c5ad388473cb854d7ddfd810887",
       "version_major": 2,
       "version_minor": 0
      },
      "text/plain": [
       "Comparing all faces to arkhabibullina_3_no_glasses_220.jpg:   0%|          | 0/70 [00:00<?, ?image/s]"
      ]
     },
     "metadata": {},
     "output_type": "display_data"
    },
    {
     "data": {
      "application/vnd.jupyter.widget-view+json": {
       "model_id": "c4e3ab1412d146a485d46ff15758966c",
       "version_major": 2,
       "version_minor": 0
      },
      "text/plain": [
       "Comparing all faces to asbaranova_glasses_220.jpg:   0%|          | 0/70 [00:00<?, ?image/s]"
      ]
     },
     "metadata": {},
     "output_type": "display_data"
    },
    {
     "data": {
      "application/vnd.jupyter.widget-view+json": {
       "model_id": "739e44b65f144c528cad185028b55364",
       "version_major": 2,
       "version_minor": 0
      },
      "text/plain": [
       "Comparing all faces to asbaranova_no_glasses_220.jpg:   0%|          | 0/70 [00:00<?, ?image/s]"
      ]
     },
     "metadata": {},
     "output_type": "display_data"
    },
    {
     "data": {
      "application/vnd.jupyter.widget-view+json": {
       "model_id": "2a5e7b0dbea34f198b0c23a4ad30733a",
       "version_major": 2,
       "version_minor": 0
      },
      "text/plain": [
       "Comparing all faces to avpapina_no_glasses_220.jpg:   0%|          | 0/70 [00:00<?, ?image/s]"
      ]
     },
     "metadata": {},
     "output_type": "display_data"
    },
    {
     "data": {
      "application/vnd.jupyter.widget-view+json": {
       "model_id": "a90f9191d39940be8816d51561562d34",
       "version_major": 2,
       "version_minor": 0
      },
      "text/plain": [
       "Comparing all faces to ayuvasileva_1_no_glasses_220.jpg:   0%|          | 0/70 [00:00<?, ?image/s]"
      ]
     },
     "metadata": {},
     "output_type": "display_data"
    },
    {
     "data": {
      "application/vnd.jupyter.widget-view+json": {
       "model_id": "f15b7fda54894cd28366e55c8c162ece",
       "version_major": 2,
       "version_minor": 0
      },
      "text/plain": [
       "Comparing all faces to dashubin_no_glasses_220.jpg:   0%|          | 0/70 [00:00<?, ?image/s]"
      ]
     },
     "metadata": {},
     "output_type": "display_data"
    },
    {
     "data": {
      "application/vnd.jupyter.widget-view+json": {
       "model_id": "c5a8719720cd49e1ac7e40688b85d709",
       "version_major": 2,
       "version_minor": 0
      },
      "text/plain": [
       "Comparing all faces to datikhomirov_no_glasses_220.jpg:   0%|          | 0/70 [00:00<?, ?image/s]"
      ]
     },
     "metadata": {},
     "output_type": "display_data"
    },
    {
     "data": {
      "application/vnd.jupyter.widget-view+json": {
       "model_id": "50b3940a2f494f149e790aa9e3cf20c5",
       "version_major": 2,
       "version_minor": 0
      },
      "text/plain": [
       "Comparing all faces to dkorolev_no_glasses_220.jpg:   0%|          | 0/70 [00:00<?, ?image/s]"
      ]
     },
     "metadata": {},
     "output_type": "display_data"
    },
    {
     "data": {
      "application/vnd.jupyter.widget-view+json": {
       "model_id": "d4e6b7f8448d457cb31f8cea432c47b6",
       "version_major": 2,
       "version_minor": 0
      },
      "text/plain": [
       "Comparing all faces to dmbobrova_no_glasses_220.jpg:   0%|          | 0/70 [00:00<?, ?image/s]"
      ]
     },
     "metadata": {},
     "output_type": "display_data"
    },
    {
     "data": {
      "application/vnd.jupyter.widget-view+json": {
       "model_id": "54f9531e3bb74ecfae29fec323278017",
       "version_major": 2,
       "version_minor": 0
      },
      "text/plain": [
       "Comparing all faces to drsmirnov_glasses_220.jpg:   0%|          | 0/70 [00:00<?, ?image/s]"
      ]
     },
     "metadata": {},
     "output_type": "display_data"
    },
    {
     "data": {
      "application/vnd.jupyter.widget-view+json": {
       "model_id": "6c1313e2fe4743fa91fd3432b65163b7",
       "version_major": 2,
       "version_minor": 0
      },
      "text/plain": [
       "Comparing all faces to drsmirnov_no_glasses_220.jpg:   0%|          | 0/70 [00:00<?, ?image/s]"
      ]
     },
     "metadata": {},
     "output_type": "display_data"
    },
    {
     "data": {
      "application/vnd.jupyter.widget-view+json": {
       "model_id": "44696ad4107f4c7e9ee1e25768a965f6",
       "version_major": 2,
       "version_minor": 0
      },
      "text/plain": [
       "Comparing all faces to dvzaitseva_glasses_220.jpg:   0%|          | 0/70 [00:00<?, ?image/s]"
      ]
     },
     "metadata": {},
     "output_type": "display_data"
    },
    {
     "data": {
      "application/vnd.jupyter.widget-view+json": {
       "model_id": "5a01468f0d8e4a3ba9769529de29bfa8",
       "version_major": 2,
       "version_minor": 0
      },
      "text/plain": [
       "Comparing all faces to dvzaitseva_no_glasses_220.jpg:   0%|          | 0/70 [00:00<?, ?image/s]"
      ]
     },
     "metadata": {},
     "output_type": "display_data"
    },
    {
     "data": {
      "application/vnd.jupyter.widget-view+json": {
       "model_id": "925df2cc454a4cde96283419b968c885",
       "version_major": 2,
       "version_minor": 0
      },
      "text/plain": [
       "Comparing all faces to eamilekhina_glasses_220.jpg:   0%|          | 0/70 [00:00<?, ?image/s]"
      ]
     },
     "metadata": {},
     "output_type": "display_data"
    },
    {
     "data": {
      "application/vnd.jupyter.widget-view+json": {
       "model_id": "45b41c1c720f43d3bd69a5467bd4c7fc",
       "version_major": 2,
       "version_minor": 0
      },
      "text/plain": [
       "Comparing all faces to eamilekhina_no_glasses_220.jpg:   0%|          | 0/70 [00:00<?, ?image/s]"
      ]
     },
     "metadata": {},
     "output_type": "display_data"
    },
    {
     "data": {
      "application/vnd.jupyter.widget-view+json": {
       "model_id": "6579c5e79f134727b66e33276e509e56",
       "version_major": 2,
       "version_minor": 0
      },
      "text/plain": [
       "Comparing all faces to eelogvina_no_glasses_220.jpg:   0%|          | 0/70 [00:00<?, ?image/s]"
      ]
     },
     "metadata": {},
     "output_type": "display_data"
    },
    {
     "data": {
      "application/vnd.jupyter.widget-view+json": {
       "model_id": "4f26f018dd7049f5b00aff4e2cb90229",
       "version_major": 2,
       "version_minor": 0
      },
      "text/plain": [
       "Comparing all faces to eggadzhiev_glasses_220.jpg:   0%|          | 0/70 [00:00<?, ?image/s]"
      ]
     },
     "metadata": {},
     "output_type": "display_data"
    },
    {
     "data": {
      "application/vnd.jupyter.widget-view+json": {
       "model_id": "d4e0d42b09374ec5a251fe31f867593f",
       "version_major": 2,
       "version_minor": 0
      },
      "text/plain": [
       "Comparing all faces to eggadzhiev_no_glasses_220.jpg:   0%|          | 0/70 [00:00<?, ?image/s]"
      ]
     },
     "metadata": {},
     "output_type": "display_data"
    },
    {
     "data": {
      "application/vnd.jupyter.widget-view+json": {
       "model_id": "2fe5d1268e104236a1b98005bcf24d59",
       "version_major": 2,
       "version_minor": 0
      },
      "text/plain": [
       "Comparing all faces to evdarkhanov_no_glasses_220.jpg:   0%|          | 0/70 [00:00<?, ?image/s]"
      ]
     },
     "metadata": {},
     "output_type": "display_data"
    },
    {
     "data": {
      "application/vnd.jupyter.widget-view+json": {
       "model_id": "5de8078de02a42b4aac100376f79f084",
       "version_major": 2,
       "version_minor": 0
      },
      "text/plain": [
       "Comparing all faces to gaataev_no_glasses_220.jpg:   0%|          | 0/70 [00:00<?, ?image/s]"
      ]
     },
     "metadata": {},
     "output_type": "display_data"
    },
    {
     "data": {
      "application/vnd.jupyter.widget-view+json": {
       "model_id": "f40a2ec874ba483e8e8371150d3f0736",
       "version_major": 2,
       "version_minor": 0
      },
      "text/plain": [
       "Comparing all faces to imsalakhov_glasses_220.jpg:   0%|          | 0/70 [00:00<?, ?image/s]"
      ]
     },
     "metadata": {},
     "output_type": "display_data"
    },
    {
     "data": {
      "application/vnd.jupyter.widget-view+json": {
       "model_id": "677ec43b9b304f11a75c0415bdf5e249",
       "version_major": 2,
       "version_minor": 0
      },
      "text/plain": [
       "Comparing all faces to imsalakhov_no_glasses_220.jpg:   0%|          | 0/70 [00:00<?, ?image/s]"
      ]
     },
     "metadata": {},
     "output_type": "display_data"
    },
    {
     "data": {
      "application/vnd.jupyter.widget-view+json": {
       "model_id": "2d65581da1fa4ed99ba8d11c5b25ef58",
       "version_major": 2,
       "version_minor": 0
      },
      "text/plain": [
       "Comparing all faces to ipustenko_no_glasses_220.jpg:   0%|          | 0/70 [00:00<?, ?image/s]"
      ]
     },
     "metadata": {},
     "output_type": "display_data"
    },
    {
     "data": {
      "application/vnd.jupyter.widget-view+json": {
       "model_id": "4f9fc3d8581f4347b5255c09728000c7",
       "version_major": 2,
       "version_minor": 0
      },
      "text/plain": [
       "Comparing all faces to ischekanov_no_glasses_220.jpg:   0%|          | 0/70 [00:00<?, ?image/s]"
      ]
     },
     "metadata": {},
     "output_type": "display_data"
    },
    {
     "data": {
      "application/vnd.jupyter.widget-view+json": {
       "model_id": "0e7d2a9df5af4b44a8168e576ccc3cc2",
       "version_major": 2,
       "version_minor": 0
      },
      "text/plain": [
       "Comparing all faces to isulanova_no_glasses_220.jpg:   0%|          | 0/70 [00:00<?, ?image/s]"
      ]
     },
     "metadata": {},
     "output_type": "display_data"
    },
    {
     "data": {
      "application/vnd.jupyter.widget-view+json": {
       "model_id": "63a1a72df85047dfac1afbc65cf4e404",
       "version_major": 2,
       "version_minor": 0
      },
      "text/plain": [
       "Comparing all faces to kdfrolov_no_glasses_220.jpg:   0%|          | 0/70 [00:00<?, ?image/s]"
      ]
     },
     "metadata": {},
     "output_type": "display_data"
    },
    {
     "data": {
      "application/vnd.jupyter.widget-view+json": {
       "model_id": "ad656be4f4d04596b05610da718918ae",
       "version_major": 2,
       "version_minor": 0
      },
      "text/plain": [
       "Comparing all faces to khtalbegov_no_glasses_220.jpg:   0%|          | 0/70 [00:00<?, ?image/s]"
      ]
     },
     "metadata": {},
     "output_type": "display_data"
    },
    {
     "data": {
      "application/vnd.jupyter.widget-view+json": {
       "model_id": "15f188f887c8492dbbd0e6c43df3d8e3",
       "version_major": 2,
       "version_minor": 0
      },
      "text/plain": [
       "Comparing all faces to kvnovikov_glasses_220.jpg:   0%|          | 0/70 [00:00<?, ?image/s]"
      ]
     },
     "metadata": {},
     "output_type": "display_data"
    },
    {
     "data": {
      "application/vnd.jupyter.widget-view+json": {
       "model_id": "cffaf74dcb12468a83a325d934c141ac",
       "version_major": 2,
       "version_minor": 0
      },
      "text/plain": [
       "Comparing all faces to kvnovikov_no_glasses_220.jpg:   0%|          | 0/70 [00:00<?, ?image/s]"
      ]
     },
     "metadata": {},
     "output_type": "display_data"
    },
    {
     "data": {
      "application/vnd.jupyter.widget-view+json": {
       "model_id": "3581e5220d8e493a922623d5b56c9ee6",
       "version_major": 2,
       "version_minor": 0
      },
      "text/plain": [
       "Comparing all faces to limiroshnichenko_no_glasses_220.jpg:   0%|          | 0/70 [00:00<?, ?image/s]"
      ]
     },
     "metadata": {},
     "output_type": "display_data"
    },
    {
     "data": {
      "application/vnd.jupyter.widget-view+json": {
       "model_id": "9a81bda13b4449bd8a16ddb5f480433a",
       "version_major": 2,
       "version_minor": 0
      },
      "text/plain": [
       "Comparing all faces to madusov_no_glasses_220.jpg:   0%|          | 0/70 [00:00<?, ?image/s]"
      ]
     },
     "metadata": {},
     "output_type": "display_data"
    },
    {
     "data": {
      "application/vnd.jupyter.widget-view+json": {
       "model_id": "2cf11b55862d4bffaa0726a653b7a30c",
       "version_major": 2,
       "version_minor": 0
      },
      "text/plain": [
       "Comparing all faces to mapivovarova_no_glasses_220.jpg:   0%|          | 0/70 [00:00<?, ?image/s]"
      ]
     },
     "metadata": {},
     "output_type": "display_data"
    },
    {
     "data": {
      "application/vnd.jupyter.widget-view+json": {
       "model_id": "52b4bad8312c4821ac5f2df7b11888c2",
       "version_major": 2,
       "version_minor": 0
      },
      "text/plain": [
       "Comparing all faces to masadkovskaya_no_glasses_220.jpg:   0%|          | 0/70 [00:00<?, ?image/s]"
      ]
     },
     "metadata": {},
     "output_type": "display_data"
    },
    {
     "data": {
      "application/vnd.jupyter.widget-view+json": {
       "model_id": "e45132108c8f4a419c0d4b4c0894ac56",
       "version_major": 2,
       "version_minor": 0
      },
      "text/plain": [
       "Comparing all faces to mdspitsyn_no_glasses_220.jpg:   0%|          | 0/70 [00:00<?, ?image/s]"
      ]
     },
     "metadata": {},
     "output_type": "display_data"
    },
    {
     "data": {
      "application/vnd.jupyter.widget-view+json": {
       "model_id": "03df067f0a5b4117b6e8cd284c541125",
       "version_major": 2,
       "version_minor": 0
      },
      "text/plain": [
       "Comparing all faces to mvemelianenko_no_glasses_220.jpg:   0%|          | 0/70 [00:00<?, ?image/s]"
      ]
     },
     "metadata": {},
     "output_type": "display_data"
    },
    {
     "data": {
      "application/vnd.jupyter.widget-view+json": {
       "model_id": "64a002ce7b6948fb9fa61a7247bbb9e9",
       "version_major": 2,
       "version_minor": 0
      },
      "text/plain": [
       "Comparing all faces to mvmoiseev_no_glasses_220.jpg:   0%|          | 0/70 [00:00<?, ?image/s]"
      ]
     },
     "metadata": {},
     "output_type": "display_data"
    },
    {
     "data": {
      "application/vnd.jupyter.widget-view+json": {
       "model_id": "f730d4e2ab174ed78f39f2516e4068ff",
       "version_major": 2,
       "version_minor": 0
      },
      "text/plain": [
       "Comparing all faces to mvyakovlev_1_no_glasses_220.jpg:   0%|          | 0/70 [00:00<?, ?image/s]"
      ]
     },
     "metadata": {},
     "output_type": "display_data"
    },
    {
     "data": {
      "application/vnd.jupyter.widget-view+json": {
       "model_id": "f5d6594ee5f840fca7af9386fe34dcd6",
       "version_major": 2,
       "version_minor": 0
      },
      "text/plain": [
       "Comparing all faces to myumikheev_no_glasses_220.jpg:   0%|          | 0/70 [00:00<?, ?image/s]"
      ]
     },
     "metadata": {},
     "output_type": "display_data"
    },
    {
     "data": {
      "application/vnd.jupyter.widget-view+json": {
       "model_id": "75913d8c881344899debb21391292469",
       "version_major": 2,
       "version_minor": 0
      },
      "text/plain": [
       "Comparing all faces to narybakovskiy_no_glasses_220.jpg:   0%|          | 0/70 [00:00<?, ?image/s]"
      ]
     },
     "metadata": {},
     "output_type": "display_data"
    },
    {
     "data": {
      "application/vnd.jupyter.widget-view+json": {
       "model_id": "d78803a58dcf4a2bb411dbc084a92f03",
       "version_major": 2,
       "version_minor": 0
      },
      "text/plain": [
       "Comparing all faces to ndkubaev_no_glasses_220.jpg:   0%|          | 0/70 [00:00<?, ?image/s]"
      ]
     },
     "metadata": {},
     "output_type": "display_data"
    },
    {
     "data": {
      "application/vnd.jupyter.widget-view+json": {
       "model_id": "904e0c65bd1a448c944837cca7b28edd",
       "version_major": 2,
       "version_minor": 0
      },
      "text/plain": [
       "Comparing all faces to palmasizade_no_glasses_220.jpg:   0%|          | 0/70 [00:00<?, ?image/s]"
      ]
     },
     "metadata": {},
     "output_type": "display_data"
    },
    {
     "data": {
      "application/vnd.jupyter.widget-view+json": {
       "model_id": "68cb467c3b5840afb222eb8cdbc96ca3",
       "version_major": 2,
       "version_minor": 0
      },
      "text/plain": [
       "Comparing all faces to prybakov_glasses_220.jpg:   0%|          | 0/70 [00:00<?, ?image/s]"
      ]
     },
     "metadata": {},
     "output_type": "display_data"
    },
    {
     "data": {
      "application/vnd.jupyter.widget-view+json": {
       "model_id": "9329ccbab6a6445d90220b801676c001",
       "version_major": 2,
       "version_minor": 0
      },
      "text/plain": [
       "Comparing all faces to prybakov_no_glasses_220.jpg:   0%|          | 0/70 [00:00<?, ?image/s]"
      ]
     },
     "metadata": {},
     "output_type": "display_data"
    },
    {
     "data": {
      "application/vnd.jupyter.widget-view+json": {
       "model_id": "7c5ad47ef65542aeb3c6f2466c6abb36",
       "version_major": 2,
       "version_minor": 0
      },
      "text/plain": [
       "Comparing all faces to rbadalian_no_glasses_220.jpg:   0%|          | 0/70 [00:00<?, ?image/s]"
      ]
     },
     "metadata": {},
     "output_type": "display_data"
    },
    {
     "data": {
      "application/vnd.jupyter.widget-view+json": {
       "model_id": "8da1a11a61d341bcaab9101d2834483d",
       "version_major": 2,
       "version_minor": 0
      },
      "text/plain": [
       "Comparing all faces to rrminnegalieva_glasses_220.jpg:   0%|          | 0/70 [00:00<?, ?image/s]"
      ]
     },
     "metadata": {},
     "output_type": "display_data"
    },
    {
     "data": {
      "application/vnd.jupyter.widget-view+json": {
       "model_id": "7cd115e87cbd4c31a5507ad691e637c4",
       "version_major": 2,
       "version_minor": 0
      },
      "text/plain": [
       "Comparing all faces to saslastnikov_no_glasses_220.jpg:   0%|          | 0/70 [00:00<?, ?image/s]"
      ]
     },
     "metadata": {},
     "output_type": "display_data"
    },
    {
     "data": {
      "application/vnd.jupyter.widget-view+json": {
       "model_id": "2c26faedef3648d989258e4f8f95e1d1",
       "version_major": 2,
       "version_minor": 0
      },
      "text/plain": [
       "Comparing all faces to svkozaev_no_glasses_220.jpg:   0%|          | 0/70 [00:00<?, ?image/s]"
      ]
     },
     "metadata": {},
     "output_type": "display_data"
    },
    {
     "data": {
      "application/vnd.jupyter.widget-view+json": {
       "model_id": "6014dfd9d921451ea3aebab1de24c9f3",
       "version_major": 2,
       "version_minor": 0
      },
      "text/plain": [
       "Comparing all faces to vachudnovskiy_no_glasses_220.jpg:   0%|          | 0/70 [00:00<?, ?image/s]"
      ]
     },
     "metadata": {},
     "output_type": "display_data"
    },
    {
     "data": {
      "application/vnd.jupyter.widget-view+json": {
       "model_id": "e6e004ddeb944f21abe9f94c08de0bfc",
       "version_major": 2,
       "version_minor": 0
      },
      "text/plain": [
       "Comparing all faces to vakabisov_no_glasses_220.jpg:   0%|          | 0/70 [00:00<?, ?image/s]"
      ]
     },
     "metadata": {},
     "output_type": "display_data"
    },
    {
     "data": {
      "application/vnd.jupyter.widget-view+json": {
       "model_id": "3f80e83172204eb4bec2760b35805017",
       "version_major": 2,
       "version_minor": 0
      },
      "text/plain": [
       "Comparing all faces to vashin_no_glasses_220.jpg:   0%|          | 0/70 [00:00<?, ?image/s]"
      ]
     },
     "metadata": {},
     "output_type": "display_data"
    },
    {
     "data": {
      "application/vnd.jupyter.widget-view+json": {
       "model_id": "d7826e960b0c42668543d65f7e0c5049",
       "version_major": 2,
       "version_minor": 0
      },
      "text/plain": [
       "Comparing all faces to vianoshin_glasses_220.jpg:   0%|          | 0/70 [00:00<?, ?image/s]"
      ]
     },
     "metadata": {},
     "output_type": "display_data"
    },
    {
     "data": {
      "application/vnd.jupyter.widget-view+json": {
       "model_id": "3e5d5520596741fe8dfc587b0afb16f2",
       "version_major": 2,
       "version_minor": 0
      },
      "text/plain": [
       "Comparing all faces to vianoshin_no_glasses_220.jpg:   0%|          | 0/70 [00:00<?, ?image/s]"
      ]
     },
     "metadata": {},
     "output_type": "display_data"
    },
    {
     "data": {
      "application/vnd.jupyter.widget-view+json": {
       "model_id": "61d11cbe6aa847a78ed412ddc5c9c96f",
       "version_major": 2,
       "version_minor": 0
      },
      "text/plain": [
       "Comparing all faces to vkduborova_no_glasses_220.jpg:   0%|          | 0/70 [00:00<?, ?image/s]"
      ]
     },
     "metadata": {},
     "output_type": "display_data"
    },
    {
     "data": {
      "application/vnd.jupyter.widget-view+json": {
       "model_id": "fc2ec2dcc355448bb27a99c244f77b8c",
       "version_major": 2,
       "version_minor": 0
      },
      "text/plain": [
       "Comparing all faces to vnemna_glasses_220.jpg:   0%|          | 0/70 [00:00<?, ?image/s]"
      ]
     },
     "metadata": {},
     "output_type": "display_data"
    },
    {
     "data": {
      "application/vnd.jupyter.widget-view+json": {
       "model_id": "aac6f51d2ec042079a1549b2271a89e8",
       "version_major": 2,
       "version_minor": 0
      },
      "text/plain": [
       "Comparing all faces to vnemna_no_glasses_220.jpg:   0%|          | 0/70 [00:00<?, ?image/s]"
      ]
     },
     "metadata": {},
     "output_type": "display_data"
    },
    {
     "data": {
      "application/vnd.jupyter.widget-view+json": {
       "model_id": "e7fb2fb218814be68fa0a0876a21c52b",
       "version_major": 2,
       "version_minor": 0
      },
      "text/plain": [
       "Comparing all faces to vyunastasova_glasses_220.jpg:   0%|          | 0/70 [00:00<?, ?image/s]"
      ]
     },
     "metadata": {},
     "output_type": "display_data"
    },
    {
     "data": {
      "application/vnd.jupyter.widget-view+json": {
       "model_id": "1b78842a874a4b7e9f2454a70173aaca",
       "version_major": 2,
       "version_minor": 0
      },
      "text/plain": [
       "Comparing all faces to vyunastasova_no_glasses_220.jpg:   0%|          | 0/70 [00:00<?, ?image/s]"
      ]
     },
     "metadata": {},
     "output_type": "display_data"
    },
    {
     "data": {
      "application/vnd.jupyter.widget-view+json": {
       "model_id": "cb766331439b427a88feead61336c311",
       "version_major": 2,
       "version_minor": 0
      },
      "text/plain": [
       "Processing with Facenet512:   0%|          | 0/70 [00:00<?, ?image/s]"
      ]
     },
     "metadata": {},
     "output_type": "display_data"
    },
    {
     "data": {
      "application/vnd.jupyter.widget-view+json": {
       "model_id": "5d6f318f4e704dc39bfb591996e428f6",
       "version_major": 2,
       "version_minor": 0
      },
      "text/plain": [
       "Comparing all faces to aamartynenko_9_no_glasses_160.jpg:   0%|          | 0/70 [00:00<?, ?image/s]"
      ]
     },
     "metadata": {},
     "output_type": "display_data"
    },
    {
     "data": {
      "application/vnd.jupyter.widget-view+json": {
       "model_id": "f0b50c3e614648178ff2b0b948eeb363",
       "version_major": 2,
       "version_minor": 0
      },
      "text/plain": [
       "Comparing all faces to aazheltov_1_no_glasses_160.jpg:   0%|          | 0/70 [00:00<?, ?image/s]"
      ]
     },
     "metadata": {},
     "output_type": "display_data"
    },
    {
     "data": {
      "application/vnd.jupyter.widget-view+json": {
       "model_id": "02b45345399f4204bb5ef4fb288424b6",
       "version_major": 2,
       "version_minor": 0
      },
      "text/plain": [
       "Comparing all faces to adletunov_no_glasses_160.jpg:   0%|          | 0/70 [00:00<?, ?image/s]"
      ]
     },
     "metadata": {},
     "output_type": "display_data"
    },
    {
     "data": {
      "application/vnd.jupyter.widget-view+json": {
       "model_id": "98e4c552e64446abbfcd0023e20bf59b",
       "version_major": 2,
       "version_minor": 0
      },
      "text/plain": [
       "Comparing all faces to adpiskunov_no_glasses_160.jpg:   0%|          | 0/70 [00:00<?, ?image/s]"
      ]
     },
     "metadata": {},
     "output_type": "display_data"
    },
    {
     "data": {
      "application/vnd.jupyter.widget-view+json": {
       "model_id": "69cfdee141b74289817bf096069e5040",
       "version_major": 2,
       "version_minor": 0
      },
      "text/plain": [
       "Comparing all faces to aimilovanova_no_glasses_160.jpg:   0%|          | 0/70 [00:00<?, ?image/s]"
      ]
     },
     "metadata": {},
     "output_type": "display_data"
    },
    {
     "data": {
      "application/vnd.jupyter.widget-view+json": {
       "model_id": "83e8e88a5d7d47a38b9671b70bbeb793",
       "version_major": 2,
       "version_minor": 0
      },
      "text/plain": [
       "Comparing all faces to ameliseenko_glasses_160.jpg:   0%|          | 0/70 [00:00<?, ?image/s]"
      ]
     },
     "metadata": {},
     "output_type": "display_data"
    },
    {
     "data": {
      "application/vnd.jupyter.widget-view+json": {
       "model_id": "310635ad9428420b86b35b8e08524f22",
       "version_major": 2,
       "version_minor": 0
      },
      "text/plain": [
       "Comparing all faces to ameliseenko_no_glasses_160.jpg:   0%|          | 0/70 [00:00<?, ?image/s]"
      ]
     },
     "metadata": {},
     "output_type": "display_data"
    },
    {
     "data": {
      "application/vnd.jupyter.widget-view+json": {
       "model_id": "28689c18e09241068f2bb05000e8d22f",
       "version_major": 2,
       "version_minor": 0
      },
      "text/plain": [
       "Comparing all faces to amsirotkin_no_glasses_160.jpg:   0%|          | 0/70 [00:00<?, ?image/s]"
      ]
     },
     "metadata": {},
     "output_type": "display_data"
    },
    {
     "data": {
      "application/vnd.jupyter.widget-view+json": {
       "model_id": "8385f6f591854825a852707f4b7c9596",
       "version_major": 2,
       "version_minor": 0
      },
      "text/plain": [
       "Comparing all faces to amzayakina_glasses_160.jpg:   0%|          | 0/70 [00:00<?, ?image/s]"
      ]
     },
     "metadata": {},
     "output_type": "display_data"
    },
    {
     "data": {
      "application/vnd.jupyter.widget-view+json": {
       "model_id": "9b9ace7cbbab4447b02b869fd290b874",
       "version_major": 2,
       "version_minor": 0
      },
      "text/plain": [
       "Comparing all faces to amzayakina_no_glasses_160.jpg:   0%|          | 0/70 [00:00<?, ?image/s]"
      ]
     },
     "metadata": {},
     "output_type": "display_data"
    },
    {
     "data": {
      "application/vnd.jupyter.widget-view+json": {
       "model_id": "eed3352cf4c2486c8eae6d95df1852f6",
       "version_major": 2,
       "version_minor": 0
      },
      "text/plain": [
       "Comparing all faces to appecherskih_no_glasses_160.jpg:   0%|          | 0/70 [00:00<?, ?image/s]"
      ]
     },
     "metadata": {},
     "output_type": "display_data"
    },
    {
     "data": {
      "application/vnd.jupyter.widget-view+json": {
       "model_id": "5c9f3952244249139725ecf2730f6ebc",
       "version_major": 2,
       "version_minor": 0
      },
      "text/plain": [
       "Comparing all faces to arandarbua_no_glasses_160.jpg:   0%|          | 0/70 [00:00<?, ?image/s]"
      ]
     },
     "metadata": {},
     "output_type": "display_data"
    },
    {
     "data": {
      "application/vnd.jupyter.widget-view+json": {
       "model_id": "e70bae67fea947169c7a83f26a1fe81c",
       "version_major": 2,
       "version_minor": 0
      },
      "text/plain": [
       "Comparing all faces to archilingarov_no_glasses_160.jpg:   0%|          | 0/70 [00:00<?, ?image/s]"
      ]
     },
     "metadata": {},
     "output_type": "display_data"
    },
    {
     "data": {
      "application/vnd.jupyter.widget-view+json": {
       "model_id": "1099d7b094774a72a7ba2ef1a048987a",
       "version_major": 2,
       "version_minor": 0
      },
      "text/plain": [
       "Comparing all faces to arkhabibullina_3_no_glasses_160.jpg:   0%|          | 0/70 [00:00<?, ?image/s]"
      ]
     },
     "metadata": {},
     "output_type": "display_data"
    },
    {
     "data": {
      "application/vnd.jupyter.widget-view+json": {
       "model_id": "c5ad8e28a63748ce8298b883a3e733e5",
       "version_major": 2,
       "version_minor": 0
      },
      "text/plain": [
       "Comparing all faces to asbaranova_glasses_160.jpg:   0%|          | 0/70 [00:00<?, ?image/s]"
      ]
     },
     "metadata": {},
     "output_type": "display_data"
    },
    {
     "data": {
      "application/vnd.jupyter.widget-view+json": {
       "model_id": "15163a50999e472599032fb600cbfaa3",
       "version_major": 2,
       "version_minor": 0
      },
      "text/plain": [
       "Comparing all faces to asbaranova_no_glasses_160.jpg:   0%|          | 0/70 [00:00<?, ?image/s]"
      ]
     },
     "metadata": {},
     "output_type": "display_data"
    },
    {
     "data": {
      "application/vnd.jupyter.widget-view+json": {
       "model_id": "e04bf5e4b7fa4ba3aa0966bda58b5866",
       "version_major": 2,
       "version_minor": 0
      },
      "text/plain": [
       "Comparing all faces to avpapina_no_glasses_160.jpg:   0%|          | 0/70 [00:00<?, ?image/s]"
      ]
     },
     "metadata": {},
     "output_type": "display_data"
    },
    {
     "data": {
      "application/vnd.jupyter.widget-view+json": {
       "model_id": "d25b011a186741f6a78e3712e128a503",
       "version_major": 2,
       "version_minor": 0
      },
      "text/plain": [
       "Comparing all faces to ayuvasileva_1_no_glasses_160.jpg:   0%|          | 0/70 [00:00<?, ?image/s]"
      ]
     },
     "metadata": {},
     "output_type": "display_data"
    },
    {
     "data": {
      "application/vnd.jupyter.widget-view+json": {
       "model_id": "6c90055f1d864e7ea27e1ad8709c629c",
       "version_major": 2,
       "version_minor": 0
      },
      "text/plain": [
       "Comparing all faces to dashubin_no_glasses_160.jpg:   0%|          | 0/70 [00:00<?, ?image/s]"
      ]
     },
     "metadata": {},
     "output_type": "display_data"
    },
    {
     "data": {
      "application/vnd.jupyter.widget-view+json": {
       "model_id": "5eec4de97c984475b8c33f232e5c7c07",
       "version_major": 2,
       "version_minor": 0
      },
      "text/plain": [
       "Comparing all faces to datikhomirov_no_glasses_160.jpg:   0%|          | 0/70 [00:00<?, ?image/s]"
      ]
     },
     "metadata": {},
     "output_type": "display_data"
    },
    {
     "data": {
      "application/vnd.jupyter.widget-view+json": {
       "model_id": "2ad8f49ed1394f36bd0fbcb7455b5d58",
       "version_major": 2,
       "version_minor": 0
      },
      "text/plain": [
       "Comparing all faces to dkorolev_no_glasses_160.jpg:   0%|          | 0/70 [00:00<?, ?image/s]"
      ]
     },
     "metadata": {},
     "output_type": "display_data"
    },
    {
     "data": {
      "application/vnd.jupyter.widget-view+json": {
       "model_id": "40ca8a9e79894439af64e63694b912b0",
       "version_major": 2,
       "version_minor": 0
      },
      "text/plain": [
       "Comparing all faces to dmbobrova_no_glasses_160.jpg:   0%|          | 0/70 [00:00<?, ?image/s]"
      ]
     },
     "metadata": {},
     "output_type": "display_data"
    },
    {
     "data": {
      "application/vnd.jupyter.widget-view+json": {
       "model_id": "085680395b394ca1bd6cf00015915acf",
       "version_major": 2,
       "version_minor": 0
      },
      "text/plain": [
       "Comparing all faces to drsmirnov_glasses_160.jpg:   0%|          | 0/70 [00:00<?, ?image/s]"
      ]
     },
     "metadata": {},
     "output_type": "display_data"
    },
    {
     "data": {
      "application/vnd.jupyter.widget-view+json": {
       "model_id": "a23338122aa04c56907e768e4e015b41",
       "version_major": 2,
       "version_minor": 0
      },
      "text/plain": [
       "Comparing all faces to drsmirnov_no_glasses_160.jpg:   0%|          | 0/70 [00:00<?, ?image/s]"
      ]
     },
     "metadata": {},
     "output_type": "display_data"
    },
    {
     "data": {
      "application/vnd.jupyter.widget-view+json": {
       "model_id": "5aed78895f72424baccf0f1bb256d139",
       "version_major": 2,
       "version_minor": 0
      },
      "text/plain": [
       "Comparing all faces to dvzaitseva_glasses_160.jpg:   0%|          | 0/70 [00:00<?, ?image/s]"
      ]
     },
     "metadata": {},
     "output_type": "display_data"
    },
    {
     "data": {
      "application/vnd.jupyter.widget-view+json": {
       "model_id": "74e5faa0245441af8ae0b0d175b26f97",
       "version_major": 2,
       "version_minor": 0
      },
      "text/plain": [
       "Comparing all faces to dvzaitseva_no_glasses_160.jpg:   0%|          | 0/70 [00:00<?, ?image/s]"
      ]
     },
     "metadata": {},
     "output_type": "display_data"
    },
    {
     "data": {
      "application/vnd.jupyter.widget-view+json": {
       "model_id": "87282ed0e13f4c35934435767e8b498f",
       "version_major": 2,
       "version_minor": 0
      },
      "text/plain": [
       "Comparing all faces to eamilekhina_glasses_160.jpg:   0%|          | 0/70 [00:00<?, ?image/s]"
      ]
     },
     "metadata": {},
     "output_type": "display_data"
    },
    {
     "data": {
      "application/vnd.jupyter.widget-view+json": {
       "model_id": "db634f6cc094410794f54aa2eb7f0a21",
       "version_major": 2,
       "version_minor": 0
      },
      "text/plain": [
       "Comparing all faces to eamilekhina_no_glasses_160.jpg:   0%|          | 0/70 [00:00<?, ?image/s]"
      ]
     },
     "metadata": {},
     "output_type": "display_data"
    },
    {
     "data": {
      "application/vnd.jupyter.widget-view+json": {
       "model_id": "092fbbd8b5c54e13b5a6212282c9751d",
       "version_major": 2,
       "version_minor": 0
      },
      "text/plain": [
       "Comparing all faces to eelogvina_no_glasses_160.jpg:   0%|          | 0/70 [00:00<?, ?image/s]"
      ]
     },
     "metadata": {},
     "output_type": "display_data"
    },
    {
     "data": {
      "application/vnd.jupyter.widget-view+json": {
       "model_id": "f8aebebdb6b94f39b1fa8ff85a017e9a",
       "version_major": 2,
       "version_minor": 0
      },
      "text/plain": [
       "Comparing all faces to eggadzhiev_glasses_160.jpg:   0%|          | 0/70 [00:00<?, ?image/s]"
      ]
     },
     "metadata": {},
     "output_type": "display_data"
    },
    {
     "data": {
      "application/vnd.jupyter.widget-view+json": {
       "model_id": "93099d46cfcb468698792d17cf5ca54e",
       "version_major": 2,
       "version_minor": 0
      },
      "text/plain": [
       "Comparing all faces to eggadzhiev_no_glasses_160.jpg:   0%|          | 0/70 [00:00<?, ?image/s]"
      ]
     },
     "metadata": {},
     "output_type": "display_data"
    },
    {
     "data": {
      "application/vnd.jupyter.widget-view+json": {
       "model_id": "34b5444903d14e19921c5406ae7355dd",
       "version_major": 2,
       "version_minor": 0
      },
      "text/plain": [
       "Comparing all faces to evdarkhanov_no_glasses_160.jpg:   0%|          | 0/70 [00:00<?, ?image/s]"
      ]
     },
     "metadata": {},
     "output_type": "display_data"
    },
    {
     "data": {
      "application/vnd.jupyter.widget-view+json": {
       "model_id": "1d80c758aecd40d18598a7425ebf8f1a",
       "version_major": 2,
       "version_minor": 0
      },
      "text/plain": [
       "Comparing all faces to gaataev_no_glasses_160.jpg:   0%|          | 0/70 [00:00<?, ?image/s]"
      ]
     },
     "metadata": {},
     "output_type": "display_data"
    },
    {
     "data": {
      "application/vnd.jupyter.widget-view+json": {
       "model_id": "eb5314ce4f0442199906e8c2f2eea067",
       "version_major": 2,
       "version_minor": 0
      },
      "text/plain": [
       "Comparing all faces to imsalakhov_glasses_160.jpg:   0%|          | 0/70 [00:00<?, ?image/s]"
      ]
     },
     "metadata": {},
     "output_type": "display_data"
    },
    {
     "data": {
      "application/vnd.jupyter.widget-view+json": {
       "model_id": "71c4f5de9f604b39a32596e933432782",
       "version_major": 2,
       "version_minor": 0
      },
      "text/plain": [
       "Comparing all faces to imsalakhov_no_glasses_160.jpg:   0%|          | 0/70 [00:00<?, ?image/s]"
      ]
     },
     "metadata": {},
     "output_type": "display_data"
    },
    {
     "data": {
      "application/vnd.jupyter.widget-view+json": {
       "model_id": "550aedb531a54d2ea5729123707e5704",
       "version_major": 2,
       "version_minor": 0
      },
      "text/plain": [
       "Comparing all faces to ipustenko_no_glasses_160.jpg:   0%|          | 0/70 [00:00<?, ?image/s]"
      ]
     },
     "metadata": {},
     "output_type": "display_data"
    },
    {
     "data": {
      "application/vnd.jupyter.widget-view+json": {
       "model_id": "8a6cfdb9821e4a61b66521c576ae083b",
       "version_major": 2,
       "version_minor": 0
      },
      "text/plain": [
       "Comparing all faces to ischekanov_no_glasses_160.jpg:   0%|          | 0/70 [00:00<?, ?image/s]"
      ]
     },
     "metadata": {},
     "output_type": "display_data"
    },
    {
     "data": {
      "application/vnd.jupyter.widget-view+json": {
       "model_id": "cb8e7c31e43e43c9aed9efd4d08fb34a",
       "version_major": 2,
       "version_minor": 0
      },
      "text/plain": [
       "Comparing all faces to isulanova_no_glasses_160.jpg:   0%|          | 0/70 [00:00<?, ?image/s]"
      ]
     },
     "metadata": {},
     "output_type": "display_data"
    },
    {
     "data": {
      "application/vnd.jupyter.widget-view+json": {
       "model_id": "d6527aa3d90044fbaaebe989a9c71de7",
       "version_major": 2,
       "version_minor": 0
      },
      "text/plain": [
       "Comparing all faces to kdfrolov_no_glasses_160.jpg:   0%|          | 0/70 [00:00<?, ?image/s]"
      ]
     },
     "metadata": {},
     "output_type": "display_data"
    },
    {
     "data": {
      "application/vnd.jupyter.widget-view+json": {
       "model_id": "014b2973eff7434e90d07a96219d77a9",
       "version_major": 2,
       "version_minor": 0
      },
      "text/plain": [
       "Comparing all faces to khtalbegov_no_glasses_160.jpg:   0%|          | 0/70 [00:00<?, ?image/s]"
      ]
     },
     "metadata": {},
     "output_type": "display_data"
    },
    {
     "data": {
      "application/vnd.jupyter.widget-view+json": {
       "model_id": "70e10eff19d4416ca1cd2b41437cffa5",
       "version_major": 2,
       "version_minor": 0
      },
      "text/plain": [
       "Comparing all faces to kvnovikov_glasses_160.jpg:   0%|          | 0/70 [00:00<?, ?image/s]"
      ]
     },
     "metadata": {},
     "output_type": "display_data"
    },
    {
     "data": {
      "application/vnd.jupyter.widget-view+json": {
       "model_id": "fd8f47e31a974d449cf4abd8bd9d1401",
       "version_major": 2,
       "version_minor": 0
      },
      "text/plain": [
       "Comparing all faces to kvnovikov_no_glasses_160.jpg:   0%|          | 0/70 [00:00<?, ?image/s]"
      ]
     },
     "metadata": {},
     "output_type": "display_data"
    },
    {
     "data": {
      "application/vnd.jupyter.widget-view+json": {
       "model_id": "369db0207e4440bfbfb36061a017cc53",
       "version_major": 2,
       "version_minor": 0
      },
      "text/plain": [
       "Comparing all faces to limiroshnichenko_no_glasses_160.jpg:   0%|          | 0/70 [00:00<?, ?image/s]"
      ]
     },
     "metadata": {},
     "output_type": "display_data"
    },
    {
     "data": {
      "application/vnd.jupyter.widget-view+json": {
       "model_id": "bed2b626e2ef4f53bc6735eb5a5df24e",
       "version_major": 2,
       "version_minor": 0
      },
      "text/plain": [
       "Comparing all faces to madusov_no_glasses_160.jpg:   0%|          | 0/70 [00:00<?, ?image/s]"
      ]
     },
     "metadata": {},
     "output_type": "display_data"
    },
    {
     "data": {
      "application/vnd.jupyter.widget-view+json": {
       "model_id": "bf3115fe6050441d973dc97ad112c6b6",
       "version_major": 2,
       "version_minor": 0
      },
      "text/plain": [
       "Comparing all faces to mapivovarova_no_glasses_160.jpg:   0%|          | 0/70 [00:00<?, ?image/s]"
      ]
     },
     "metadata": {},
     "output_type": "display_data"
    },
    {
     "data": {
      "application/vnd.jupyter.widget-view+json": {
       "model_id": "6eb20c24beb04f7097882cf59d6fc84f",
       "version_major": 2,
       "version_minor": 0
      },
      "text/plain": [
       "Comparing all faces to masadkovskaya_no_glasses_160.jpg:   0%|          | 0/70 [00:00<?, ?image/s]"
      ]
     },
     "metadata": {},
     "output_type": "display_data"
    },
    {
     "data": {
      "application/vnd.jupyter.widget-view+json": {
       "model_id": "5c10bffd81b343d49facb41208a5e261",
       "version_major": 2,
       "version_minor": 0
      },
      "text/plain": [
       "Comparing all faces to mdspitsyn_no_glasses_160.jpg:   0%|          | 0/70 [00:00<?, ?image/s]"
      ]
     },
     "metadata": {},
     "output_type": "display_data"
    },
    {
     "data": {
      "application/vnd.jupyter.widget-view+json": {
       "model_id": "ffa69d11f167491182cfdd1f7770f58d",
       "version_major": 2,
       "version_minor": 0
      },
      "text/plain": [
       "Comparing all faces to mvemelianenko_no_glasses_160.jpg:   0%|          | 0/70 [00:00<?, ?image/s]"
      ]
     },
     "metadata": {},
     "output_type": "display_data"
    },
    {
     "data": {
      "application/vnd.jupyter.widget-view+json": {
       "model_id": "3f60574a11da42c3a776927050b150b4",
       "version_major": 2,
       "version_minor": 0
      },
      "text/plain": [
       "Comparing all faces to mvmoiseev_no_glasses_160.jpg:   0%|          | 0/70 [00:00<?, ?image/s]"
      ]
     },
     "metadata": {},
     "output_type": "display_data"
    },
    {
     "data": {
      "application/vnd.jupyter.widget-view+json": {
       "model_id": "219e23c7e7864188b800b626f73e9fe7",
       "version_major": 2,
       "version_minor": 0
      },
      "text/plain": [
       "Comparing all faces to mvyakovlev_1_no_glasses_160.jpg:   0%|          | 0/70 [00:00<?, ?image/s]"
      ]
     },
     "metadata": {},
     "output_type": "display_data"
    },
    {
     "data": {
      "application/vnd.jupyter.widget-view+json": {
       "model_id": "cce77a60796c4f6488c6ff107776bfea",
       "version_major": 2,
       "version_minor": 0
      },
      "text/plain": [
       "Comparing all faces to myumikheev_no_glasses_160.jpg:   0%|          | 0/70 [00:00<?, ?image/s]"
      ]
     },
     "metadata": {},
     "output_type": "display_data"
    },
    {
     "data": {
      "application/vnd.jupyter.widget-view+json": {
       "model_id": "f1ef2aca8f0e48eb9bae1c1329686a5b",
       "version_major": 2,
       "version_minor": 0
      },
      "text/plain": [
       "Comparing all faces to narybakovskiy_no_glasses_160.jpg:   0%|          | 0/70 [00:00<?, ?image/s]"
      ]
     },
     "metadata": {},
     "output_type": "display_data"
    },
    {
     "data": {
      "application/vnd.jupyter.widget-view+json": {
       "model_id": "3b544625798445e9bd2d48bf49abef0b",
       "version_major": 2,
       "version_minor": 0
      },
      "text/plain": [
       "Comparing all faces to ndkubaev_no_glasses_160.jpg:   0%|          | 0/70 [00:00<?, ?image/s]"
      ]
     },
     "metadata": {},
     "output_type": "display_data"
    },
    {
     "data": {
      "application/vnd.jupyter.widget-view+json": {
       "model_id": "fca481ad3b9447a9888a51488ececb96",
       "version_major": 2,
       "version_minor": 0
      },
      "text/plain": [
       "Comparing all faces to palmasizade_no_glasses_160.jpg:   0%|          | 0/70 [00:00<?, ?image/s]"
      ]
     },
     "metadata": {},
     "output_type": "display_data"
    },
    {
     "data": {
      "application/vnd.jupyter.widget-view+json": {
       "model_id": "cdebac4d143e4c8fa9a644f623f0e600",
       "version_major": 2,
       "version_minor": 0
      },
      "text/plain": [
       "Comparing all faces to prybakov_glasses_160.jpg:   0%|          | 0/70 [00:00<?, ?image/s]"
      ]
     },
     "metadata": {},
     "output_type": "display_data"
    },
    {
     "data": {
      "application/vnd.jupyter.widget-view+json": {
       "model_id": "970f3372e3034e1ab9deec36959c686e",
       "version_major": 2,
       "version_minor": 0
      },
      "text/plain": [
       "Comparing all faces to prybakov_no_glasses_160.jpg:   0%|          | 0/70 [00:00<?, ?image/s]"
      ]
     },
     "metadata": {},
     "output_type": "display_data"
    },
    {
     "data": {
      "application/vnd.jupyter.widget-view+json": {
       "model_id": "5cac56d174be4c89ba476d4131aea4c3",
       "version_major": 2,
       "version_minor": 0
      },
      "text/plain": [
       "Comparing all faces to rbadalian_no_glasses_160.jpg:   0%|          | 0/70 [00:00<?, ?image/s]"
      ]
     },
     "metadata": {},
     "output_type": "display_data"
    },
    {
     "data": {
      "application/vnd.jupyter.widget-view+json": {
       "model_id": "b3b861f251bd4c0bb44e56a76bda9483",
       "version_major": 2,
       "version_minor": 0
      },
      "text/plain": [
       "Comparing all faces to rrminnegalieva_glasses_160.jpg:   0%|          | 0/70 [00:00<?, ?image/s]"
      ]
     },
     "metadata": {},
     "output_type": "display_data"
    },
    {
     "data": {
      "application/vnd.jupyter.widget-view+json": {
       "model_id": "477250b72b2e48b3bc524aa5080e0eee",
       "version_major": 2,
       "version_minor": 0
      },
      "text/plain": [
       "Comparing all faces to saslastnikov_no_glasses_160.jpg:   0%|          | 0/70 [00:00<?, ?image/s]"
      ]
     },
     "metadata": {},
     "output_type": "display_data"
    },
    {
     "data": {
      "application/vnd.jupyter.widget-view+json": {
       "model_id": "88b94f8617f9442ebef1b79b93f61203",
       "version_major": 2,
       "version_minor": 0
      },
      "text/plain": [
       "Comparing all faces to svkozaev_no_glasses_160.jpg:   0%|          | 0/70 [00:00<?, ?image/s]"
      ]
     },
     "metadata": {},
     "output_type": "display_data"
    },
    {
     "data": {
      "application/vnd.jupyter.widget-view+json": {
       "model_id": "c52af378043d4d19ae141ee197e4aa96",
       "version_major": 2,
       "version_minor": 0
      },
      "text/plain": [
       "Comparing all faces to vachudnovskiy_no_glasses_160.jpg:   0%|          | 0/70 [00:00<?, ?image/s]"
      ]
     },
     "metadata": {},
     "output_type": "display_data"
    },
    {
     "data": {
      "application/vnd.jupyter.widget-view+json": {
       "model_id": "031839bfe28c48c8ae220af95ed8ecaa",
       "version_major": 2,
       "version_minor": 0
      },
      "text/plain": [
       "Comparing all faces to vakabisov_no_glasses_160.jpg:   0%|          | 0/70 [00:00<?, ?image/s]"
      ]
     },
     "metadata": {},
     "output_type": "display_data"
    },
    {
     "data": {
      "application/vnd.jupyter.widget-view+json": {
       "model_id": "bb08942e7f35457480896deb657594df",
       "version_major": 2,
       "version_minor": 0
      },
      "text/plain": [
       "Comparing all faces to vashin_no_glasses_160.jpg:   0%|          | 0/70 [00:00<?, ?image/s]"
      ]
     },
     "metadata": {},
     "output_type": "display_data"
    },
    {
     "data": {
      "application/vnd.jupyter.widget-view+json": {
       "model_id": "7fdbc640e9c348bcb2de3dd7ab38baa7",
       "version_major": 2,
       "version_minor": 0
      },
      "text/plain": [
       "Comparing all faces to vianoshin_glasses_160.jpg:   0%|          | 0/70 [00:00<?, ?image/s]"
      ]
     },
     "metadata": {},
     "output_type": "display_data"
    },
    {
     "data": {
      "application/vnd.jupyter.widget-view+json": {
       "model_id": "24ae237a44434f3f83ce7756359930ee",
       "version_major": 2,
       "version_minor": 0
      },
      "text/plain": [
       "Comparing all faces to vianoshin_no_glasses_160.jpg:   0%|          | 0/70 [00:00<?, ?image/s]"
      ]
     },
     "metadata": {},
     "output_type": "display_data"
    },
    {
     "data": {
      "application/vnd.jupyter.widget-view+json": {
       "model_id": "bca9199992de4242955bc2f606856824",
       "version_major": 2,
       "version_minor": 0
      },
      "text/plain": [
       "Comparing all faces to vkduborova_no_glasses_160.jpg:   0%|          | 0/70 [00:00<?, ?image/s]"
      ]
     },
     "metadata": {},
     "output_type": "display_data"
    },
    {
     "data": {
      "application/vnd.jupyter.widget-view+json": {
       "model_id": "61c447fa24f449c1918e1c0444e03267",
       "version_major": 2,
       "version_minor": 0
      },
      "text/plain": [
       "Comparing all faces to vnemna_glasses_160.jpg:   0%|          | 0/70 [00:00<?, ?image/s]"
      ]
     },
     "metadata": {},
     "output_type": "display_data"
    },
    {
     "data": {
      "application/vnd.jupyter.widget-view+json": {
       "model_id": "5e533f30f9ce47ed8d5cd395aedc404c",
       "version_major": 2,
       "version_minor": 0
      },
      "text/plain": [
       "Comparing all faces to vnemna_no_glasses_160.jpg:   0%|          | 0/70 [00:00<?, ?image/s]"
      ]
     },
     "metadata": {},
     "output_type": "display_data"
    },
    {
     "data": {
      "application/vnd.jupyter.widget-view+json": {
       "model_id": "656ecc11917e499bb79e88a4ec393a91",
       "version_major": 2,
       "version_minor": 0
      },
      "text/plain": [
       "Comparing all faces to vyunastasova_glasses_160.jpg:   0%|          | 0/70 [00:00<?, ?image/s]"
      ]
     },
     "metadata": {},
     "output_type": "display_data"
    },
    {
     "data": {
      "application/vnd.jupyter.widget-view+json": {
       "model_id": "4dabca3bf2994018b46c08e9ef4fc0c7",
       "version_major": 2,
       "version_minor": 0
      },
      "text/plain": [
       "Comparing all faces to vyunastasova_no_glasses_160.jpg:   0%|          | 0/70 [00:00<?, ?image/s]"
      ]
     },
     "metadata": {},
     "output_type": "display_data"
    },
    {
     "data": {
      "application/vnd.jupyter.widget-view+json": {
       "model_id": "3ddad35290814123881f84408a52940b",
       "version_major": 2,
       "version_minor": 0
      },
      "text/plain": [
       "Processing with OpenFace:   0%|          | 0/70 [00:00<?, ?image/s]"
      ]
     },
     "metadata": {},
     "output_type": "display_data"
    },
    {
     "data": {
      "application/vnd.jupyter.widget-view+json": {
       "model_id": "8e7588f17abd4ce4b4ab18b3d9dcd2f3",
       "version_major": 2,
       "version_minor": 0
      },
      "text/plain": [
       "Comparing all faces to aamartynenko_9_no_glasses_96.jpg:   0%|          | 0/70 [00:00<?, ?image/s]"
      ]
     },
     "metadata": {},
     "output_type": "display_data"
    },
    {
     "data": {
      "application/vnd.jupyter.widget-view+json": {
       "model_id": "ed09f776ae984e4a9121568bcce75245",
       "version_major": 2,
       "version_minor": 0
      },
      "text/plain": [
       "Comparing all faces to aazheltov_1_no_glasses_96.jpg:   0%|          | 0/70 [00:00<?, ?image/s]"
      ]
     },
     "metadata": {},
     "output_type": "display_data"
    },
    {
     "data": {
      "application/vnd.jupyter.widget-view+json": {
       "model_id": "763e93659779418981514c769b52b43a",
       "version_major": 2,
       "version_minor": 0
      },
      "text/plain": [
       "Comparing all faces to adletunov_no_glasses_96.jpg:   0%|          | 0/70 [00:00<?, ?image/s]"
      ]
     },
     "metadata": {},
     "output_type": "display_data"
    },
    {
     "data": {
      "application/vnd.jupyter.widget-view+json": {
       "model_id": "1c2f4dcdad014aaa9b0d70d16ae60399",
       "version_major": 2,
       "version_minor": 0
      },
      "text/plain": [
       "Comparing all faces to adpiskunov_no_glasses_96.jpg:   0%|          | 0/70 [00:00<?, ?image/s]"
      ]
     },
     "metadata": {},
     "output_type": "display_data"
    },
    {
     "data": {
      "application/vnd.jupyter.widget-view+json": {
       "model_id": "7d83b062bfb648b5afb1dfb5c7a66d10",
       "version_major": 2,
       "version_minor": 0
      },
      "text/plain": [
       "Comparing all faces to aimilovanova_no_glasses_96.jpg:   0%|          | 0/70 [00:00<?, ?image/s]"
      ]
     },
     "metadata": {},
     "output_type": "display_data"
    },
    {
     "data": {
      "application/vnd.jupyter.widget-view+json": {
       "model_id": "fac120f0ba804d43aa0b04c990b4bee9",
       "version_major": 2,
       "version_minor": 0
      },
      "text/plain": [
       "Comparing all faces to ameliseenko_glasses_96.jpg:   0%|          | 0/70 [00:00<?, ?image/s]"
      ]
     },
     "metadata": {},
     "output_type": "display_data"
    },
    {
     "data": {
      "application/vnd.jupyter.widget-view+json": {
       "model_id": "0c44c1ea723a4a3a8cdee5cb40d4b813",
       "version_major": 2,
       "version_minor": 0
      },
      "text/plain": [
       "Comparing all faces to ameliseenko_no_glasses_96.jpg:   0%|          | 0/70 [00:00<?, ?image/s]"
      ]
     },
     "metadata": {},
     "output_type": "display_data"
    },
    {
     "data": {
      "application/vnd.jupyter.widget-view+json": {
       "model_id": "f0d22184fa7044c99746171091f091a9",
       "version_major": 2,
       "version_minor": 0
      },
      "text/plain": [
       "Comparing all faces to amsirotkin_no_glasses_96.jpg:   0%|          | 0/70 [00:00<?, ?image/s]"
      ]
     },
     "metadata": {},
     "output_type": "display_data"
    },
    {
     "data": {
      "application/vnd.jupyter.widget-view+json": {
       "model_id": "583ad47b8e6d40989269628de5a700c6",
       "version_major": 2,
       "version_minor": 0
      },
      "text/plain": [
       "Comparing all faces to amzayakina_glasses_96.jpg:   0%|          | 0/70 [00:00<?, ?image/s]"
      ]
     },
     "metadata": {},
     "output_type": "display_data"
    },
    {
     "data": {
      "application/vnd.jupyter.widget-view+json": {
       "model_id": "ce599693e691489fbf84e8dcc4634f0b",
       "version_major": 2,
       "version_minor": 0
      },
      "text/plain": [
       "Comparing all faces to amzayakina_no_glasses_96.jpg:   0%|          | 0/70 [00:00<?, ?image/s]"
      ]
     },
     "metadata": {},
     "output_type": "display_data"
    },
    {
     "data": {
      "application/vnd.jupyter.widget-view+json": {
       "model_id": "5921d3111ebd44348ea23b963f90025c",
       "version_major": 2,
       "version_minor": 0
      },
      "text/plain": [
       "Comparing all faces to appecherskih_no_glasses_96.jpg:   0%|          | 0/70 [00:00<?, ?image/s]"
      ]
     },
     "metadata": {},
     "output_type": "display_data"
    },
    {
     "data": {
      "application/vnd.jupyter.widget-view+json": {
       "model_id": "8df830c5e7bf4ae89a6ca0f5395fef9b",
       "version_major": 2,
       "version_minor": 0
      },
      "text/plain": [
       "Comparing all faces to arandarbua_no_glasses_96.jpg:   0%|          | 0/70 [00:00<?, ?image/s]"
      ]
     },
     "metadata": {},
     "output_type": "display_data"
    },
    {
     "data": {
      "application/vnd.jupyter.widget-view+json": {
       "model_id": "385fdfe5115349abbe49e0a249da1a77",
       "version_major": 2,
       "version_minor": 0
      },
      "text/plain": [
       "Comparing all faces to archilingarov_no_glasses_96.jpg:   0%|          | 0/70 [00:00<?, ?image/s]"
      ]
     },
     "metadata": {},
     "output_type": "display_data"
    },
    {
     "data": {
      "application/vnd.jupyter.widget-view+json": {
       "model_id": "dfbb0452df3344e9aa89137b7e9a2b27",
       "version_major": 2,
       "version_minor": 0
      },
      "text/plain": [
       "Comparing all faces to arkhabibullina_3_no_glasses_96.jpg:   0%|          | 0/70 [00:00<?, ?image/s]"
      ]
     },
     "metadata": {},
     "output_type": "display_data"
    },
    {
     "data": {
      "application/vnd.jupyter.widget-view+json": {
       "model_id": "39e2339da7374f03aaeedce152ce4a02",
       "version_major": 2,
       "version_minor": 0
      },
      "text/plain": [
       "Comparing all faces to asbaranova_glasses_96.jpg:   0%|          | 0/70 [00:00<?, ?image/s]"
      ]
     },
     "metadata": {},
     "output_type": "display_data"
    },
    {
     "data": {
      "application/vnd.jupyter.widget-view+json": {
       "model_id": "902e26eb0d8046e0bb718ad97d88f93a",
       "version_major": 2,
       "version_minor": 0
      },
      "text/plain": [
       "Comparing all faces to asbaranova_no_glasses_96.jpg:   0%|          | 0/70 [00:00<?, ?image/s]"
      ]
     },
     "metadata": {},
     "output_type": "display_data"
    },
    {
     "data": {
      "application/vnd.jupyter.widget-view+json": {
       "model_id": "519275a3f9b64109a6ced7cc7c457117",
       "version_major": 2,
       "version_minor": 0
      },
      "text/plain": [
       "Comparing all faces to avpapina_no_glasses_96.jpg:   0%|          | 0/70 [00:00<?, ?image/s]"
      ]
     },
     "metadata": {},
     "output_type": "display_data"
    },
    {
     "data": {
      "application/vnd.jupyter.widget-view+json": {
       "model_id": "cb2ba5976e854d55bf0fbf5e622a11bc",
       "version_major": 2,
       "version_minor": 0
      },
      "text/plain": [
       "Comparing all faces to ayuvasileva_1_no_glasses_96.jpg:   0%|          | 0/70 [00:00<?, ?image/s]"
      ]
     },
     "metadata": {},
     "output_type": "display_data"
    },
    {
     "data": {
      "application/vnd.jupyter.widget-view+json": {
       "model_id": "cf5d0c4152bf45abab8fb903cbea35b2",
       "version_major": 2,
       "version_minor": 0
      },
      "text/plain": [
       "Comparing all faces to dashubin_no_glasses_96.jpg:   0%|          | 0/70 [00:00<?, ?image/s]"
      ]
     },
     "metadata": {},
     "output_type": "display_data"
    },
    {
     "data": {
      "application/vnd.jupyter.widget-view+json": {
       "model_id": "b6b29599b2054fd3a7b8aa127b36006b",
       "version_major": 2,
       "version_minor": 0
      },
      "text/plain": [
       "Comparing all faces to datikhomirov_no_glasses_96.jpg:   0%|          | 0/70 [00:00<?, ?image/s]"
      ]
     },
     "metadata": {},
     "output_type": "display_data"
    },
    {
     "data": {
      "application/vnd.jupyter.widget-view+json": {
       "model_id": "541793980a12494682169a0342a873eb",
       "version_major": 2,
       "version_minor": 0
      },
      "text/plain": [
       "Comparing all faces to dkorolev_no_glasses_96.jpg:   0%|          | 0/70 [00:00<?, ?image/s]"
      ]
     },
     "metadata": {},
     "output_type": "display_data"
    },
    {
     "data": {
      "application/vnd.jupyter.widget-view+json": {
       "model_id": "9cf0a1769da44ad5950bc405e61f3991",
       "version_major": 2,
       "version_minor": 0
      },
      "text/plain": [
       "Comparing all faces to dmbobrova_no_glasses_96.jpg:   0%|          | 0/70 [00:00<?, ?image/s]"
      ]
     },
     "metadata": {},
     "output_type": "display_data"
    },
    {
     "data": {
      "application/vnd.jupyter.widget-view+json": {
       "model_id": "76a8b4178b204579bb4f847805c74670",
       "version_major": 2,
       "version_minor": 0
      },
      "text/plain": [
       "Comparing all faces to drsmirnov_glasses_96.jpg:   0%|          | 0/70 [00:00<?, ?image/s]"
      ]
     },
     "metadata": {},
     "output_type": "display_data"
    },
    {
     "data": {
      "application/vnd.jupyter.widget-view+json": {
       "model_id": "77b0babffa6a47dd8e8ee23bd59ebef6",
       "version_major": 2,
       "version_minor": 0
      },
      "text/plain": [
       "Comparing all faces to drsmirnov_no_glasses_96.jpg:   0%|          | 0/70 [00:00<?, ?image/s]"
      ]
     },
     "metadata": {},
     "output_type": "display_data"
    },
    {
     "data": {
      "application/vnd.jupyter.widget-view+json": {
       "model_id": "dfa647d73d1c40169c919c5072cf0374",
       "version_major": 2,
       "version_minor": 0
      },
      "text/plain": [
       "Comparing all faces to dvzaitseva_glasses_96.jpg:   0%|          | 0/70 [00:00<?, ?image/s]"
      ]
     },
     "metadata": {},
     "output_type": "display_data"
    },
    {
     "data": {
      "application/vnd.jupyter.widget-view+json": {
       "model_id": "d9f5ffeaa5d94f8b8c47198f98119c62",
       "version_major": 2,
       "version_minor": 0
      },
      "text/plain": [
       "Comparing all faces to dvzaitseva_no_glasses_96.jpg:   0%|          | 0/70 [00:00<?, ?image/s]"
      ]
     },
     "metadata": {},
     "output_type": "display_data"
    },
    {
     "data": {
      "application/vnd.jupyter.widget-view+json": {
       "model_id": "e654bf38479f459ea7a582b7d11c6cad",
       "version_major": 2,
       "version_minor": 0
      },
      "text/plain": [
       "Comparing all faces to eamilekhina_glasses_96.jpg:   0%|          | 0/70 [00:00<?, ?image/s]"
      ]
     },
     "metadata": {},
     "output_type": "display_data"
    },
    {
     "data": {
      "application/vnd.jupyter.widget-view+json": {
       "model_id": "c148cdd56f5a49d2afdaf544e92551e5",
       "version_major": 2,
       "version_minor": 0
      },
      "text/plain": [
       "Comparing all faces to eamilekhina_no_glasses_96.jpg:   0%|          | 0/70 [00:00<?, ?image/s]"
      ]
     },
     "metadata": {},
     "output_type": "display_data"
    },
    {
     "data": {
      "application/vnd.jupyter.widget-view+json": {
       "model_id": "dc03f5ef76d5445e84259ff60a2ace2a",
       "version_major": 2,
       "version_minor": 0
      },
      "text/plain": [
       "Comparing all faces to eelogvina_no_glasses_96.jpg:   0%|          | 0/70 [00:00<?, ?image/s]"
      ]
     },
     "metadata": {},
     "output_type": "display_data"
    },
    {
     "data": {
      "application/vnd.jupyter.widget-view+json": {
       "model_id": "8ac89517a3214fb59e8c088d231a6923",
       "version_major": 2,
       "version_minor": 0
      },
      "text/plain": [
       "Comparing all faces to eggadzhiev_glasses_96.jpg:   0%|          | 0/70 [00:00<?, ?image/s]"
      ]
     },
     "metadata": {},
     "output_type": "display_data"
    },
    {
     "data": {
      "application/vnd.jupyter.widget-view+json": {
       "model_id": "403f1ed456f04a53b087e5f35376bc9b",
       "version_major": 2,
       "version_minor": 0
      },
      "text/plain": [
       "Comparing all faces to eggadzhiev_no_glasses_96.jpg:   0%|          | 0/70 [00:00<?, ?image/s]"
      ]
     },
     "metadata": {},
     "output_type": "display_data"
    },
    {
     "data": {
      "application/vnd.jupyter.widget-view+json": {
       "model_id": "5ad21db76aaa4d1db8bc9ca9de1f22c4",
       "version_major": 2,
       "version_minor": 0
      },
      "text/plain": [
       "Comparing all faces to evdarkhanov_no_glasses_96.jpg:   0%|          | 0/70 [00:00<?, ?image/s]"
      ]
     },
     "metadata": {},
     "output_type": "display_data"
    },
    {
     "data": {
      "application/vnd.jupyter.widget-view+json": {
       "model_id": "906c56a4f9f94a6d8a2e9654b9f1e383",
       "version_major": 2,
       "version_minor": 0
      },
      "text/plain": [
       "Comparing all faces to gaataev_no_glasses_96.jpg:   0%|          | 0/70 [00:00<?, ?image/s]"
      ]
     },
     "metadata": {},
     "output_type": "display_data"
    },
    {
     "data": {
      "application/vnd.jupyter.widget-view+json": {
       "model_id": "72d9f6201758491e9edc4ef62863e110",
       "version_major": 2,
       "version_minor": 0
      },
      "text/plain": [
       "Comparing all faces to imsalakhov_glasses_96.jpg:   0%|          | 0/70 [00:00<?, ?image/s]"
      ]
     },
     "metadata": {},
     "output_type": "display_data"
    },
    {
     "data": {
      "application/vnd.jupyter.widget-view+json": {
       "model_id": "0b9ca30de3ba4bee95ec5a155afb2869",
       "version_major": 2,
       "version_minor": 0
      },
      "text/plain": [
       "Comparing all faces to imsalakhov_no_glasses_96.jpg:   0%|          | 0/70 [00:00<?, ?image/s]"
      ]
     },
     "metadata": {},
     "output_type": "display_data"
    },
    {
     "data": {
      "application/vnd.jupyter.widget-view+json": {
       "model_id": "674a09ee89aa4b1b88086c91c3d5a124",
       "version_major": 2,
       "version_minor": 0
      },
      "text/plain": [
       "Comparing all faces to ipustenko_no_glasses_96.jpg:   0%|          | 0/70 [00:00<?, ?image/s]"
      ]
     },
     "metadata": {},
     "output_type": "display_data"
    },
    {
     "data": {
      "application/vnd.jupyter.widget-view+json": {
       "model_id": "6fdcbb8d45a24609bd7fbf63c6eef70c",
       "version_major": 2,
       "version_minor": 0
      },
      "text/plain": [
       "Comparing all faces to ischekanov_no_glasses_96.jpg:   0%|          | 0/70 [00:00<?, ?image/s]"
      ]
     },
     "metadata": {},
     "output_type": "display_data"
    },
    {
     "data": {
      "application/vnd.jupyter.widget-view+json": {
       "model_id": "d34d988660bc456c864a5eea4efd6a63",
       "version_major": 2,
       "version_minor": 0
      },
      "text/plain": [
       "Comparing all faces to isulanova_no_glasses_96.jpg:   0%|          | 0/70 [00:00<?, ?image/s]"
      ]
     },
     "metadata": {},
     "output_type": "display_data"
    },
    {
     "data": {
      "application/vnd.jupyter.widget-view+json": {
       "model_id": "0785839a45fd422cb2ddcc595444635d",
       "version_major": 2,
       "version_minor": 0
      },
      "text/plain": [
       "Comparing all faces to kdfrolov_no_glasses_96.jpg:   0%|          | 0/70 [00:00<?, ?image/s]"
      ]
     },
     "metadata": {},
     "output_type": "display_data"
    },
    {
     "data": {
      "application/vnd.jupyter.widget-view+json": {
       "model_id": "828cf773915642a2a6ee06fbe8994324",
       "version_major": 2,
       "version_minor": 0
      },
      "text/plain": [
       "Comparing all faces to khtalbegov_no_glasses_96.jpg:   0%|          | 0/70 [00:00<?, ?image/s]"
      ]
     },
     "metadata": {},
     "output_type": "display_data"
    },
    {
     "data": {
      "application/vnd.jupyter.widget-view+json": {
       "model_id": "fbb25c8c309f489aaad2edce880b3af1",
       "version_major": 2,
       "version_minor": 0
      },
      "text/plain": [
       "Comparing all faces to kvnovikov_glasses_96.jpg:   0%|          | 0/70 [00:00<?, ?image/s]"
      ]
     },
     "metadata": {},
     "output_type": "display_data"
    },
    {
     "data": {
      "application/vnd.jupyter.widget-view+json": {
       "model_id": "a29df7d7a11d4c41b34feca21b2ced7f",
       "version_major": 2,
       "version_minor": 0
      },
      "text/plain": [
       "Comparing all faces to kvnovikov_no_glasses_96.jpg:   0%|          | 0/70 [00:00<?, ?image/s]"
      ]
     },
     "metadata": {},
     "output_type": "display_data"
    },
    {
     "data": {
      "application/vnd.jupyter.widget-view+json": {
       "model_id": "4493f86c6db74fdaa5b687b8d21de4ff",
       "version_major": 2,
       "version_minor": 0
      },
      "text/plain": [
       "Comparing all faces to limiroshnichenko_no_glasses_96.jpg:   0%|          | 0/70 [00:00<?, ?image/s]"
      ]
     },
     "metadata": {},
     "output_type": "display_data"
    },
    {
     "data": {
      "application/vnd.jupyter.widget-view+json": {
       "model_id": "c1d59b04b99f41f1b16a6b6730735621",
       "version_major": 2,
       "version_minor": 0
      },
      "text/plain": [
       "Comparing all faces to madusov_no_glasses_96.jpg:   0%|          | 0/70 [00:00<?, ?image/s]"
      ]
     },
     "metadata": {},
     "output_type": "display_data"
    },
    {
     "data": {
      "application/vnd.jupyter.widget-view+json": {
       "model_id": "caa8d57169b34061af2b08b5826f64da",
       "version_major": 2,
       "version_minor": 0
      },
      "text/plain": [
       "Comparing all faces to mapivovarova_no_glasses_96.jpg:   0%|          | 0/70 [00:00<?, ?image/s]"
      ]
     },
     "metadata": {},
     "output_type": "display_data"
    },
    {
     "data": {
      "application/vnd.jupyter.widget-view+json": {
       "model_id": "a92d50980bb7499dbf39946562b7af93",
       "version_major": 2,
       "version_minor": 0
      },
      "text/plain": [
       "Comparing all faces to masadkovskaya_no_glasses_96.jpg:   0%|          | 0/70 [00:00<?, ?image/s]"
      ]
     },
     "metadata": {},
     "output_type": "display_data"
    },
    {
     "data": {
      "application/vnd.jupyter.widget-view+json": {
       "model_id": "57e5831aed6f4ac1b40c2a492c3d8c05",
       "version_major": 2,
       "version_minor": 0
      },
      "text/plain": [
       "Comparing all faces to mdspitsyn_no_glasses_96.jpg:   0%|          | 0/70 [00:00<?, ?image/s]"
      ]
     },
     "metadata": {},
     "output_type": "display_data"
    },
    {
     "data": {
      "application/vnd.jupyter.widget-view+json": {
       "model_id": "599f1df83adc44289ef9e521ef196926",
       "version_major": 2,
       "version_minor": 0
      },
      "text/plain": [
       "Comparing all faces to mvemelianenko_no_glasses_96.jpg:   0%|          | 0/70 [00:00<?, ?image/s]"
      ]
     },
     "metadata": {},
     "output_type": "display_data"
    },
    {
     "data": {
      "application/vnd.jupyter.widget-view+json": {
       "model_id": "b4be0ff0cd8a4eb18a9a9241330920b1",
       "version_major": 2,
       "version_minor": 0
      },
      "text/plain": [
       "Comparing all faces to mvmoiseev_no_glasses_96.jpg:   0%|          | 0/70 [00:00<?, ?image/s]"
      ]
     },
     "metadata": {},
     "output_type": "display_data"
    },
    {
     "data": {
      "application/vnd.jupyter.widget-view+json": {
       "model_id": "66ac41bc3ffd4ed3a08a8452daeb2adb",
       "version_major": 2,
       "version_minor": 0
      },
      "text/plain": [
       "Comparing all faces to mvyakovlev_1_no_glasses_96.jpg:   0%|          | 0/70 [00:00<?, ?image/s]"
      ]
     },
     "metadata": {},
     "output_type": "display_data"
    },
    {
     "data": {
      "application/vnd.jupyter.widget-view+json": {
       "model_id": "c360656065564e20befc908b70c2c377",
       "version_major": 2,
       "version_minor": 0
      },
      "text/plain": [
       "Comparing all faces to myumikheev_no_glasses_96.jpg:   0%|          | 0/70 [00:00<?, ?image/s]"
      ]
     },
     "metadata": {},
     "output_type": "display_data"
    },
    {
     "data": {
      "application/vnd.jupyter.widget-view+json": {
       "model_id": "1664709c2dc2431fa2ff34eec41bc4de",
       "version_major": 2,
       "version_minor": 0
      },
      "text/plain": [
       "Comparing all faces to narybakovskiy_no_glasses_96.jpg:   0%|          | 0/70 [00:00<?, ?image/s]"
      ]
     },
     "metadata": {},
     "output_type": "display_data"
    },
    {
     "data": {
      "application/vnd.jupyter.widget-view+json": {
       "model_id": "de5e269379784870a209bd6dfe820593",
       "version_major": 2,
       "version_minor": 0
      },
      "text/plain": [
       "Comparing all faces to ndkubaev_no_glasses_96.jpg:   0%|          | 0/70 [00:00<?, ?image/s]"
      ]
     },
     "metadata": {},
     "output_type": "display_data"
    },
    {
     "data": {
      "application/vnd.jupyter.widget-view+json": {
       "model_id": "8e0594b2c6084c168428110f80071ed3",
       "version_major": 2,
       "version_minor": 0
      },
      "text/plain": [
       "Comparing all faces to palmasizade_no_glasses_96.jpg:   0%|          | 0/70 [00:00<?, ?image/s]"
      ]
     },
     "metadata": {},
     "output_type": "display_data"
    },
    {
     "data": {
      "application/vnd.jupyter.widget-view+json": {
       "model_id": "cd0b3857aff54cb4aac8ebbc8f392e0f",
       "version_major": 2,
       "version_minor": 0
      },
      "text/plain": [
       "Comparing all faces to prybakov_glasses_96.jpg:   0%|          | 0/70 [00:00<?, ?image/s]"
      ]
     },
     "metadata": {},
     "output_type": "display_data"
    },
    {
     "data": {
      "application/vnd.jupyter.widget-view+json": {
       "model_id": "68c361c836484c95b838df83f8619b67",
       "version_major": 2,
       "version_minor": 0
      },
      "text/plain": [
       "Comparing all faces to prybakov_no_glasses_96.jpg:   0%|          | 0/70 [00:00<?, ?image/s]"
      ]
     },
     "metadata": {},
     "output_type": "display_data"
    },
    {
     "data": {
      "application/vnd.jupyter.widget-view+json": {
       "model_id": "848aef852a604855b4a3b607e4ac9ece",
       "version_major": 2,
       "version_minor": 0
      },
      "text/plain": [
       "Comparing all faces to rbadalian_no_glasses_96.jpg:   0%|          | 0/70 [00:00<?, ?image/s]"
      ]
     },
     "metadata": {},
     "output_type": "display_data"
    },
    {
     "data": {
      "application/vnd.jupyter.widget-view+json": {
       "model_id": "e65c88049906426290ac8a51a476a79f",
       "version_major": 2,
       "version_minor": 0
      },
      "text/plain": [
       "Comparing all faces to rrminnegalieva_glasses_96.jpg:   0%|          | 0/70 [00:00<?, ?image/s]"
      ]
     },
     "metadata": {},
     "output_type": "display_data"
    },
    {
     "data": {
      "application/vnd.jupyter.widget-view+json": {
       "model_id": "5c80c01f4242453e8173ca29152dac8d",
       "version_major": 2,
       "version_minor": 0
      },
      "text/plain": [
       "Comparing all faces to saslastnikov_no_glasses_96.jpg:   0%|          | 0/70 [00:00<?, ?image/s]"
      ]
     },
     "metadata": {},
     "output_type": "display_data"
    },
    {
     "data": {
      "application/vnd.jupyter.widget-view+json": {
       "model_id": "5799dbb38e3f4975a61e47c1a8b81c34",
       "version_major": 2,
       "version_minor": 0
      },
      "text/plain": [
       "Comparing all faces to svkozaev_no_glasses_96.jpg:   0%|          | 0/70 [00:00<?, ?image/s]"
      ]
     },
     "metadata": {},
     "output_type": "display_data"
    },
    {
     "data": {
      "application/vnd.jupyter.widget-view+json": {
       "model_id": "d4a91d7353754544b2a12ab1935ae495",
       "version_major": 2,
       "version_minor": 0
      },
      "text/plain": [
       "Comparing all faces to vachudnovskiy_no_glasses_96.jpg:   0%|          | 0/70 [00:00<?, ?image/s]"
      ]
     },
     "metadata": {},
     "output_type": "display_data"
    },
    {
     "data": {
      "application/vnd.jupyter.widget-view+json": {
       "model_id": "897012fce2eb4c39a95f8b9cf763083a",
       "version_major": 2,
       "version_minor": 0
      },
      "text/plain": [
       "Comparing all faces to vakabisov_no_glasses_96.jpg:   0%|          | 0/70 [00:00<?, ?image/s]"
      ]
     },
     "metadata": {},
     "output_type": "display_data"
    },
    {
     "data": {
      "application/vnd.jupyter.widget-view+json": {
       "model_id": "46ae1740badf4c639d5f4880e1540931",
       "version_major": 2,
       "version_minor": 0
      },
      "text/plain": [
       "Comparing all faces to vashin_no_glasses_96.jpg:   0%|          | 0/70 [00:00<?, ?image/s]"
      ]
     },
     "metadata": {},
     "output_type": "display_data"
    },
    {
     "data": {
      "application/vnd.jupyter.widget-view+json": {
       "model_id": "1b66df2f1d224128a55a9b27c27fdf76",
       "version_major": 2,
       "version_minor": 0
      },
      "text/plain": [
       "Comparing all faces to vianoshin_glasses_96.jpg:   0%|          | 0/70 [00:00<?, ?image/s]"
      ]
     },
     "metadata": {},
     "output_type": "display_data"
    },
    {
     "data": {
      "application/vnd.jupyter.widget-view+json": {
       "model_id": "d70868d6f26f4cb9b86e239a338647c3",
       "version_major": 2,
       "version_minor": 0
      },
      "text/plain": [
       "Comparing all faces to vianoshin_no_glasses_96.jpg:   0%|          | 0/70 [00:00<?, ?image/s]"
      ]
     },
     "metadata": {},
     "output_type": "display_data"
    },
    {
     "data": {
      "application/vnd.jupyter.widget-view+json": {
       "model_id": "d0c0c52611f540888cd137642bf5faff",
       "version_major": 2,
       "version_minor": 0
      },
      "text/plain": [
       "Comparing all faces to vkduborova_no_glasses_96.jpg:   0%|          | 0/70 [00:00<?, ?image/s]"
      ]
     },
     "metadata": {},
     "output_type": "display_data"
    },
    {
     "data": {
      "application/vnd.jupyter.widget-view+json": {
       "model_id": "1b79233f427648a2aace183fe51bf494",
       "version_major": 2,
       "version_minor": 0
      },
      "text/plain": [
       "Comparing all faces to vnemna_glasses_96.jpg:   0%|          | 0/70 [00:00<?, ?image/s]"
      ]
     },
     "metadata": {},
     "output_type": "display_data"
    },
    {
     "data": {
      "application/vnd.jupyter.widget-view+json": {
       "model_id": "a43e840dd49c46079237010f4ef5cf78",
       "version_major": 2,
       "version_minor": 0
      },
      "text/plain": [
       "Comparing all faces to vnemna_no_glasses_96.jpg:   0%|          | 0/70 [00:00<?, ?image/s]"
      ]
     },
     "metadata": {},
     "output_type": "display_data"
    },
    {
     "data": {
      "application/vnd.jupyter.widget-view+json": {
       "model_id": "b57cb8c7fbf5415ea29b17b372c17797",
       "version_major": 2,
       "version_minor": 0
      },
      "text/plain": [
       "Comparing all faces to vyunastasova_glasses_96.jpg:   0%|          | 0/70 [00:00<?, ?image/s]"
      ]
     },
     "metadata": {},
     "output_type": "display_data"
    },
    {
     "data": {
      "application/vnd.jupyter.widget-view+json": {
       "model_id": "b80617faf0d54fe0a77f916b96d04579",
       "version_major": 2,
       "version_minor": 0
      },
      "text/plain": [
       "Comparing all faces to vyunastasova_no_glasses_96.jpg:   0%|          | 0/70 [00:00<?, ?image/s]"
      ]
     },
     "metadata": {},
     "output_type": "display_data"
    },
    {
     "data": {
      "application/vnd.jupyter.widget-view+json": {
       "model_id": "f986fe9de54c49e8a732e762108d9d76",
       "version_major": 2,
       "version_minor": 0
      },
      "text/plain": [
       "Processing with DeepFace:   0%|          | 0/70 [00:00<?, ?image/s]"
      ]
     },
     "metadata": {},
     "output_type": "display_data"
    },
    {
     "data": {
      "application/vnd.jupyter.widget-view+json": {
       "model_id": "024ecc58811843b2b543f09ffe706df3",
       "version_major": 2,
       "version_minor": 0
      },
      "text/plain": [
       "Comparing all faces to aamartynenko_9_no_glasses_152.jpg:   0%|          | 0/70 [00:00<?, ?image/s]"
      ]
     },
     "metadata": {},
     "output_type": "display_data"
    },
    {
     "data": {
      "application/vnd.jupyter.widget-view+json": {
       "model_id": "02f0d6bf878e4c069ac4bf832640b30f",
       "version_major": 2,
       "version_minor": 0
      },
      "text/plain": [
       "Comparing all faces to aazheltov_1_no_glasses_152.jpg:   0%|          | 0/70 [00:00<?, ?image/s]"
      ]
     },
     "metadata": {},
     "output_type": "display_data"
    },
    {
     "data": {
      "application/vnd.jupyter.widget-view+json": {
       "model_id": "c38db1ed9d314ee4ac12affa9eb05146",
       "version_major": 2,
       "version_minor": 0
      },
      "text/plain": [
       "Comparing all faces to adletunov_no_glasses_152.jpg:   0%|          | 0/70 [00:00<?, ?image/s]"
      ]
     },
     "metadata": {},
     "output_type": "display_data"
    },
    {
     "data": {
      "application/vnd.jupyter.widget-view+json": {
       "model_id": "fabfd626897940c395a4f81a071fd53d",
       "version_major": 2,
       "version_minor": 0
      },
      "text/plain": [
       "Comparing all faces to adpiskunov_no_glasses_152.jpg:   0%|          | 0/70 [00:00<?, ?image/s]"
      ]
     },
     "metadata": {},
     "output_type": "display_data"
    },
    {
     "data": {
      "application/vnd.jupyter.widget-view+json": {
       "model_id": "0cad06b1bc6a41d29ccaf081e06f601a",
       "version_major": 2,
       "version_minor": 0
      },
      "text/plain": [
       "Comparing all faces to aimilovanova_no_glasses_152.jpg:   0%|          | 0/70 [00:00<?, ?image/s]"
      ]
     },
     "metadata": {},
     "output_type": "display_data"
    },
    {
     "data": {
      "application/vnd.jupyter.widget-view+json": {
       "model_id": "497bcd41384147d7857bed60d92f1811",
       "version_major": 2,
       "version_minor": 0
      },
      "text/plain": [
       "Comparing all faces to ameliseenko_glasses_152.jpg:   0%|          | 0/70 [00:00<?, ?image/s]"
      ]
     },
     "metadata": {},
     "output_type": "display_data"
    }
   ],
   "source": [
    "%%time\n",
    "for model_name in model_names:\n",
    "    resolution = model_resolutions[model_name]\n",
    "    df_list = []\n",
    "\n",
    "    files = glob.glob(os.path.join(folder_path, \"**\", \"*.JPG\"), recursive=True)\n",
    "\n",
    "    # for img_path in tqdm(files, desc=f'Creating images cropped&resized to {resolution} for {model_name}', unit='image'):\n",
    "    #     rel_path = os.path.relpath(img_path, folder_path)\n",
    "    #     rel_path = rel_path.replace(os.path.sep, \"_\")\n",
    "    #     output_path = os.path.join(tmp_folder, f\"{rel_path[:-4]}_{resolution}.jpg\")\n",
    "    #     if not os.path.exists(output_path):\n",
    "    #         img = cv2.imread(img_path)\n",
    "    #         faces = DeepFace.extract_faces(img_path=img_path, detector_backend=\"retinaface\")\n",
    "    #         for face_info in faces:\n",
    "    #             cropped_face = crop_to_square(img, face_info)\n",
    "    #             resized_img = resize_image(cropped_face, (resolution, resolution))\n",
    "    #             cv2.imwrite(output_path, resized_img)\n",
    "           \n",
    "    image_files = [f for f in os.listdir(tmp_folder) if f.endswith(f'_{resolution}.jpg')]\n",
    "    \n",
    "    for filename1 in tqdm(image_files, desc=f'Processing with {model_name}', unit='image'):\n",
    "        img_path1 = os.path.join(tmp_folder, filename1)\n",
    "        # img_1 = cv2.imread(img_path1)\n",
    "        img_1 = Image.open(img_path1)\n",
    "        img_1 = np.array(img_1)\n",
    "        for filename2 in  tqdm(image_files, desc=f'Comparing all faces to {filename1}', unit='image'):\n",
    "            img_path2 = os.path.join(tmp_folder, filename2)\n",
    "\n",
    "            # img_2 = cv2.imread(img_path2)\n",
    "            img_2 = Image.open(img_path2)\n",
    "            img_2 = np.array(img_2)\n",
    "            # https://stackoverflow.com/questions/74567500/tensorflow-unknownerror-graph-execution-error-jit-compilation-failed-op-in\n",
    "            # with tf.device('/CPU:0'): \n",
    "            start_time = time.perf_counter()\n",
    "            result = DeepFace.verify(\n",
    "                img1_path=img_1,\n",
    "                img2_path=img_2,\n",
    "                enforce_detection=False,\n",
    "                detector_backend=\"retinaface\",\n",
    "                model_name=model_name,\n",
    "                distance_metric=\"euclidean_l2\"\n",
    "            )\n",
    "            # print(f\"time: {time.perf_counter() - start_time}\")\n",
    "            # print(f\"distance for {img_path2}: {result['distance']}\")\n",
    "            img1_name = os.path.splitext(filename1)[0].rsplit('_', 1)[0]\n",
    "            img2_name = os.path.splitext(filename2)[0].rsplit('_', 1)[0]\n",
    "\n",
    "            df_list.append(pd.DataFrame({'img_1': [img1_name], 'img_2': [img2_name], 'distance': [result['distance']], 'verified': [result['verified']]}))\n",
    "            \n",
    "        df = pd.concat(df_list, ignore_index=True)\n",
    "        \n",
    "    csv_file_path = os.path.join(tmp_folder, f'{model_name}_comparison_results.csv')\n",
    "    df.to_csv(csv_file_path, index=False)"
   ]
  },
  {
   "cell_type": "code",
   "execution_count": null,
   "id": "9e3d77a9-ac3e-4dfd-b4ce-6251653ad290",
   "metadata": {},
   "outputs": [],
   "source": []
  }
 ],
 "metadata": {
  "kernelspec": {
   "display_name": "Python 3 (ipykernel)",
   "language": "python",
   "name": "python3"
  },
  "language_info": {
   "codemirror_mode": {
    "name": "ipython",
    "version": 3
   },
   "file_extension": ".py",
   "mimetype": "text/x-python",
   "name": "python",
   "nbconvert_exporter": "python",
   "pygments_lexer": "ipython3",
   "version": "3.11.0rc1"
  }
 },
 "nbformat": 4,
 "nbformat_minor": 5
}
