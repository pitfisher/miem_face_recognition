{
  "nbformat": 4,
  "nbformat_minor": 0,
  "metadata": {
    "colab": {
      "provenance": [],
      "authorship_tag": "ABX9TyON5ymIwX3WSa33Kvefzyhc",
      "include_colab_link": true
    },
    "kernelspec": {
      "name": "python3",
      "display_name": "Python 3"
    },
    "language_info": {
      "name": "python"
    }
  },
  "cells": [
    {
      "cell_type": "markdown",
      "metadata": {
        "id": "view-in-github",
        "colab_type": "text"
      },
      "source": [
        "<a href=\"https://colab.research.google.com/github/pitfisher/miem_face_recognition/blob/main/make_dirs.ipynb\" target=\"_parent\"><img src=\"https://colab.research.google.com/assets/colab-badge.svg\" alt=\"Open In Colab\"/></a>"
      ]
    },
    {
      "cell_type": "code",
      "source": [
        "import os\n",
        "from google.colab import drive"
      ],
      "metadata": {
        "id": "FN0DCs9B9eK9"
      },
      "execution_count": null,
      "outputs": []
    },
    {
      "cell_type": "code",
      "execution_count": null,
      "metadata": {
        "colab": {
          "base_uri": "https://localhost:8080/"
        },
        "id": "YStDGy4i9CZK",
        "outputId": "1dc112d8-dfff-4f10-d5e2-be6ffbaead2b"
      },
      "outputs": [
        {
          "output_type": "stream",
          "name": "stdout",
          "text": [
            "Mounted at /content/gdrive\n"
          ]
        }
      ],
      "source": [
        "drive.mount('/content/gdrive')"
      ]
    },
    {
      "cell_type": "code",
      "source": [
        "base_folder = '/content/gdrive/MyDrive/face_dataset/noname'\n",
        "output_folder = '/content/gdrive/MyDrive/face_dataset/dataset'"
      ],
      "metadata": {
        "id": "8m2DB5SH9_c6"
      },
      "execution_count": null,
      "outputs": []
    },
    {
      "cell_type": "code",
      "source": [
        "folders = [entry.name for entry in os.scandir(base_folder) if entry.is_dir()]\n",
        "\n",
        "new_folder_name = \"upd_face_dataset\"\n",
        "new_folder_path = os.path.join(output_folder, new_folder_name)\n",
        "os.makedirs(new_folder_path, exist_ok=True)\n",
        "\n",
        "main_folders = [\"up\", \"center\", \"down\"]\n",
        "subfolders = [\"45_left\", \"center\", \"45_right\"]"
      ],
      "metadata": {
        "id": "Tq1LDntj93CD"
      },
      "execution_count": null,
      "outputs": []
    },
    {
      "cell_type": "code",
      "source": [
        "for main_folder in main_folders:\n",
        "    main_folder_path = os.path.join(new_folder_path, main_folder)\n",
        "    os.makedirs(main_folder_path, exist_ok=True)\n",
        "\n",
        "    for subfolder in subfolders:\n",
        "        subfolder_path = os.path.join(main_folder_path, subfolder)\n",
        "        os.makedirs(subfolder_path, exist_ok=True)\n",
        "\n",
        "        for folder_name in folders:\n",
        "            folder_path = os.path.join(subfolder_path, folder_name)\n",
        "            os.makedirs(folder_path, exist_ok=True)"
      ],
      "metadata": {
        "id": "iOjzrgLU-Crp"
      },
      "execution_count": null,
      "outputs": []
    },
    {
      "cell_type": "markdown",
      "source": [
        "удаление не .jpg файлов для более удобной сортировки\n"
      ],
      "metadata": {
        "id": "yrVzEx5R6YkZ"
      }
    },
    {
      "cell_type": "code",
      "source": [
        "def delete(base_folder):\n",
        "    for root, dirs, files in os.walk(base_folder):\n",
        "        for file in files:\n",
        "            file_path = os.path.join(root, file)\n",
        "            if not file.lower().endswith(\".jpg\"):\n",
        "                try:\n",
        "                    os.remove(file_path)\n",
        "                    print(f\"Удален файл: {file_path}\")\n",
        "                except Exception as e:\n",
        "                    print(f\"Ошибка: {file_path}: {e}\")\n",
        "\n",
        "delete(base_folder)"
      ],
      "metadata": {
        "id": "Lza-4CpkFEtK"
      },
      "execution_count": null,
      "outputs": []
    }
  ]
}