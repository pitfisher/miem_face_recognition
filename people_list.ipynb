{
  "nbformat": 4,
  "nbformat_minor": 0,
  "metadata": {
    "colab": {
      "provenance": [],
      "authorship_tag": "ABX9TyP3AZ/F2gFGJnvapCx5hJu9"
    },
    "kernelspec": {
      "name": "python3",
      "display_name": "Python 3"
    },
    "language_info": {
      "name": "python"
    }
  },
  "cells": [
    {
      "cell_type": "code",
      "execution_count": 1,
      "metadata": {
        "id": "ij0wJE-FrrCJ"
      },
      "outputs": [],
      "source": [
        "import os\n",
        "import pandas as pd\n",
        "from google.colab import drive"
      ]
    },
    {
      "cell_type": "code",
      "source": [
        "drive.mount('/content/drive')"
      ],
      "metadata": {
        "colab": {
          "base_uri": "https://localhost:8080/"
        },
        "id": "e7lVRXNCsRzT",
        "outputId": "d1ae05bd-fda3-4611-c441-6d7b4de83736"
      },
      "execution_count": 2,
      "outputs": [
        {
          "output_type": "stream",
          "name": "stdout",
          "text": [
            "Mounted at /content/drive\n"
          ]
        }
      ]
    },
    {
      "cell_type": "code",
      "source": [
        "dataset_folder = '/content/drive/MyDrive/face_dataset/dataset/upd_face_dataset/center/center'\n",
        "csv_save_path = '/content/drive/MyDrive/face_dataset/dataset/people_names.csv'\n",
        "\n",
        "people = [f for f in os.listdir(dataset_folder) if os.path.isdir(os.path.join(dataset_folder, f))]\n",
        "\n",
        "df = pd.DataFrame({\"names\": people})\n",
        "\n",
        "df.to_csv(csv_save_path, index=False)"
      ],
      "metadata": {
        "id": "ZZwBSdM1tBaq"
      },
      "execution_count": 12,
      "outputs": []
    }
  ]
}